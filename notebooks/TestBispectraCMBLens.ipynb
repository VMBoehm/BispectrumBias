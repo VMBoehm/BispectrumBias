{
 "cells": [
  {
   "cell_type": "code",
   "execution_count": null,
   "metadata": {},
   "outputs": [],
   "source": [
    "%matplotlib inline\n",
    "import matplotlib.pyplot as plt\n",
    "import pickle\n",
    "import numpy as np\n",
    "plt.style.use(['seaborn-colorblind','paper'])\n",
    "plt.style.use('classic')"
   ]
  },
  {
   "cell_type": "code",
   "execution_count": null,
   "metadata": {},
   "outputs": [],
   "source": [
    "ellpath=\"/home/nessa/Documents/Projects/LensingBispectrum/CMB-nonlinear/outputs/ells/\"\n",
    "specpath='/home/nessa/Documents/Projects/LensingBispectrum/CMB-nonlinear/outputs/bispectra/'"
   ]
  },
  {
   "cell_type": "code",
   "execution_count": null,
   "metadata": {},
   "outputs": [],
   "source": [
    "#equilat\n",
    "L,l,theta = pickle.load(open(ellpath+'ell_ang_equilat_Lmin10_Lmax10000_lmin10_lmax8000_lenL200_lenl220_lenang200_0e+00.pkl','r'))\n",
    "bi_equi_LSS = np.load(specpath+'bispec_CMBpostBornTest_equilat_Pratten_Paper_Lmin10-Lmax10000-lmax10000_halofit_SC.npy')\n",
    "bi_equi_pB = np.load(specpath+'bispec_CMBpostBornTest_equilat_Pratten_Paper_Lmin10-Lmax10000-lmax10000_halofit_SC_post_born.npy')\n",
    "bi_equi_pB_sum = np.load(specpath+'bispec_CMBpostBornTest_equilat_Pratten_Paper_Lmin10-Lmax10000-lmax10000_halofit_SC_post_born_sum.npy')\n",
    "\n",
    "plt.figure(figsize=(5,5))\n",
    "\n",
    "plt.loglog(L, bi_equi_LSS,label='LSS SC')\n",
    "plt.loglog(L, bi_equi_pB, label='post Born')\n",
    "plt.loglog(L, bi_equi_pB_sum, label='LSS+ post Born')\n",
    "plt.xlim(100,10000)\n",
    "plt.ylim(1e-20,1e-13)\n",
    "plt.legend(loc='lower left')\n",
    "plt.xlabel('L')\n",
    "plt.ylabel('$B(L,L,L)$')\n",
    "plotpath='/home/nessa/Documents/Projects/LensingBispectrum/CMB-nonlinear/Tests/CMBLensing/'\n",
    "plt.savefig(plotpath+'bispec_equilat.png',bbox_inches='tight')\n",
    "plt.show()\n"
   ]
  },
  {
   "cell_type": "code",
   "execution_count": null,
   "metadata": {},
   "outputs": [],
   "source": [
    "#folded\n",
    "L,l,theta = pickle.load(open(ellpath+'ell_ang_folded_Lmin10_Lmax10000_lmin10_lmax8000_lenL200_lenl220_lenang200_0e+00.pkl','r'))\n",
    "bi_equi_LSS = np.load(specpath+'bispec_CMBpostBornTest_folded_Pratten_Paper_Lmin10-Lmax10000-lmax5000_halofit_SC.npy')\n",
    "bi_equi_pB = np.load(specpath+'bispec_CMBpostBornTest_folded_Pratten_Paper_Lmin10-Lmax10000-lmax5000_halofit_SC_post_born.npy')\n",
    "bi_equi_pB_sum = np.load(specpath+'bispec_CMBpostBornTest_folded_Pratten_Paper_Lmin10-Lmax10000-lmax5000_halofit_SC_post_born_sum.npy')\n",
    "\n",
    "bi_equi_LSS2 = np.load(specpath+'bispec_CMBpostBornTest_2_folded_Pratten_Paper_Lmin10-Lmax10000-lmax5000_halofit_SC.npy')\n",
    "bi_equi_pB2 = np.load(specpath+'bispec_CMBpostBornTest_2_folded_Pratten_Paper_Lmin10-Lmax10000-lmax5000_halofit_SC_post_born.npy')\n",
    "bi_equi_pB_sum2 = np.load(specpath+'bispec_CMBpostBornTest_2_folded_Pratten_Paper_Lmin10-Lmax10000-lmax5000_halofit_SC_post_born_sum.npy')\n",
    "\n",
    "plt.figure(figsize=(5,5))\n",
    "\n",
    "plt.loglog(L, bi_equi_LSS,label='LSS SC')\n",
    "plt.loglog(L, -bi_equi_pB, label='post Born')\n",
    "plt.loglog(L, -bi_equi_pB_sum, label='LSS+ post Born')\n",
    "plt.loglog(L, bi_equi_pB_sum, label='LSS+ post Born')\n",
    "plt.loglog(L, bi_equi_LSS2,ls='--',label='LSS SC 2')\n",
    "plt.loglog(L, -bi_equi_pB2,ls='--', label='post Born 2')\n",
    "plt.loglog(L, -bi_equi_pB_sum2,ls='--', label='LSS+ post Born 2')\n",
    "plt.loglog(L, bi_equi_pB_sum2,ls='--', label='LSS+ post Born 2')\n",
    "plt.xlim(100,10000)\n",
    "plt.ylim(1e-20,1e-13)\n",
    "plt.legend(loc='best',ncol=2,fontsize=10)\n",
    "plt.xlabel('L')\n",
    "plt.ylabel('$B(L,L,L)$')\n",
    "plotpath='/home/nessa/Documents/Projects/LensingBispectrum/CMB-nonlinear/Tests/CMBLensing/'\n",
    "plt.savefig(plotpath+'bispec_folded.png',bbox_inches='tight')\n",
    "plt.show()"
   ]
  },
  {
   "cell_type": "code",
   "execution_count": null,
   "metadata": {},
   "outputs": [],
   "source": [
    "#equilat\n",
    "L,l,theta = pickle.load(open(ellpath+'ell_ang_equilat_Lmin10_Lmax10000_lmin10_lmax8000_lenL200_lenl220_lenang200_0e+00.pkl','r'))\n",
    "bi_equi_1 = np.load(specpath+'bispec_Pratten_retest1_equilat_Pratten_Paper_Lmin10-Lmax10000-lmax10000_halofit_SC.npy')\n",
    "bi_equi_1b = np.load(specpath+'bispec_Pratten_retest1b_equilat_Pratten_Paper_Lmin10-Lmax10000-lmax10000_halofit_SC.npy')\n",
    "bi_equi_2 = np.load(specpath+'bispec_Pratten_retest2_equilat_Pratten_Paper_Lmin10-Lmax10000-lmax10000_halofit_SC.npy')\n",
    "bi_equi_5 = np.load(specpath+'bispec_Pratten_retest5_equilat_Pratten_Paper_Lmin10-Lmax10000-lmax10000_halofit_SC.npy')\n",
    "bi_equi_cmb = np.load(specpath+'bispec_Pratten_retestcmb_equilat_Pratten_Paper_Lmin10-Lmax10000-lmax10000_halofit_SC.npy')\n",
    "bi_equi_1pB = np.load(specpath+'bispec_Pratten_retest1_equilat_Pratten_Paper_Lmin10-Lmax10000-lmax10000_halofit_SC_post_born.npy')\n",
    "bi_equi_2pB = np.load(specpath+'bispec_Pratten_retest2_equilat_Pratten_Paper_Lmin10-Lmax10000-lmax10000_halofit_SC_post_born.npy')\n",
    "bi_equi_5pB = np.load(specpath+'bispec_Pratten_retest5_equilat_Pratten_Paper_Lmin10-Lmax10000-lmax10000_halofit_SC_post_born.npy')\n",
    "bi_equi_cmbpB = np.load(specpath+'bispec_Pratten_retestcmb_equilat_Pratten_Paper_Lmin10-Lmax10000-lmax10000_halofit_SC_post_born.npy')\n",
    "\n",
    "#difference at low L most likely due to difference in Cls\n",
    "path='/home/nessa/Documents/Projects/LensingBispectrum/CMB-nonlinear/outputs/power_spectra/'\n",
    "cl1 = np.load(path+'CL_Pratten_retest1_equilat_Pratten_Paper_Lmin10-Lmax10000_halofit.npy')\n",
    "cl1b = np.load(path+'CL_Pratten_retest1b_equilat_Pratten_Paper_Lmin10-Lmax10000_halofit.npy')\n",
    "cl2 = np.load(path+'CL_Pratten_retest2_equilat_Pratten_Paper_Lmin10-Lmax10000_halofit.npy')\n",
    "cl5 = np.load(path+'CL_Pratten_retest5_equilat_Pratten_Paper_Lmin10-Lmax10000_halofit.npy')\n",
    "clcmb = np.load(path+'CL_Pratten_retestcmb_equilat_Pratten_Paper_Lmin10-Lmax10000_halofit.npy')\n",
    "\n",
    "plt.figure()\n",
    "plt.title('Fig.7 in 1605.05662')\n",
    "plt.loglog(L, L*bi_equi_1/np.sqrt(cl1**3))\n",
    "plt.loglog(L, L*bi_equi_2/np.sqrt(cl2**3))\n",
    "plt.loglog(L, L*bi_equi_5/np.sqrt(cl5**3))\n",
    "plt.loglog(L, L*bi_equi_cmb/np.sqrt(clcmb**3))\n",
    "plt.loglog(L, L*bi_equi_1pB/np.sqrt(cl1**3),ls='--')\n",
    "plt.loglog(L, L*bi_equi_2pB/np.sqrt(cl2**3),ls='--')\n",
    "plt.loglog(L, L*bi_equi_5pB/np.sqrt(cl5**3),ls='--')\n",
    "plt.loglog(L, L*bi_equi_cmbpB/np.sqrt(clcmb**3),ls='--')\n",
    "plt.loglog(L, L*bi_equi_1b/np.sqrt(cl1b**3),ls='--')\n",
    "plotpath='/home/nessa/Documents/Projects/LensingBispectrum/CMB-nonlinear/Tests/CMBLensing/'\n",
    "plt.savefig(plotpath+'bispec_red_dep.png',bbox_inches='tight')\n",
    "plt.show()\n"
   ]
  },
  {
   "cell_type": "code",
   "execution_count": null,
   "metadata": {},
   "outputs": [],
   "source": []
  }
 ],
 "metadata": {
  "kernelspec": {
   "display_name": "Python 2",
   "language": "python",
   "name": "python2"
  },
  "language_info": {
   "codemirror_mode": {
    "name": "ipython",
    "version": 2
   },
   "file_extension": ".py",
   "mimetype": "text/x-python",
   "name": "python",
   "nbconvert_exporter": "python",
   "pygments_lexer": "ipython2",
   "version": "2.7.14"
  }
 },
 "nbformat": 4,
 "nbformat_minor": 2
}
