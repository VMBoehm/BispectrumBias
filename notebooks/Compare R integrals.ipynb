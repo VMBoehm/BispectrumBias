{
 "cells": [
  {
   "cell_type": "code",
   "execution_count": null,
   "metadata": {},
   "outputs": [],
   "source": [
    "from __future__ import division\n",
    "import numpy as np\n",
    "import pickle\n",
    "import Cosmology as Cosmo\n",
    "import matplotlib.pyplot as plt"
   ]
  },
  {
   "cell_type": "code",
   "execution_count": null,
   "metadata": {},
   "outputs": [],
   "source": [
    "params  = Cosmo.SimulationCosmology\n",
    "tag     = params[0]['name']\n",
    "field   = 'tt'\n",
    "nl      = True\n",
    "div     = False\n",
    "\n",
    "thetaFWHMarcmin = 1.4\n",
    "noiseUkArcmin   = 6.\n",
    "l_max_T         = 4000\n",
    "l_max_P         = 4000\n",
    "len_ang         = 400\n",
    "len_l           = 6000\n",
    "\n",
    "\n",
    "\n",
    "Rpath   ='./R_files/'\n",
    "\n",
    "R2path  = './biasResults/lmin2_noise6_theta14/comp_6c/'"
   ]
  },
  {
   "cell_type": "code",
   "execution_count": null,
   "metadata": {},
   "outputs": [],
   "source": [
    "if div:\n",
    "    no_div='div25'\n",
    "else:\n",
    "    no_div='nodiv'\n",
    "\n",
    "if l_max_T!=l_max_P:\n",
    "    lmax='mixedlmax'\n",
    "else:\n",
    "    lmax=str(l_max_T)\n",
    "\n",
    "\n",
    "if nl:\n",
    "  nl_='_nl'\n",
    "else:\n",
    "  nl_=''"
   ]
  },
  {
   "cell_type": "code",
   "execution_count": null,
   "metadata": {},
   "outputs": [],
   "source": [
    "filename= Rpath+'R_'+str(int(noiseUkArcmin*10))+str(int(thetaFWHMarcmin*10))+'_%s%s_lmax%d.pkl'%(tag,nl_,l_max_T)\n",
    "\n",
    "LR, Rs   = pickle.load(open(filename,'r'))"
   ]
  },
  {
   "cell_type": "code",
   "execution_count": null,
   "metadata": {},
   "outputs": [],
   "source": [
    "LR2=[]\n",
    "Rs2a=[]\n",
    "Rs2b=[]\n",
    "for ii in np.arange(145):\n",
    "    filename=R2path+'Rs_%d_%d_%d.pkl'%(ii,len_ang,len_l)\n",
    "    if ii==93:\n",
    "        print R2path+'Rs_%d_%d_%d.pkl'%(ii,len_ang,len_l)\n",
    "\n",
    "    l,ra,rb= pickle.load(open(filename,'r'))\n",
    "    Rs2a+=[ra]\n",
    "    Rs2b+=[rb]\n",
    "    LR2+=[l]\n",
    "LR2=np.asarray(LR2)\n",
    "Rs2a=np.asarray(Rs2a)\n",
    "Rs2b=np.asarray(Rs2b)"
   ]
  },
  {
   "cell_type": "code",
   "execution_count": null,
   "metadata": {},
   "outputs": [],
   "source": [
    "plt.figure()\n",
    "plt.plot(LR,Rs[field]['perp'])\n",
    "plt.semilogx(LR,Rs[field]['para'])\n",
    "plt.plot(LR2,np.asarray(Rs2b),'--')\n",
    "plt.plot(LR2,np.asarray(Rs2a),':')\n",
    "plt.plot(LR,-Rs[field]['perp'])\n",
    "plt.semilogx(LR,-Rs[field]['para'])\n",
    "plt.plot(LR2,-np.asarray(Rs2b),'--')\n",
    "plt.loglog(LR2,-np.asarray(Rs2a),':')\n",
    "plt.xlim(2,2000)\n",
    "plt.show()"
   ]
  },
  {
   "cell_type": "code",
   "execution_count": null,
   "metadata": {},
   "outputs": [],
   "source": [
    "R1a=np.interp(LR2,LR,Rs[field]['para'])\n",
    "R1b=np.interp(LR2,LR,Rs[field]['perp'])\n",
    "plt.figure()\n",
    "plt.semilogx(LR2,(Rs2b-R1b)/R1b)\n",
    "plt.semilogx(LR2,(Rs2a-R1a)/R1a)"
   ]
  },
  {
   "cell_type": "code",
   "execution_count": null,
   "metadata": {},
   "outputs": [],
   "source": []
  },
  {
   "cell_type": "code",
   "execution_count": null,
   "metadata": {},
   "outputs": [],
   "source": []
  }
 ],
 "metadata": {
  "kernelspec": {
   "display_name": "Python 2",
   "language": "python",
   "name": "python2"
  },
  "language_info": {
   "codemirror_mode": {
    "name": "ipython",
    "version": 2
   },
   "file_extension": ".py",
   "mimetype": "text/x-python",
   "name": "python",
   "nbconvert_exporter": "python",
   "pygments_lexer": "ipython2",
   "version": "2.7.14"
  }
 },
 "nbformat": 4,
 "nbformat_minor": 2
}
