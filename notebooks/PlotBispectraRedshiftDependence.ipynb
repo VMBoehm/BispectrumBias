{
 "cells": [
  {
   "cell_type": "code",
   "execution_count": null,
   "metadata": {},
   "outputs": [],
   "source": [
    "import numpy as np\n",
    "import pickle\n",
    "import matplotlib.pyplot as plt"
   ]
  },
  {
   "cell_type": "code",
   "execution_count": null,
   "metadata": {},
   "outputs": [],
   "source": [
    "path_bispec='/home/nessa/Documents/Projects/LensingBispectrum/CMB-nonlinear/outputs/bispectra/'\n",
    "path_powspec='/home/nessa/Documents/Projects/LensingBispectrum/CMB-nonlinear/outputs/power_spectra/'\n"
   ]
  },
  {
   "cell_type": "code",
   "execution_count": null,
   "metadata": {},
   "outputs": [],
   "source": [
    "ll,clpp,zmaxs=pickle.load(open(path_powspec+'cl_pp_zbins_Pratten_Paper_nl.pkl','r'))\n",
    "\n",
    "print zmaxs"
   ]
  },
  {
   "cell_type": "code",
   "execution_count": null,
   "metadata": {},
   "outputs": [],
   "source": [
    "plt.figure()\n",
    "for clpp_,z in zip(clpp,zmaxs):\n",
    "    plt.semilogx(ll,(ll*(ll+1))**2*clpp_*1.05,label='z<%d'%z)\n",
    "plt.legend()\n",
    "plt.grid()\n",
    "plt.show()"
   ]
  },
  {
   "cell_type": "code",
   "execution_count": null,
   "metadata": {},
   "outputs": [],
   "source": []
  },
  {
   "cell_type": "code",
   "execution_count": null,
   "metadata": {},
   "outputs": [],
   "source": [
    "bi_phi_LSS=[]\n",
    "bi_phi_pB=[]\n",
    "bi_phi_sum=[]\n",
    "tags=['zcmb']\n",
    "for tag in tags:\n",
    "    print tag\n",
    "    filename1=path_bispec+'bispec_phi_kkk_equilatanalytic_red_dis_lnPs_Bfit_Pratten_Paper%s_Lmin1-Lmax10000-lmax10000-lenBi250_SC'%(tag)\n",
    "    filename2=path_bispec+'bispec_phi_kkk_equilatanalytic_red_dis_lnPs_Bfit_Pratten_Paper%s_Lmin1-Lmax10000-lmax10000-lenBi250_GM_post_born'%(tag)\n",
    "    filename3=path_bispec+'bispec_phi_kkk_equilatanalytic_red_dis_lnPs_Bfit_Pratten_Paper%s_Lmin1-Lmax10000-lmax10000-lenBi250_GM_post_born_sum'%(tag)\n",
    "    bi_phi_LSS+=[np.load(filename1+'.npy')]\n",
    "    bi_phi_pB+=[np.load(filename2+'.npy')]\n",
    "    bi_phi_sum+=[np.load(filename3+'.npy')]\n",
    "\n",
    "#CLASS Cls\n",
    "ell_file='/home/nessa/Documents/Projects/LensingBispectrum/CMB-nonlinear/outputs/ells/'+'ell_ang_equilat_Lmin1_Lmax10000_lmin1_lmax10000_lenL200_lenl220_lenang200_1e-04.pkl'\n",
    "L,l,theta=pickle.load(open(ell_file, 'r'))\n",
    "plt.style.use('classic')\n",
    "colors=['black', 'm','y','blue','black']\n",
    "plt.figure()\n",
    "for nn in range(1):\n",
    "    print nn\n",
    "    plt.loglog(L,L*bi_phi_LSS[nn]/np.sqrt(np.interp(L,ll,clpp[-1])**3),color=colors[nn],label=zmaxs[-1])\n",
    "    plt.loglog(L,L*bi_phi_pB[nn]/np.sqrt(np.interp(L,ll,clpp[-1])**3),color=colors[nn], ls='--')\n",
    "plt.grid()\n",
    "plt.xlim(10,10000)\n",
    "plt.ylim(1e-3,1e1)\n",
    "plt.tick_params(labelright=True)\n",
    "plt.savefig('./validation_plots/equilat_zcmb_overcl_SCfit.pdf')\n",
    "plt.show()\n"
   ]
  },
  {
   "cell_type": "markdown",
   "metadata": {},
   "source": [
    "agrees completeley with Figure in Pratten et al. (note that this is done with the power spectrum calculated by myself and not CLASS)"
   ]
  },
  {
   "cell_type": "code",
   "execution_count": null,
   "metadata": {},
   "outputs": [],
   "source": [
    "\n",
    "plt.style.use('classic')\n",
    "colors=['r', 'm','y','blue','black']\n",
    "plt.figure()\n",
    "for nn in range(1):\n",
    "    print nn\n",
    "    plt.loglog(L,L**6/8.*bi_phi_LSS[nn],color=colors[nn],label=zmaxs[-1])\n",
    "    plt.loglog(L,L**6/8.*bi_phi_pB[nn],color=colors[nn], ls='--')\n",
    "    plt.loglog(L,L**6/8.*bi_phi_sum[nn],color='black', ls='-')\n",
    "plt.grid()\n",
    "plt.ylim(1e-20,1e-13)\n",
    "plt.xlim(100,10000)\n",
    "plt.tick_params(labelright=True)\n",
    "plt.savefig('./validation_plots/equilat_zcmb_SCfit.pdf')\n",
    "plt.show()"
   ]
  },
  {
   "cell_type": "markdown",
   "metadata": {},
   "source": [
    "agrees very well with Pratten et al"
   ]
  },
  {
   "cell_type": "code",
   "execution_count": null,
   "metadata": {},
   "outputs": [],
   "source": [
    "bi_phi_LSS=[]\n",
    "bi_phi_pB=[]\n",
    "bi_phi_sum=[]\n",
    "tags=['lowz1s']\n",
    "for tag in tags:\n",
    "    print tag\n",
    "    filename1=path_bispec+'bispec_phi_kkk_equilatanalytic_red_dis_lnPs_Bfit_Pratten_Paper%s_Lmin1-Lmax10000-lmax10000-lenBi250'%(tag)\n",
    "    filename2=path_bispec+'bispec_phi_kkk_equilatanalytic_red_dis_lnPs_Bfit_Pratten_Paperlowz1s_Lmin1-Lmax10000-lmax10000-lenBi250_SC_post_born'#%(tag)\n",
    "    filename3=path_bispec+'bispec_phi_kkk_equilatanalytic_red_dis_lnPs_Bfit_Pratten_Paper%s_Lmin1-Lmax10000-lmax10000-lenBi250_post_born'%(tag)\n",
    "    bi_phi_LSS+=[np.load(filename1+'.npy')]\n",
    "    bi_phi_pB+=[np.load(filename2+'.npy')]\n",
    "    bi_phi_sum+=[np.load(filename3+'.npy')]\n",
    "\n",
    "#CLASS Cls\n",
    "ell_file='/home/nessa/Documents/Projects/LensingBispectrum/CMB-nonlinear/outputs/ells/'+'ell_ang_equilat_Lmin1_Lmax10000_lmin1_lmax10000_lenL200_lenl220_lenang200_1e-04.pkl'\n",
    "L,l,theta=pickle.load(open(ell_file, 'r'))\n",
    "ell_file='/home/nessa/Documents/Projects/LensingBispectrum/CMB-nonlinear/outputs/ells/'+'ell_ang_equilat_Lmin1_Lmax3000_lmin1_lmax10000_lenL120_lenl150_lenang120_1e-04.pkl'\n",
    "L_,l_,theta=pickle.load(open(ell_file, 'r'))\n",
    "plt.style.use('classic')\n",
    "colors=['red', 'm','y','blue','black']\n",
    "plt.figure()\n",
    "for nn in range(1):\n",
    "    print nn\n",
    "    plt.loglog(L,L*bi_phi_LSS[nn]/np.sqrt(np.interp(L,ll,clpp[0])**3),color=colors[nn],label=zmaxs[-1])\n",
    "    plt.loglog(L,L*bi_phi_sum[nn]/np.sqrt(np.interp(L,ll,clpp[0])**3),color=colors[nn],label=zmaxs[-1])\n",
    "    plt.loglog(L,L*bi_phi_pB[nn]/np.sqrt(np.interp(L,ll,clpp[0])**3),color='black',ls='--')\n",
    "plt.grid()\n",
    "plt.xlim(10,10000)\n",
    "plt.ylim(1e-3,1e1)\n",
    "plt.tick_params(labelright=True)\n",
    "plt.show()"
   ]
  },
  {
   "cell_type": "code",
   "execution_count": null,
   "metadata": {},
   "outputs": [],
   "source": [
    "ell_file='/home/nessa/Documents/Projects/LensingBispectrum/CMB-nonlinear/outputs/ells/'+'ell_ang_folded_Lmin1_Lmax10000_lmin1_lmax10000_lenL200_lenl220_lenang200_1e-04.pkl'\n",
    "L,l,theta=pickle.load(open(ell_file, 'r'))"
   ]
  },
  {
   "cell_type": "code",
   "execution_count": null,
   "metadata": {},
   "outputs": [],
   "source": []
  },
  {
   "cell_type": "code",
   "execution_count": null,
   "metadata": {},
   "outputs": [],
   "source": [
    "bi_phi_LSS=[]\n",
    "bi_phi_LSSa=[]\n",
    "bi_phi_pB=[]\n",
    "bi_phi_sum=[]\n",
    "bi_phi_sum2=[]\n",
    "\n",
    "tags=['zcmb']\n",
    "for tag in tags:\n",
    "    print tag\n",
    "    filename1=path_bispec+'bispec_phi_kkk_foldedanalytic_red_dis_lnPs_Bfit_Pratten_Paper%s_Lmin1-Lmax10000-lmax5000-lenBi250'%(tag)\n",
    "    filename1a=path_bispec+'bispec_phi_kkk_foldedanalytic_red_dis_lnPs_Bfit_Pratten_Paper%s_Lmin1-Lmax10000-lmax5000-lenBi250_GM'%(tag)\n",
    "    filename2=path_bispec+'bispec_phi_kkk_foldedanalytic_red_dis_lnPs_Bfit_Pratten_Paper%s_Lmin1-Lmax10000-lmax5000-lenBi250_GM_post_born'%(tag)\n",
    "    filename3=path_bispec+'bispec_phi_kkk_foldedanalytic_red_dis_lnPs_Bfit_Pratten_Paper%s_Lmin1-Lmax10000-lmax5000-lenBi250_post_born_sum'%(tag)\n",
    "    bi_phi_LSS+=[np.load(filename1+'.npy')]\n",
    "    bi_phi_LSSa+=[np.load(filename1a+'.npy')]\n",
    "    bi_phi_pB+=[np.load(filename2+'.npy')]\n",
    "    bi_phi_sum+=[np.load(filename3+'.npy')]\n",
    "#CLASS Cls\n",
    "class_params,cl_unl,cl_len=pickle.load(open('/home/nessa/Documents/Projects/LensingBispectrum/class_outputs/class_cls_Pratten_Paper_nl.pkl','r'))\n",
    "# clpp=cl_len['pp'][1::]\n",
    "# ll=cl_len['ell'][1::]\n",
    "print(max(ll))\n",
    "print(min(ll))\n",
    "plt.style.use('classic')\n",
    "colors=['r', 'm','y','blue','black']\n",
    "plt.figure()\n",
    "for nn in range(1):\n",
    "    print nn\n",
    "    plt.loglog(L,L*bi_phi_LSS[nn]/np.sqrt(np.interp(L,ll,clpp[-1])*np.interp(L/2.,ll,clpp[-1])**2),color=colors[nn],label=zmaxs[-1])\n",
    "    plt.loglog(L,L*bi_phi_LSSa[nn]/np.sqrt(np.interp(L,ll,clpp[-1])*np.interp(L/2.,ll,clpp[-1])**2),color='black',label=zmaxs[-1])\n",
    "    plt.loglog(L,-L*bi_phi_pB[nn]/np.sqrt(np.interp(L,ll,clpp[-1])*np.interp(L/2.,ll,clpp[-1])**2),color=colors[nn], ls='--')\n",
    "    #plt.loglog(L,L*bi_phi_sum[nn]/np.sqrt(np.interp(L,ll,clpp[-1])*np.interp(L/2.,ll,clpp[-1])**2),color='c', ls='--')\n",
    "\n",
    "plt.grid()\n",
    "plt.xlim(10,10000)\n",
    "plt.ylim(1e-4,1e1)\n",
    "\n",
    "plt.tick_params(labelright=True)\n",
    "plt.savefig('./validation_plots/folded_zcmb_overcl_fits.pdf')\n",
    "plt.show()"
   ]
  },
  {
   "cell_type": "markdown",
   "metadata": {},
   "source": [
    "agrees well with Pratten et al. Slight difference for LSS bispectrum at low L"
   ]
  },
  {
   "cell_type": "code",
   "execution_count": null,
   "metadata": {
    "scrolled": true
   },
   "outputs": [],
   "source": [
    "plt.style.use('classic')\n",
    "colors=['r', 'm','y','blue','black']\n",
    "plt.figure()\n",
    "for nn in range(1):\n",
    "    print nn\n",
    "    plt.loglog(L,L**6/128.*bi_phi_LSS[nn],color=colors[nn],label=zmaxs[-1])\n",
    "    plt.loglog(L,L**6/128.*bi_phi_LSSa[nn],color=colors[nn+1],label=zmaxs[-1])\n",
    "    plt.loglog(L,-L**6/128.*bi_phi_pB[nn],color=colors[nn], ls='--')\n",
    "    plt.loglog(L,-L**6/128.*bi_phi_sum[nn],ls='-',color='black')\n",
    "    plt.loglog(L,L**6/128.*bi_phi_sum[nn], ls='-',color='black')\n",
    "    plt.loglog(L,-L**6/128.*(bi_phi_pB[nn]+bi_phi_LSSa[nn]),ls='-',color='b')\n",
    "    plt.loglog(L,L**6/128.*(bi_phi_pB[nn]+bi_phi_LSSa[nn]), ls='-',color='b')\n",
    "    \n",
    "plt.grid()\n",
    "plt.ylim(1e-20,1e-13)\n",
    "plt.xlim(100,10000)\n",
    "plt.tick_params(labelright=True)\n",
    "plt.savefig('./validation_plots/folded_zcmb_SCfit.pdf')\n",
    "plt.show()"
   ]
  },
  {
   "cell_type": "markdown",
   "metadata": {},
   "source": [
    "agrees well apart of wiggles (they probably us smoothed power spectrum)"
   ]
  },
  {
   "cell_type": "code",
   "execution_count": null,
   "metadata": {},
   "outputs": [],
   "source": [
    "#alternative cl_kappa\n",
    "import camb\n",
    "from camb import model\n",
    "pars = camb.CAMBparams()\n",
    "CLASSparams=class_params\n",
    "A_s=CLASSparams['A_s']\n",
    "zsource=1\n",
    "pars.set_cosmology(H0=CLASSparams['h']*100, ombh2=CLASSparams['omega_b'], omch2=CLASSparams['omega_cdm'],omk=CLASSparams['Omega_k'],num_massive_neutrinos=0, mnu=0.0, nnu=3.046)\n",
    "pars.InitPower.set_params(As=A_s,ns=CLASSparams['n_s'],  pivot_scalar=CLASSparams['k_pivot'])\n",
    "results= camb.get_background(pars)\n",
    "chistar = results.conformal_time(0)-results.conformal_time(zsource)\n",
    "\n",
    "k_per_logint = None\n",
    "NL=True\n",
    "kmax=100\n",
    "kmin=1e-4\n",
    "chicmb = results.conformal_time(0)- model.tau_maxvis.value\n",
    "zmax = results.redshift_at_comoving_radial_distance(chistar)\n",
    "\n",
    "\n",
    "PK = camb.get_matter_power_interpolator(pars, nonlinear=NL, \n",
    "    hubble_units=False, k_hunit=False, kmax=kmax,k_per_logint=k_per_logint,\n",
    "    var1=model.Transfer_Weyl,var2=model.Transfer_Weyl, zmax=zmax)\n"
   ]
  },
  {
   "cell_type": "code",
   "execution_count": null,
   "metadata": {},
   "outputs": [],
   "source": [
    "def cl_kappa(chi_source, chi_source2=None):\n",
    "    chi_source = np.float64(chi_source)\n",
    "    if chi_source2 is None: \n",
    "        chi_source2 = chi_source\n",
    "    else:\n",
    "        chi_source2 = np.float64(chi_source2)\n",
    "        print chi_source2\n",
    "    chis = np.linspace(0,chi_source,nz, dtype=np.float64)\n",
    "    zs=results.redshift_at_comoving_radial_distance(chis)\n",
    "    dchis = (chis[2:]-chis[:-2])/2\n",
    "    chis = chis[1:-1]\n",
    "    zs = zs[1:-1]\n",
    "    win = (1/chis-1/chi_source)*(1/chis-1/chi_source2)/chis**2\n",
    "    cl=np.zeros(ls.shape)\n",
    "    w = np.ones(chis.shape)\n",
    "    for i, l in enumerate(ls):\n",
    "        k=(l+0.5)/chis\n",
    "        w[:]=1\n",
    "        w[k<1e-4]=0\n",
    "        w[k>=kmax]=0\n",
    "        cl[i] = np.dot(dchis,\n",
    "            w*PK.P(zs, k, grid=False)*win/k**4)\n",
    "    #cl*= ls**4 #(ls*(ls+1))**2\n",
    "    return cl\n"
   ]
  },
  {
   "cell_type": "code",
   "execution_count": null,
   "metadata": {},
   "outputs": [],
   "source": [
    "acc=4\n",
    "lmax=10000\n",
    "ls = np.hstack((np.arange(2, 400, 1),np.arange(401, 2600, 10//acc),np.arange(2650, lmax, 50//acc),np.arange(lmax,lmax+1))).astype(np.float64)\n",
    "nz = 200*acc\n",
    "nchimax = 10\n",
    "\n",
    "chimaxs=[]\n",
    "for z in [1.,2.,3.,5.]:\n",
    "    chimaxs+=[results.conformal_time(0)-results.conformal_time(z)]\n",
    "chimaxs+=[chicmb]\n",
    "print chimaxs\n",
    "cls = []\n",
    "for i, chimax in enumerate(chimaxs):\n",
    "    cl = cl_kappa(chimax)\n",
    "    cls+=[cl]\n",
    "    plt.semilogx(ls,ls**4*cl)\n"
   ]
  },
  {
   "cell_type": "code",
   "execution_count": null,
   "metadata": {},
   "outputs": [],
   "source": [
    "plt.figure()\n",
    "colors=['r', 'm','y','blue','black']\n",
    "ii=0\n",
    "for clpp_, cl in zip(clpp,cls):\n",
    "    plt.semilogx(ll,ll**4*clpp_/4.,color=colors[ii])\n",
    "    plt.semilogx(ls,ls**4*cl,ls='--',color=colors[ii])\n",
    "    ii+=1\n",
    "    \n"
   ]
  },
  {
   "cell_type": "markdown",
   "metadata": {},
   "source": [
    "maybe they change the source redshift! "
   ]
  },
  {
   "cell_type": "code",
   "execution_count": null,
   "metadata": {},
   "outputs": [],
   "source": [
    "bi_phi_LSS=[]\n",
    "bi_phi_pB=[]\n",
    "bi_phi_sum=[]\n",
    "ell_file='/home/nessa/Documents/Projects/LensingBispectrum/CMB-nonlinear/outputs/ells/'+'ell_ang_equilat_Lmin1_Lmax10000_lmin1_lmax10000_lenL200_lenl220_lenang200_1e-04.pkl'\n",
    "L,l,theta=pickle.load(open(ell_file, 'r'))\n",
    "\n",
    "tags=['lowz1s']\n",
    "for tag in tags:\n",
    "    print tag\n",
    "    filename1=path_bispec+'bispec_phi_kkk_equilatanalytic_red_dis_lnPs_Bfit_Pratten_Paper%s_Lmin1-Lmax10000-lmax10000-lenBi250'%(tag)\n",
    "    filename2=path_bispec+'bispec_phi_kkk_equilatanalytic_red_dis_lnPs_Bfit_Pratten_Paperlowz1s_Lmin1-Lmax10000-lmax10000-lenBi250_SC'#%(tag)\n",
    "    filename3=path_bispec+'bispec_phi_kkk_equilatanalytic_red_dis_lnPs_Bfit_Pratten_Paper%s_Lmin1-Lmax10000-lmax10000-lenBi250_post_born_sum'%(tag)\n",
    "    bi_phi_LSS+=[np.load(filename1+'.npy')]\n",
    "    bi_phi_pB+=[np.load(filename2+'.npy')]\n",
    "    bi_phi_sum+=[np.load(filename3+'.npy')]\n",
    "\n",
    "plt.style.use('classic')\n",
    "colors=['r', 'm','y','blue','black']\n",
    "plt.figure()\n",
    "for nn in range(1):\n",
    "    print nn\n",
    "    plt.loglog(L,L*bi_phi_LSS[nn]/np.sqrt(np.interp(L,ls,cls[0]*4)*np.interp(L,ls,cls[0]*4)**2),color=colors[nn],label=zmaxs[-1])\n",
    "    plt.loglog(L,L*bi_phi_pB[nn]/np.sqrt(np.interp(L,ls,cls[0]*4)*np.interp(L,ls,cls[0]*4)**2),color='black', ls='--')\n",
    "plt.grid()\n",
    "plt.xlim(10,10000)\n",
    "plt.ylim(1e-4,1e1)\n",
    "plt.tick_params(labelright=True)\n",
    "plt.savefig('./validation_plots/equilat_lowz1s_overcl_SCfit.pdf')\n",
    "plt.show()"
   ]
  },
  {
   "cell_type": "markdown",
   "metadata": {},
   "source": [
    "ok, also take the lensing kernel to zmax!"
   ]
  },
  {
   "cell_type": "code",
   "execution_count": null,
   "metadata": {},
   "outputs": [],
   "source": [
    "bi_phi_LSS=[]\n",
    "bi_phi_pB=[]\n",
    "bi_phi_sum=[]\n",
    "ell_file='/home/nessa/Documents/Projects/LensingBispectrum/CMB-nonlinear/outputs/ells/'+'ell_ang_equilat_Lmin1_Lmax10000_lmin1_lmax10000_lenL200_lenl220_lenang200_1e-04.pkl'\n",
    "L,l,theta=pickle.load(open(ell_file, 'r'))\n",
    "\n",
    "tags=['lowz5s']\n",
    "for tag in tags:\n",
    "    print tag\n",
    "    filename1=path_bispec+'bispec_phi_kkk_equilatanalytic_red_dis_lnPs_Bfit_Pratten_Paper%s_Lmin1-Lmax10000-lmax10000-lenBi250'%(tag)\n",
    "    filename2=path_bispec+'bispec_phi_kkk_equilatanalytic_red_dis_lnPs_Bfit_Pratten_Paper%s_Lmin1-Lmax10000-lmax10000-lenBi250_post_born'%(tag)\n",
    "    filename3=path_bispec+'bispec_phi_kkk_equilatanalytic_red_dis_lnPs_Bfit_Pratten_Paper%s_Lmin1-Lmax10000-lmax10000-lenBi250_post_born_sum'%(tag)\n",
    "    bi_phi_LSS+=[np.load(filename1+'.npy')]\n",
    "    bi_phi_pB+=[np.load(filename2+'.npy')]\n",
    "    bi_phi_sum+=[np.load(filename3+'.npy')]\n",
    "\n",
    "plt.style.use('classic')\n",
    "colors=['r', 'm','y','blue','black']\n",
    "plt.figure()\n",
    "for nn in range(1):\n",
    "    print nn\n",
    "    plt.loglog(L,L*bi_phi_LSS[nn]/np.sqrt(np.interp(L,ls,cls[3]*4)*np.interp(L,ls,cls[3]*4)**2),color=colors[nn],label=zmaxs[-1])\n",
    "    plt.loglog(L,L*bi_phi_pB[nn]/np.sqrt(np.interp(L,ls,cls[3]*4)*np.interp(L,ls,cls[3]*4)**2),color=colors[nn], ls='--')\n",
    "plt.grid()\n",
    "plt.xlim(10,10000)\n",
    "plt.ylim(1e-4,1e1)\n",
    "plt.tick_params(labelright=True)\n",
    "plt.savefig('./validation_plots/equilat_lowz5s_overcl_SCfit.pdf')\n",
    "plt.show()"
   ]
  },
  {
   "cell_type": "markdown",
   "metadata": {},
   "source": [
    "check red dependence of nonlinear model, try other model"
   ]
  },
  {
   "cell_type": "code",
   "execution_count": null,
   "metadata": {
    "scrolled": true
   },
   "outputs": [],
   "source": [
    "bi_phi_LSS=[]\n",
    "bi_phi_pB=[]\n",
    "bi_phi_sum=[]\n",
    "ell_file='/home/nessa/Documents/Projects/LensingBispectrum/CMB-nonlinear/outputs/ells/'+'ell_ang_equilat_Lmin1_Lmax10000_lmin1_lmax10000_lenL200_lenl220_lenang200_1e-04.pkl'\n",
    "L,l,theta=pickle.load(open(ell_file, 'r'))\n",
    "\n",
    "tags=['lowz5s']\n",
    "for tag in tags:\n",
    "    print tag\n",
    "    filename1=path_bispec+'bispec_phi_kkk_foldedanalytic_red_dis_lnPs_Bfit_Pratten_Paper%s_Lmin1-Lmax10000-lmax5000-lenBi250'%(tag)\n",
    "    filename2=path_bispec+'bispec_phi_kkk_foldedanalytic_red_dis_lnPs_Bfit_Pratten_Paper%s_Lmin1-Lmax10000-lmax5000-lenBi250_post_born'%(tag)\n",
    "    filename3=path_bispec+'bispec_phi_kkk_foldedanalytic_red_dis_lnPs_Bfit_Pratten_Paper%s_Lmin1-Lmax10000-lmax5000-lenBi250_post_born_sum'%(tag)\n",
    "    bi_phi_LSS+=[np.load(filename1+'.npy')]\n",
    "    bi_phi_pB+=[np.load(filename2+'.npy')]\n",
    "    bi_phi_sum+=[np.load(filename3+'.npy')]\n",
    "\n",
    "plt.style.use('classic')\n",
    "colors=['r', 'm','y','blue','black']\n",
    "plt.figure()\n",
    "for nn in range(1):\n",
    "    print nn\n",
    "    plt.loglog(L,L*bi_phi_LSS[nn]/np.sqrt(np.interp(L,ls,cls[3]*4)*np.interp(L/2,ls,cls[3]*4)**2),color=colors[nn],label=zmaxs[-1])\n",
    "    plt.loglog(L,-L*bi_phi_pB[nn]/np.sqrt(np.interp(L,ls,cls[3]*4)*np.interp(L/2,ls,cls[3]*4)**2),color=colors[nn], ls='--')\n",
    "plt.grid()\n",
    "plt.xlim(10,10000)\n",
    "plt.ylim(1e-4,1e1)\n",
    "plt.tick_params(labelright=True)\n",
    "plt.savefig('./validation_plots/folded_lowz5s_overcl_SCfit.pdf')\n",
    "plt.show()"
   ]
  },
  {
   "cell_type": "code",
   "execution_count": null,
   "metadata": {},
   "outputs": [],
   "source": [
    "bi_phi_LSS=[]\n",
    "bi_phi_pB=[]\n",
    "bi_phi_sum=[]\n",
    "ell_file='/home/nessa/Documents/Projects/LensingBispectrum/CMB-nonlinear/outputs/ells/'+'ell_ang_folded_Lmin1_Lmax10000_lmin1_lmax10000_lenL200_lenl220_lenang200_1e-04.pkl'\n",
    "L,l,theta=pickle.load(open(ell_file, 'r'))\n",
    "\n",
    "tags=['lowz1s']\n",
    "for tag in tags:\n",
    "    print tag\n",
    "    filename1=path_bispec+'bispec_phi_kkk_foldedanalytic_red_dis_lnPs_Bfit_Pratten_Paper%s_Lmin1-Lmax10000-lmax5000-lenBi250_SC'%(tag)\n",
    "    filename2=path_bispec+'bispec_phi_kkk_foldedanalytic_red_dis_lnPs_Bfit_Pratten_Paper%s_Lmin1-Lmax10000-lmax5000-lenBi250_SC'%(tag)\n",
    "    filename3=path_bispec+'bispec_phi_kkk_foldedanalytic_red_dis_lnPs_Bfit_Pratten_Paper%s_Lmin1-Lmax10000-lmax5000-lenBi250_SC_post_born_sum'%(tag)\n",
    "    bi_phi_LSS+=[np.load(filename1+'.npy')]\n",
    "    bi_phi_pB+=[np.load(filename2+'.npy')]\n",
    "    bi_phi_sum+=[np.load(filename3+'.npy')]\n",
    "\n",
    "plt.style.use('classic')\n",
    "colors=['r', 'm','y','blue','black']\n",
    "plt.figure()\n",
    "for nn in range(1):\n",
    "    print nn\n",
    "    plt.loglog(L,L*bi_phi_LSS[nn]/np.sqrt(np.interp(L,ls,cls[0]*4)*np.interp(L/2,ls,cls[0]*4)**2),color=colors[nn],label=zmaxs[-1])\n",
    "    plt.loglog(L,L*bi_phi_pB[nn]/np.sqrt(np.interp(L,ls,cls[0]*4)*np.interp(L/2,ls,cls[0]*4)**2),color='black', ls='--')\n",
    "plt.grid()\n",
    "plt.xlim(10,10000)\n",
    "plt.ylim(1e-4,1e1)\n",
    "plt.tick_params(labelright=True)\n",
    "plt.savefig('./validation_plots/folded_lowz1s_overcl_SCfit.pdf')\n",
    "plt.show()"
   ]
  },
  {
   "cell_type": "code",
   "execution_count": null,
   "metadata": {},
   "outputs": [],
   "source": []
  }
 ],
 "metadata": {
  "kernelspec": {
   "display_name": "Python 2",
   "language": "python",
   "name": "python2"
  },
  "language_info": {
   "codemirror_mode": {
    "name": "ipython",
    "version": 2
   },
   "file_extension": ".py",
   "mimetype": "text/x-python",
   "name": "python",
   "nbconvert_exporter": "python",
   "pygments_lexer": "ipython2",
   "version": "2.7.14"
  }
 },
 "nbformat": 4,
 "nbformat_minor": 1
}
