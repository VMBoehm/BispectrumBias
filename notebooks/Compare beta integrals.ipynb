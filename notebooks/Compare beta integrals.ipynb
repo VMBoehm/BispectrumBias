{
 "cells": [
  {
   "cell_type": "code",
   "execution_count": null,
   "metadata": {},
   "outputs": [],
   "source": [
    "from __future__ import division\n",
    "import numpy as np\n",
    "import pickle\n",
    "import Cosmology as Cosmo\n",
    "import matplotlib.pyplot as plt"
   ]
  },
  {
   "cell_type": "code",
   "execution_count": null,
   "metadata": {},
   "outputs": [],
   "source": [
    "bispec_tag='comp_6c'\n",
    "len_ang         = 100\n",
    "len_l           = 5000\n",
    "Ipath   ='./outputs/integrals/'\n",
    "filename=Ipath+'I0I1I2kkk_fullanalytic_red_dis_lnPs_Bfit_Jias_Simulationsim_%s_postBorn.pkl'%bispec_tag\n",
    "params,L_s,Int0,Int2 = pickle.load(open(filename,'r'))"
   ]
  },
  {
   "cell_type": "code",
   "execution_count": null,
   "metadata": {},
   "outputs": [],
   "source": [
    "R2path  = './biasResults/lmin2_noise6_theta14/comp_6c/'"
   ]
  },
  {
   "cell_type": "code",
   "execution_count": null,
   "metadata": {},
   "outputs": [],
   "source": [
    "LR2=[]\n",
    "Rs2a=[]\n",
    "Rs2b=[]\n",
    "for ii in np.arange(145):\n",
    "    filename=R2path+'betas_%d_%d_%d.pkl'%(ii,len_ang,len_l)\n",
    "\n",
    "    l,ra,rb= pickle.load(open(filename,'r'))\n",
    "    Rs2a+=[ra]\n",
    "    Rs2b+=[rb]\n",
    "    LR2+=[l]\n",
    "LR2=np.asarray(LR2)\n",
    "Rs2a=np.asarray(Rs2a)\n",
    "Rs2b=np.asarray(Rs2b)"
   ]
  },
  {
   "cell_type": "code",
   "execution_count": null,
   "metadata": {},
   "outputs": [],
   "source": [
    "plt.figure()\n",
    "plt.semilogx(L_s,L_s**4*Int2)\n",
    "plt.plot(L_s,L_s**4*Int0)\n",
    "plt.plot(LR2,LR2**4*Rs2b)\n",
    "plt.plot(LR2,LR2**4*Rs2a)\n",
    "plt.xlim(2,2000)"
   ]
  },
  {
   "cell_type": "code",
   "execution_count": null,
   "metadata": {},
   "outputs": [],
   "source": [
    "Int2=np.interp(LR2,L_s,Int2)\n",
    "Int0=np.interp(LR2,L_s,Int0)\n"
   ]
  },
  {
   "cell_type": "code",
   "execution_count": null,
   "metadata": {},
   "outputs": [],
   "source": [
    "plt.figure()\n",
    "plt.semilogx(LR2,(Int0-Rs2b)/Rs2b)\n",
    "plt.semilogx(LR2,(Int2-Rs2a)/Rs2a)"
   ]
  },
  {
   "cell_type": "code",
   "execution_count": null,
   "metadata": {},
   "outputs": [],
   "source": []
  }
 ],
 "metadata": {
  "kernelspec": {
   "display_name": "Python 2",
   "language": "python",
   "name": "python2"
  },
  "language_info": {
   "codemirror_mode": {
    "name": "ipython",
    "version": 2
   },
   "file_extension": ".py",
   "mimetype": "text/x-python",
   "name": "python",
   "nbconvert_exporter": "python",
   "pygments_lexer": "ipython2",
   "version": "2.7.14"
  }
 },
 "nbformat": 4,
 "nbformat_minor": 2
}
