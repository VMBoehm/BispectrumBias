{
 "cells": [
  {
   "cell_type": "code",
   "execution_count": null,
   "metadata": {},
   "outputs": [],
   "source": [
    "from __future__ import division\n",
    "import numpy as np\n",
    "import pickle\n",
    "import Cosmology as Cosmo\n",
    "import matplotlib.pyplot as plt"
   ]
  },
  {
   "cell_type": "code",
   "execution_count": null,
   "metadata": {},
   "outputs": [],
   "source": [
    "bispec_tag='comp_6c'\n",
    "Ipath   ='./outputs/integrals/'\n",
    "filename=Ipath+'I0I1I2kkk_fullanalytic_red_dis_lnPs_Bfit_Jias_Simulationsim_%s_postBorn.pkl'%bispec_tag\n",
    "params,L_s,Int0,Int2 = pickle.load(open(filename,'r'))"
   ]
  },
  {
   "cell_type": "code",
   "execution_count": null,
   "metadata": {},
   "outputs": [],
   "source": [
    "params  = Cosmo.SimulationCosmology\n",
    "tag     = params[0]['name']\n",
    "field   = 'tt'\n",
    "nl      = True\n",
    "div     = False\n",
    "\n",
    "thetaFWHMarcmin = 1.4\n",
    "noiseUkArcmin   = 6.\n",
    "l_max_T         = 4000\n",
    "l_max_P         = 4000\n",
    "if div:\n",
    "    no_div='div25'\n",
    "else:\n",
    "    no_div='nodiv'\n",
    "\n",
    "if l_max_T!=l_max_P:\n",
    "    lmax='mixedlmax'\n",
    "else:\n",
    "    lmax=str(l_max_T)\n",
    "\n",
    "\n",
    "if nl:\n",
    "  nl_='_nl'\n",
    "else:\n",
    "  nl_=''\n",
    "\n",
    "\n",
    "Rpath   ='./R_files/'\n",
    "\n",
    "filename= Rpath+'R_'+str(int(noiseUkArcmin*10))+str(int(thetaFWHMarcmin*10))+'_%s%s_lmax%d.pkl'%(tag,nl_,l_max_T)\n",
    "\n",
    "LR, Rs   = pickle.load(open(filename,'r'))\n",
    "LR= LR.astype(float)"
   ]
  },
  {
   "cell_type": "code",
   "execution_count": null,
   "metadata": {},
   "outputs": [],
   "source": [
    "len_ang         = 800\n",
    "len_l           = 5040\n",
    "path='./biasResults/lmin2_noise6_theta14/comp_6c/'\n",
    "LC=[]\n",
    "TC=[]\n",
    "for ii in np.arange(132):\n",
    "    filename=path+'C1_%d_%d_%d_noint.pkl'%(ii,len_ang,len_l)\n",
    "    l,t= pickle.load(open(filename,'r'))\n",
    "    TC+=[t]\n",
    "    LC+=[l]\n",
    "LC=np.asarray(LC)\n",
    "TC=np.asarray(TC)"
   ]
  },
  {
   "cell_type": "code",
   "execution_count": null,
   "metadata": {},
   "outputs": [],
   "source": [
    "R2=np.interp(L_s,LR,LR**(-2)*Rs[field]['para'])*L_s**2\n",
    "R0=np.interp(L_s,LR,LR**(-2)*Rs[field]['perp'])*L_s**2\n",
    "TypeC=Int0*R0+Int2*R2\n",
    "#TypeC=np.interp(LC,L_s,TypeC)"
   ]
  },
  {
   "cell_type": "code",
   "execution_count": null,
   "metadata": {},
   "outputs": [],
   "source": [
    "plt.figure()\n",
    "plt.plot(LC,abs((TypeC[0:132]+TC)/TypeC[0:132]),'ro')\n",
    "plt.ylim(0,0.1)"
   ]
  },
  {
   "cell_type": "code",
   "execution_count": null,
   "metadata": {},
   "outputs": [],
   "source": [
    "plt.figure()\n",
    "plt.plot(LC,LC**4*TypeC[0:132],'r*')\n",
    "plt.plot(LC,-LC**4*TC,'co',markersize=2)"
   ]
  },
  {
   "cell_type": "code",
   "execution_count": null,
   "metadata": {},
   "outputs": [],
   "source": []
  }
 ],
 "metadata": {
  "kernelspec": {
   "display_name": "Python 2",
   "language": "python",
   "name": "python2"
  },
  "language_info": {
   "codemirror_mode": {
    "name": "ipython",
    "version": 2
   },
   "file_extension": ".py",
   "mimetype": "text/x-python",
   "name": "python",
   "nbconvert_exporter": "python",
   "pygments_lexer": "ipython2",
   "version": "2.7.14"
  }
 },
 "nbformat": 4,
 "nbformat_minor": 2
}
