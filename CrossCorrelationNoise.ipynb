{
 "cells": [
  {
   "cell_type": "code",
   "execution_count": 1,
   "metadata": {},
   "outputs": [],
   "source": [
    "%matplotlib inline\n",
    "import matplotlib.pyplot as plt\n",
    "import pickle\n",
    "import numpy as np\n",
    "plt.style.use(['seaborn-colorblind','paper'])\n",
    "plt.style.use('classic')\n",
    "import Cosmology as Cosmo"
   ]
  },
  {
   "cell_type": "code",
   "execution_count": 2,
   "metadata": {},
   "outputs": [],
   "source": [
    "def dNdz_LSST(bin_num,dn_filename = 'dndz_LSST_i27_SN5_3y'):\n",
    "    bins,big_grid,res   = pickle.load(open(dn_filename+'_extrapolated.pkl','r'))\n",
    "    mbin                = bins[bin_num]\n",
    "    zbin                = big_grid\n",
    "    nbin                = res[bin_num]\n",
    "    norm                = simps(nbin,zbin)\n",
    "    dndz                = interp1d(zbin, nbin/norm, kind='linear',bounds_error=False,fill_value=0.)\n",
    "    print 'using z-bin', mbin\n",
    "    return norm"
   ]
  },
  {
   "cell_type": "code",
   "execution_count": null,
   "metadata": {},
   "outputs": [],
   "source": [
    "\"\"\"------------settings----------------\"\"\"\n",
    "bin_num     = 0\n",
    "\n",
    "fsky        = 0.5\n",
    "\n",
    "L = np.arange(100,3000)\n",
    "\n",
    "params      = Cosmo.Planck2015\n",
    "tag         = params[0]['name']\n",
    "nl          = True\n",
    "\n",
    "N0_path     ='/home/nessa/Documents/Projects/LensingBispectrum/CMB-nonlinear/outputs/N0files/'\n",
    "spec_path   ='/home/nessa/Documents/Projects/LensingBispectrum/CMB-nonlinear/outputs/power_spectra/'\n",
    "ellpath     ='/home/nessa/Documents/Projects/LensingBispectrum/CMB-nonlinear/outputs/ells/'\n",
    "ellfile     ='ell_ang_equilat_Lmin10_Lmax10000_lmin10_lmax8000_lenL200_lenl220_lenang200_0e+00.pkl'\n",
    "\n",
    "#bispectrum code\n",
    "config_kk = \n",
    "config_kg = \n",
    "config_gg = \n",
    "Lmin = 1\n",
    "Lmax = 3000\n",
    "\n",
    "thetaFWHMarcmin = 1.4 #beam FWHM\n",
    "noiseUkArcmin   = 6. #eval(sys.argv[1]) #Noise level in uKarcmin\n",
    "l_max_T         = 3000\n",
    "l_max_P         = 5000\n",
    "l_min           = 50\n",
    "L_max           = 6000 #for l integration\n",
    "L_min           = 1\n",
    "TCMB            = 2.7255e6\n",
    "div             = False #divide EB by factor of 2.5\n",
    "\n",
    "if l_max_T!=l_max_P:\n",
    "    lmax='mixedlmax_%d_%d'%(l_max_T,l_max_P)\n",
    "else:\n",
    "    lmax=str(l_max_T)\n",
    "\n",
    "if nl:\n",
    "  nl_='_nl'\n",
    "else:\n",
    "  nl_=''"
   ]
  },
  {
   "cell_type": "code",
   "execution_count": null,
   "metadata": {},
   "outputs": [],
   "source": [
    "filename = N0_path+'%s_N0_%s_%d_%d%d_%s%s.pkl'%(tag,lmax,l_min,10*noiseUkArcmin,10*thetaFWHMarcmin,no_div,nl_)\n",
    "print N0_path+'%s_N0_%s_%d_%d%d_%s%s.pkl'%(tag,lmax,l_min,10*noiseUkArcmin,10*thetaFWHMarcmin,no_div,nl_)\n",
    "Ls,AL = pickle.load(open(filename,'r'))"
   ]
  },
  {
   "cell_type": "code",
   "execution_count": null,
   "metadata": {},
   "outputs": [],
   "source": [
    "#percent accuracy, should be sufficient for this\n",
    "tag = tag+\"_\"+\"LSSTbin\"+str(bin_num)\n",
    "config_kk+='_full_'+tag\n",
    "config_kg+='_full_'+tag\n",
    "config_gg+='_full_'+tag\n",
    "\n",
    "ll, l, theta = pickle.load(open(ellpath+ellfile,'r'))\n",
    "clgg = np.load(spec_path+\"CL_%s_Lmin%d-Lmax%d_%s\"%(config_gg,Lmin,Lmax,'halofit'))\n",
    "clgg = np.interp(L,ll,clgg)\n",
    "clkg = np.load(spec_path+\"CL_%s_Lmin%d-Lmax%d_%s\"%(config_kg,Lmin,Lmax,'halofit'))\n",
    "clkg = np.interp(L,ll,clkg)\n",
    "clkk = np.load(spec_path+\"CL_%s_Lmin%d-Lmax%d_%s\"%(config_kk,Lmin,Lmax,'halofit'))\n",
    "clkk = np.interp(L,ll,clkk)"
   ]
  },
  {
   "cell_type": "code",
   "execution_count": null,
   "metadata": {},
   "outputs": [],
   "source": [
    "n0  = np.interp(L,Ls,1./4.*L**2*AL)\n",
    "n_bar = dNdz_LSST(bin_num)*(180*60/np.pi)**2\n",
    "\n",
    "noise_kk      = np.sqrt((2./(2.*L+1.)/fsky))*(cl_kk+n0)\n",
    "noise_gg      = np.sqrt((2./(2.*L+1.)/fsky))*(cl_gg+1./n_bar)\n",
    "noise_kg      = 1./(2*L+1)/fsky*((clkk+n0)*(clgg+1./n_bar)+clkg**2)\n",
    "noise_kg      = np.sqrt(noise_kg)\n",
    "\n",
    "pickle.dump([clgg,clkg,clkk,noise_gg,noise_kg,noise_kk],open('Gaussian_variances_CMB-S4_bin%s_%s_%s.pkl'%(red_bin,tag,dn_filename),'w'))"
   ]
  },
  {
   "cell_type": "code",
   "execution_count": null,
   "metadata": {},
   "outputs": [],
   "source": [
    "#make plots to test this"
   ]
  }
 ],
 "metadata": {
  "kernelspec": {
   "display_name": "Python 2",
   "language": "python",
   "name": "python2"
  },
  "language_info": {
   "codemirror_mode": {
    "name": "ipython",
    "version": 2
   },
   "file_extension": ".py",
   "mimetype": "text/x-python",
   "name": "python",
   "nbconvert_exporter": "python",
   "pygments_lexer": "ipython2",
   "version": "2.7.14"
  }
 },
 "nbformat": 4,
 "nbformat_minor": 2
}
