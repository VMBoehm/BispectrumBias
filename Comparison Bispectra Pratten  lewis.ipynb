{
 "cells": [
  {
   "cell_type": "code",
   "execution_count": null,
   "metadata": {},
   "outputs": [],
   "source": [
    "from matplotlib import pyplot as plt\n",
    "import numpy as np\n",
    "import pickle"
   ]
  },
  {
   "cell_type": "code",
   "execution_count": null,
   "metadata": {},
   "outputs": [],
   "source": [
    "path='/home/nessa/Documents/Projects/LensingBispectrum/CMB-nonlinear/outputs/bispectra/'"
   ]
  },
  {
   "cell_type": "code",
   "execution_count": null,
   "metadata": {},
   "outputs": [],
   "source": [
    "pickle.load(open(path+'bispec_phi_kkk_equilatanalytic_red_dis_lnPs_Bfit_Jias_Simulationcomp_lowz1_Lmin1-Lmax2999-lmax2999-lenBi250_post_born.pkl','r')"
   ]
  },
  {
   "cell_type": "code",
   "execution_count": null,
   "metadata": {},
   "outputs": [],
   "source": []
  },
  {
   "cell_type": "code",
   "execution_count": null,
   "metadata": {},
   "outputs": [],
   "source": []
  },
  {
   "cell_type": "code",
   "execution_count": null,
   "metadata": {},
   "outputs": [],
   "source": []
  },
  {
   "cell_type": "code",
   "execution_count": null,
   "metadata": {},
   "outputs": [],
   "source": [
    "filename1='bispec_phi_kkk_equilatanalytic_red_dis_lnPs_Bfit_Jias_Simulationcomp_pB_2_Lmin1-Lmax10000-lmax10000-lenBi250_post_born.npy'\n",
    "filename2='bispec_phi_kkk_equilatanalytic_red_dis_lnPs_Bfit_Jias_Simulationcomp_pB_2_Lmin1-Lmax10000-lmax10000-lenBi250_post_born_sum.npy'\n",
    "filename3='bispec_phi_kkk_equilatanalytic_red_dis_lnPs_Bfit_Jias_Simulationcomp_pB_2_Lmin1-Lmax10000-lmax10000-lenBi250.npy'\n",
    "filename1_='bispec_phi_kkk_equilatanalytic_red_dis_lnPs_Bfit_Jias_Simulationcomp_pB_kcut_Lmin1-Lmax10000-lmax10000-lenBi250_post_born.npy'\n",
    "filename2_='bispec_phi_kkk_equilatanalytic_red_dis_lnPs_Bfit_Jias_Simulationcomp_pB_kcut_Lmin1-Lmax10000-lmax10000-lenBi250_post_born_sum.npy'\n",
    "filename3_='bispec_phi_kkk_equilatanalytic_red_dis_lnPs_Bfit_Jias_Simulationcomp_pB_kcut_Lmin1-Lmax10000-lmax10000-lenBi250.npy'"
   ]
  },
  {
   "cell_type": "code",
   "execution_count": null,
   "metadata": {},
   "outputs": [],
   "source": [
    "biphi_pB=np.load(path+filename1)\n",
    "bi_phi_sum=np.load(path+filename2)\n",
    "bi_phi=np.load(path+filename3)\n",
    "biphi_pB_=np.load(path+filename1_)\n",
    "bi_phi_sum_=np.load(path+filename2_)\n",
    "bi_phi_=np.load(path+filename3_)"
   ]
  },
  {
   "cell_type": "code",
   "execution_count": null,
   "metadata": {},
   "outputs": [],
   "source": [
    "path2='/home/nessa/Documents/Projects/LensingBispectrum/CMB-nonlinear/outputs/ells/'\n",
    "ell_file='ell_ang_equilat_Lmin1_Lmax10000_lmin1_lmax8000_lenL60_lenl80_lenang60_0e+00.pkl'\n",
    "L,l,theta=pickle.load(open(path2+ell_file,'r'))"
   ]
  },
  {
   "cell_type": "code",
   "execution_count": null,
   "metadata": {},
   "outputs": [],
   "source": [
    "plt.figure()\n",
    "plt.title('equilat')\n",
    "plt.loglog(L,L**6*bi_phi/8.,label='intrinsic B')\n",
    "plt.loglog(L,L**6*biphi_pB/8.,label='pB B')\n",
    "plt.loglog(L,L**6*bi_phi_sum/8.,label='sum')\n",
    "plt.loglog(L,L**6*bi_phi_/8.,label='intrinsic B kcut',ls='--')\n",
    "plt.loglog(L,L**6*biphi_pB_/8.,label='pB B kcut',ls='--')\n",
    "plt.loglog(L,L**6*bi_phi_sum_/8.,label='sum kcut',ls='--')\n",
    "plt.ylim(1e-20,1e-13)\n",
    "plt.xlim(100,10000)\n",
    "plt.xlabel('L')\n",
    "plt.legend(loc='best')\n",
    "plt.show()"
   ]
  },
  {
   "cell_type": "code",
   "execution_count": null,
   "metadata": {},
   "outputs": [],
   "source": [
    "filename1='bispec_phi_kkk_foldedanalytic_red_dis_lnPs_Bfit_Jias_Simulationcomp_pB_2_Lmin1-Lmax10000-lmax5000-lenBi250_post_born.npy'\n",
    "filename2='bispec_phi_kkk_foldedanalytic_red_dis_lnPs_Bfit_Jias_Simulationcomp_pB_2_Lmin1-Lmax10000-lmax5000-lenBi250_post_born_sum.npy'\n",
    "filename3='bispec_phi_kkk_foldedanalytic_red_dis_lnPs_Bfit_Jias_Simulationcomp_pB_2_Lmin1-Lmax10000-lmax5000-lenBi250.npy'\n",
    "filename1_='bispec_phi_kkk_foldedanalytic_red_dis_lnPs_Bfit_Jias_Simulationcomp_pB_kcut_Lmin1-Lmax10000-lmax5000-lenBi250_post_born.npy'\n",
    "filename2_='bispec_phi_kkk_foldedanalytic_red_dis_lnPs_Bfit_Jias_Simulationcomp_pB_kcut_Lmin1-Lmax10000-lmax5000-lenBi250_post_born_sum.npy'\n",
    "filename3_='bispec_phi_kkk_foldedanalytic_red_dis_lnPs_Bfit_Jias_Simulationcomp_pB_kcut_Lmin1-Lmax10000-lmax5000-lenBi250.npy'"
   ]
  },
  {
   "cell_type": "code",
   "execution_count": null,
   "metadata": {},
   "outputs": [],
   "source": [
    "biphi_pB=np.load(path+filename1)\n",
    "bi_phi_sum=np.load(path+filename2)\n",
    "bi_phi=np.load(path+filename3)\n",
    "biphi_pB_=np.load(path+filename1_)\n",
    "bi_phi_sum_=np.load(path+filename2_)\n",
    "bi_phi_=np.load(path+filename3_)"
   ]
  },
  {
   "cell_type": "code",
   "execution_count": null,
   "metadata": {},
   "outputs": [],
   "source": [
    "path2='/home/nessa/Documents/Projects/LensingBispectrum/CMB-nonlinear/outputs/ells/'\n",
    "ell_file='ell_ang_folded_Lmin1_Lmax10000_lmin1_lmax8000_lenL60_lenl80_lenang60_0e+00.pkl'\n",
    "L,l,theta=pickle.load(open(path2+ell_file,'r'))\n",
    "prefac=(L*l*l)**2"
   ]
  },
  {
   "cell_type": "code",
   "execution_count": null,
   "metadata": {},
   "outputs": [],
   "source": [
    "plt.figure()\n",
    "plt.title('folded')\n",
    "plt.loglog(L,prefac*bi_phi/8.,c='b',label='intrinsic B')\n",
    "plt.loglog(L,prefac*biphi_pB/8.,c='g',label='pB B')\n",
    "plt.loglog(L,prefac*bi_phi_sum/8.,c='r',label='sum')\n",
    "plt.loglog(L,-prefac*biphi_pB/8.,c='g',ls='--')\n",
    "plt.loglog(L,-prefac*bi_phi_sum/8.,c='r',ls='--')\n",
    "plt.loglog(L,prefac*bi_phi_/8.,c='c',label='intrinsic B kcut')\n",
    "plt.loglog(L,prefac*biphi_pB_/8.,c='grey',label='pB B kcut')\n",
    "plt.loglog(L,prefac*bi_phi_sum_/8.,c='orange',label='sum kcut')\n",
    "plt.loglog(L,-prefac*biphi_pB_/8.,c='grey',ls='--')\n",
    "plt.loglog(L,-prefac*bi_phi_sum_/8.,c='orange',ls='--')\n",
    "plt.xlim(100,10000)\n",
    "plt.ylim(1e-20,1e-12)\n",
    "plt.xlabel('L')\n",
    "plt.legend(loc='best')\n",
    "plt.show()"
   ]
  },
  {
   "cell_type": "code",
   "execution_count": null,
   "metadata": {},
   "outputs": [],
   "source": []
  }
 ],
 "metadata": {
  "kernelspec": {
   "display_name": "Python 2",
   "language": "python",
   "name": "python2"
  },
  "language_info": {
   "codemirror_mode": {
    "name": "ipython",
    "version": 2
   },
   "file_extension": ".py",
   "mimetype": "text/x-python",
   "name": "python",
   "nbconvert_exporter": "python",
   "pygments_lexer": "ipython2",
   "version": "2.7.14"
  }
 },
 "nbformat": 4,
 "nbformat_minor": 2
}
