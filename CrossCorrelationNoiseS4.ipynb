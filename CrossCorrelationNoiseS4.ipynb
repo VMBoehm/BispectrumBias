{
 "cells": [
  {
   "cell_type": "code",
   "execution_count": 26,
   "metadata": {},
   "outputs": [],
   "source": [
    "%matplotlib inline\n",
    "import matplotlib.pyplot as plt\n",
    "import pickle\n",
    "import numpy as np\n",
    "plt.style.use(['seaborn-colorblind','paper'])\n",
    "plt.style.use('classic')\n",
    "import Cosmology as Cosmo\n",
    "from scipy.integrate import simps\n",
    "from scipy.interpolate import interp1d"
   ]
  },
  {
   "cell_type": "code",
   "execution_count": 27,
   "metadata": {},
   "outputs": [],
   "source": [
    "def dNdz_LSST(bin_num,dn_filename = 'dndz_LSST_i27_SN5_3y'):\n",
    "    bins,big_grid,res   = pickle.load(open(dn_filename+'_extrapolated.pkl','r'))\n",
    "    mbin                = bins[bin_num]\n",
    "    zbin                = big_grid\n",
    "    nbin                = res[bin_num]\n",
    "    norm                = simps(nbin,zbin)\n",
    "    dndz                = interp1d(zbin, nbin/norm, kind='linear',bounds_error=False,fill_value=0.)\n",
    "    print 'using z-bin', mbin\n",
    "    plt.figure()\n",
    "    plt.plot(zbin,nbin)\n",
    "    plt.show()\n",
    "    return norm"
   ]
  },
  {
   "cell_type": "code",
   "execution_count": 48,
   "metadata": {},
   "outputs": [],
   "source": [
    "\"\"\"------------settings----------------\"\"\"\n",
    "bin_num     = 0\n",
    "\n",
    "fsky        = 0.5\n",
    "\n",
    "L = np.arange(10,3000)\n",
    "\n",
    "params      = Cosmo.Planck2015\n",
    "tag         = params[0]['name']\n",
    "nl          = True\n",
    "\n",
    "N0_path     ='/home/nessa/Documents/Projects/LensingBispectrum/CMB-nonlinear/outputs/N0files/'\n",
    "spec_path   ='/home/nessa/Documents/Projects/LensingBispectrum/CMB-nonlinear/outputs/power_spectra/'\n",
    "ellpath     ='/home/nessa/Documents/Projects/LensingBispectrum/CMB-nonlinear/outputs/ells/'\n",
    "ellfile     ='ell_ang_full_Lmin1_Lmax3000_lmin1_lmax8000_lenL120_lenl140_lenang120_1e-04.pkl'\n",
    "path        ='/home/nessa/Documents/Projects/LensingBispectrum/CMB-nonlinear/outputs/noise_curves/'\n",
    "\n",
    "#bispectrum code\n",
    "config_kk = 'kk'\n",
    "config_kg = 'kg'\n",
    "config_gg = 'gg'\n",
    "Lmin = 1\n",
    "Lmax = 3000\n",
    "\n",
    "thetaFWHMarcmin = 1. #beam FWHM\n",
    "noiseUkArcmin   = 1. #eval(sys.argv[1]) #Noise level in uKarcmin\n",
    "l_max_T         = 3000\n",
    "l_max_P         = 5000\n",
    "l_min           = 50\n",
    "L_max           = 6000 #for l integration\n",
    "L_min           = 1\n",
    "TCMB            = 2.7255e6\n",
    "div             = False #divide EB by factor of 2.5\n",
    "\n",
    "if l_max_T!=l_max_P:\n",
    "    lmax='mixedlmax_%d_%d'%(l_max_T,l_max_P)\n",
    "else:\n",
    "    lmax=str(l_max_T)\n",
    "\n",
    "if nl:\n",
    "  nl_='_nl'\n",
    "else:\n",
    "  nl_=''\n",
    "\n",
    "if div:\n",
    "    print 'Dividing EB by factor 2.5!'\n",
    "    no_div='div25'\n",
    "else:\n",
    "    no_div='nodiv'"
   ]
  },
  {
   "cell_type": "code",
   "execution_count": 49,
   "metadata": {},
   "outputs": [
    {
     "name": "stdout",
     "output_type": "stream",
     "text": [
      "/home/nessa/Documents/Projects/LensingBispectrum/CMB-nonlinear/outputs/N0files/Planck2015_N0_mixedlmax_3000_5000_50_1010_nodiv_nl.pkl\n"
     ]
    }
   ],
   "source": [
    "print N0_path+'%s_N0_%s_%d_%d%d_%s%s.pkl'%(tag,lmax,l_min,10*noiseUkArcmin,10*thetaFWHMarcmin,no_div,nl_)\n",
    "filename=N0_path+'%s_N0_%s_%d_%d%d_%s%s.pkl'%(tag,lmax,l_min,10*noiseUkArcmin,10*thetaFWHMarcmin,no_div,nl_)\n",
    "Ls,AL = pickle.load(open(filename,'r'))"
   ]
  },
  {
   "cell_type": "code",
   "execution_count": 50,
   "metadata": {},
   "outputs": [],
   "source": [
    "#percent accuracy, should be sufficient for this\n",
    "config_kk+=\"_full_\"+tag\n",
    "tag = \"_\"+\"LSSTbin\"+str(bin_num)+'_full_'+tag\n",
    "config_kg+=tag\n",
    "config_gg+=tag\n",
    "\n",
    "ll, l, theta = pickle.load(open(ellpath+ellfile,'r'))\n",
    "clgg = np.load(spec_path+\"CL_%s_Lmin%d-Lmax%d_%s.npy\"%(config_gg,Lmin,Lmax-1,'halofit'))\n",
    "clgg = np.interp(L,ll,clgg)\n",
    "clkg = np.load(spec_path+\"CL_%s_Lmin%d-Lmax%d_%s.npy\"%(config_kg,Lmin,Lmax-1,'halofit'))\n",
    "clkg = np.interp(L,ll,clkg)\n",
    "clkk = np.load(spec_path+\"CL_%s_Lmin%d-Lmax%d_%s.npy\"%(config_kk,Lmin,Lmax-1,'halofit'))\n",
    "clkk = np.interp(L,ll,clkk)"
   ]
  },
  {
   "cell_type": "code",
   "execution_count": 51,
   "metadata": {},
   "outputs": [
    {
     "name": "stdout",
     "output_type": "stream",
     "text": [
      "using z-bin [0, 0.5, 0.03]\n"
     ]
    },
    {
     "data": {
      "image/png": "[encoded data removed]",
      "text/plain": [
       "<matplotlib.figure.Figure at 0x7ff86d93ac10>"
      ]
     },
     "metadata": {},
     "output_type": "display_data"
    },
    {
     "name": "stdout",
     "output_type": "stream",
     "text": [
      "using z-bin [0, 0.5, 0.03]\n"
     ]
    },
    {
     "data": {
      "image/png": "[encoded data removed]",
      "text/plain": [
       "<matplotlib.figure.Figure at 0x7ff86dbf5890>"
      ]
     },
     "metadata": {},
     "output_type": "display_data"
    },
    {
     "name": "stdout",
     "output_type": "stream",
     "text": [
      "(14.32276056640902, 169267857.61357921)\n",
      "/home/nessa/Documents/Projects/LensingBispectrum/CMB-nonlinear/outputs/noise_curves/Gaussian_variances_CMB-S4_lmax30005000__LSSTbin0_full_Planck2015_dndz_LSST_i27_SN5_3y.pkl\n",
      "[  10   11   12 ..., 2997 2998 2999]\n"
     ]
    }
   ],
   "source": [
    "n0  = np.interp(L,Ls,1./4.*Ls**2*AL['eb'])\n",
    "n_bar = dNdz_LSST(bin_num)*(180*60/np.pi)**2\n",
    "print( dNdz_LSST(bin_num),n_bar)\n",
    "\n",
    "noise_kk      = np.sqrt((2./(2.*L+1.)/fsky)*(clkk+n0)**2)\n",
    "noise_gg      = np.sqrt((2./(2.*L+1.)/fsky)*(clgg+1./n_bar)**2)\n",
    "noise_kg      = 1./(2*L+1.)/fsky*((clkk+n0)*(clgg+1./n_bar)+clkg**2)\n",
    "noise_kg      = np.sqrt(noise_kg)\n",
    "\n",
    "pickle.dump([L,clgg,clkg,clkk,noise_gg,noise_kg,noise_kk],open(path+'Gaussian_variances_CMB-S4_lmax30005000_%s_%s.pkl'%(tag,'dndz_LSST_i27_SN5_3y'),'w'))\n",
    "print(path+'Gaussian_variances_CMB-S4_lmax30005000_%s_%s.pkl'%(tag,'dndz_LSST_i27_SN5_3y'))\n",
    "print(L)"
   ]
  },
  {
   "cell_type": "code",
   "execution_count": 52,
   "metadata": {},
   "outputs": [
    {
     "data": {
      "text/plain": [
       "'_LSSTbin0_full_Planck2015'"
      ]
     },
     "execution_count": 52,
     "metadata": {},
     "output_type": "execute_result"
    }
   ],
   "source": [
    "tag"
   ]
  },
  {
   "cell_type": "code",
   "execution_count": null,
   "metadata": {},
   "outputs": [],
   "source": []
  },
  {
   "cell_type": "code",
   "execution_count": null,
   "metadata": {},
   "outputs": [],
   "source": []
  },
  {
   "cell_type": "code",
   "execution_count": null,
   "metadata": {},
   "outputs": [],
   "source": []
  },
  {
   "cell_type": "code",
   "execution_count": null,
   "metadata": {},
   "outputs": [],
   "source": []
  }
 ],
 "metadata": {
  "kernelspec": {
   "display_name": "Python 2",
   "language": "python",
   "name": "python2"
  },
  "language_info": {
   "codemirror_mode": {
    "name": "ipython",
    "version": 2
   },
   "file_extension": ".py",
   "mimetype": "text/x-python",
   "name": "python",
   "nbconvert_exporter": "python",
   "pygments_lexer": "ipython2",
   "version": "2.7.14"
  }
 },
 "nbformat": 4,
 "nbformat_minor": 2
}
