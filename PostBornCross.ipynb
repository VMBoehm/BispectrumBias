{
 "cells": [
  {
   "cell_type": "code",
   "execution_count": null,
   "metadata": {},
   "outputs": [],
   "source": [
    "from __future__ import division\n",
    "%matplotlib inline\n",
    "import matplotlib.pyplot as plt\n",
    "from postBornCrossSpectra import PostBorn_Bispec\n",
    "import numpy as np\n",
    "import Cosmology as C\n",
    "import pickle\n",
    "from scipy.integrate import simps\n",
    "from scipy.interpolate import RectBivariateSpline\n",
    "from classy import Class\n",
    "\n",
    "import copy\n",
    "import kernels\n",
    "plt.style.use(['seaborn-colorblind','paper'])\n",
    "plt.style.use('classic')"
   ]
  },
  {
   "cell_type": "code",
   "execution_count": null,
   "metadata": {},
   "outputs": [],
   "source": [
    "plotpath = './CrossPostBorn/results/plots/vanessa/'"
   ]
  },
  {
   "cell_type": "code",
   "execution_count": null,
   "metadata": {},
   "outputs": [],
   "source": [
    "zmin = 1e-5\n",
    "zmax = 1090.\n",
    "\n",
    "kmin = 1e-4\n",
    "kmax = 50\n",
    "\n",
    "cosmo = C.Planck2015\n",
    "\n",
    "a     = np.linspace(1./(1.+zmin),1./(1.+zmax),500)  \n",
    "z     = 1./a-1.\n",
    "\n",
    "data  = C.CosmoData(cosmo[1],z)\n",
    "\n",
    "L     = np.logspace(1,4,100)\n",
    "\n",
    "# sampling for integrations\n",
    "phi=np.linspace(0.,2.*np.pi,1000,endpoint=True)\n",
    "L1=np.logspace(-1,5,400)\n",
    "\n",
    "LSST_bins  = [0,1,2,3,4,'all']\n"
   ]
  },
  {
   "cell_type": "code",
   "execution_count": null,
   "metadata": {},
   "outputs": [],
   "source": [
    "#31 term only\n",
    "def get_31_term_only(L,L1,M):\n",
    "    return -L**4/np.pi*simps(L1**3*M(L,L1))\n"
   ]
  },
  {
   "cell_type": "code",
   "execution_count": null,
   "metadata": {},
   "outputs": [],
   "source": [
    "#compute correction following Krause&Hirata\n",
    "\n",
    "# redefinition with l'-> l-l'\n",
    "def get_regularized_sum_of_terms_old(L,L1,phi,M,method='trapz'):\n",
    "    nu = np.cos(phi)\n",
    "    res=[]\n",
    "    for LL in L:\n",
    "        resL1=[]\n",
    "        for LL1 in L1:\n",
    "            L_= LL*np.sqrt(1.+(LL1/LL)**2-2.*LL1/LL*nu)\n",
    "            integrand =LL*LL1**3*(-LL1*nu+LL)*(-LL1+LL*nu)**2*(M(L_,LL1,grid=False)/L_**2/LL1**4-M(LL,LL1,grid=False)/LL**2/LL1**4)\n",
    "            if method =='simps':\n",
    "                resL1+=[simps(integrand,phi)]\n",
    "            elif method =='trapz':\n",
    "                resL1+=[np.trapz(integrand,phi)]\n",
    "            elif method =='sum':\n",
    "                resL1+=[np.sum(integrand*np.diff(phi)[0])]\n",
    "        res+=[simps(resL1,L1)]\n",
    "    res=4.*np.asarray(res)/(2*np.pi)**2\n",
    "    return res\n",
    "\n",
    "#always use trapz rule for accurate results!\n",
    "# redefinition with l'-> l'-l\n",
    "def get_regularized_sum_of_terms(L,L1,phi,M,method='trapz'):\n",
    "    nu = np.cos(phi)\n",
    "    res=[]\n",
    "    for LL in L:\n",
    "        resL1=[]\n",
    "        for LL1 in L1:\n",
    "            L_= LL*np.sqrt(1.+(LL1/LL)**2+2.*LL1/LL*nu)\n",
    "            integrand =LL*LL1**3*(LL1*nu+LL)*(LL1+LL*nu)**2*(M(L_,LL1,grid=False)/L_**2/LL1**4-M(LL,LL1,grid=False)/LL**2/LL1**4)\n",
    "            if method =='simps':\n",
    "                resL1+=[simps(integrand,phi)]\n",
    "            elif method =='trapz':\n",
    "                resL1+=[np.trapz(integrand,phi)]\n",
    "            elif method =='sum':\n",
    "                resL1+=[np.sum(integrand*np.diff(phi)[0])]\n",
    "        res+=[simps(resL1,L1)]\n",
    "    res=4.*np.asarray(res)/(2*np.pi)**2\n",
    "    return res\n",
    "\n",
    "##functions below are to test accuracy of numerical angular integration\n",
    "#numerical angular integration\n",
    "def get_second_sum_of_terms(L,L1,M,method='trapz'):\n",
    "    nu = np.cos(phi)\n",
    "    res=[]\n",
    "    for LL in L:\n",
    "        resL1=[]\n",
    "        for LL1 in L1:\n",
    "            integrand = LL1*(LL*LL1**2*(-LL1*nu+LL)*(-LL1+LL*nu)**2-LL**2*(LL*LL1*nu)**2)*(M(LL,LL1,grid=False)/LL**2/LL1**4)\n",
    "            if method =='simps':\n",
    "                resL1+=[simps(integrand,phi)]\n",
    "            elif method =='trapz':\n",
    "                resL1+=[np.trapz(integrand,phi)]\n",
    "            elif method =='sum':\n",
    "                resL1+=[np.sum(integrand*np.diff(phi)[0])]\n",
    "        res+=[simps(resL1,L1)]\n",
    "    res=4.*np.asarray(res)/(2*np.pi)**2\n",
    "    return res\n",
    "\n",
    "#angular integration by hand\n",
    "def get_second_sum_of_terms_exact(L,L1,M):\n",
    "    res=[]\n",
    "    for LL in L:\n",
    "        integrand = LL**2*L1**5*(M(LL,L1,grid=False)/LL**2/L1**4)\n",
    "        res+=[simps(integrand,L1)]   \n",
    "    return 4*np.asarray(res)/np.pi"
   ]
  },
  {
   "cell_type": "code",
   "execution_count": null,
   "metadata": {},
   "outputs": [],
   "source": [
    "first_kernel  = kernels.CMB_lens(data.chi_cmb,data)\n",
    "simple_kernel = kernels.CMB_lens(None,data)\n",
    "\n",
    "Mstarspls = []\n",
    "PBs =[]\n",
    "Cls= []\n",
    "for LSST_bin in LSST_bins:\n",
    "    second_kernel = kernels.gal_clus(kernels.dNdz_LSST,kernels.simple_bias,data,LSST_bin)\n",
    "    PB  = PostBorn_Bispec(data, zmin, data.z_cmb, first_kernel, second_kernel, simple_kernel, k_min=kmin,k_max=100, lmax=30000, acc=2)\n",
    "    PBs+=[PB]\n",
    "    Mstarspls+=[PB.Mstarsp]\n",
    "    Cls+=[PB.CL_born]\n",
    "ls = PB.ls\n"
   ]
  },
  {
   "cell_type": "code",
   "execution_count": null,
   "metadata": {},
   "outputs": [],
   "source": [
    "bin_num=5\n",
    "#these two should be the same\n",
    "reskk1 = get_regularized_sum_of_terms(L,L1,phi,Mstarspls[bin_num],method='trapz')\n",
    "reskk1b= get_regularized_sum_of_terms_old(L,L1,phi,Mstarspls[bin_num],method='trapz')\n",
    "#these two should be the same\n",
    "reskk2 = get_second_sum_of_terms(L,L1,Mstarspls[bin_num],method='trapz')\n",
    "reskk2b= get_second_sum_of_terms_exact(L,L1,Mstarspls[bin_num])\n"
   ]
  },
  {
   "cell_type": "code",
   "execution_count": null,
   "metadata": {},
   "outputs": [],
   "source": [
    "plt.figure()\n",
    "plt.title('relative difference of two variable transforms')\n",
    "plt.loglog(L, reskk1b/reskk1-1)\n",
    "plt.loglog(L, -reskk1b/reskk1+1)\n",
    "plt.xlabel('$L$',fontsize=20)\n",
    "plt.show()\n",
    "plt.savefig(plotpath+'firstIntegral_tests.pdf', bbox_inches='tight')"
   ]
  },
  {
   "cell_type": "code",
   "execution_count": null,
   "metadata": {},
   "outputs": [],
   "source": [
    "# use trapezian rule\n",
    "lstyles=['-','--','-.']\n",
    "colors=['blue', 'crimson','green']\n",
    "i=0\n",
    "plt.figure()\n",
    "plt.title('relative difference of analytic and numeric integral')\n",
    "for method in ['simps','trapz','sum']:\n",
    "    reskk_ = get_second_sum_of_terms(L,L1,Mstarspls[bin_num],method=method)\n",
    "    plt.loglog(L, reskk_/reskk2b-1,label=method,ls=lstyles[i],c=colors[i])\n",
    "    plt.loglog(L, -reskk_/reskk2b+1,label=method,ls=lstyles[i],c=colors[i])\n",
    "    i+=1\n",
    "plt.xlabel('$L$',fontsize=20)\n",
    "plt.legend()\n",
    "plt.show()\n",
    "plt.savefig(plotpath+'integral_tests.pdf', bbox_inches='tight')"
   ]
  },
  {
   "cell_type": "code",
   "execution_count": null,
   "metadata": {},
   "outputs": [],
   "source": [
    "plt.figure()\n",
    "plt.loglog(ls,Cls[bin_num],label='(11) term')\n",
    "plt.loglog(L, -reskk1,label='integral 1')\n",
    "plt.loglog(L, reskk2,ls='--',label='integral 2',color='coral')\n",
    "plt.loglog(L, reskk1+reskk2,ls='--',label='diff',color='crimson')\n",
    "plt.loglog(L, -(reskk1+reskk2),ls='-',color='crimson')\n",
    "plt.loglog(L, reskk2b,ls='-.',label='integral 2 exact')\n",
    "plt.loglog(L, reskk1+reskk2b,ls='-',label='diff 2 ',color='cyan')\n",
    "plt.loglog(L, -(reskk1+reskk2b),ls='--',color='cyan')\n",
    "plt.xlim(10,10000)\n",
    "plt.ylim(1e-13,1e-6)\n",
    "plt.legend(loc=(1.05,0.35))\n",
    "plt.ylabel('$C_L^{\\kappa\\kappa}$',fontsize=20)\n",
    "plt.xlabel('$L$',fontsize=20)\n",
    "plt.savefig(plotpath+'cl_cross_pB_tests%s.pdf'%LSST_bin, bbox_inches='tight')\n",
    "plt.show()"
   ]
  },
  {
   "cell_type": "code",
   "execution_count": null,
   "metadata": {},
   "outputs": [],
   "source": [
    "plt.figure()\n",
    "plt.loglog(ls,Cls[bin_num],label='(11) term')\n",
    "plt.loglog(L, -reskk1,label='integral 1')\n",
    "plt.loglog(L, reskk2,ls='--',label='integral 2',color='coral')\n",
    "plt.loglog(L, reskk1+reskk2,ls='--',label='diff',color='crimson')\n",
    "plt.loglog(L, -(reskk1+reskk2),ls='-',color='crimson')\n",
    "plt.loglog(L, reskk2b,ls='-.',label='integral 1 old way')\n",
    "plt.loglog(L, reskk1b+reskk2b,ls='-',label='diff 2 ',color='cyan')\n",
    "plt.loglog(L, -(reskk1b+reskk2b),ls='--',color='cyan')\n",
    "plt.xlim(10,10000)\n",
    "plt.ylim(1e-13,1e-6)\n",
    "plt.legend(loc=(1.05,0.35))\n",
    "plt.ylabel('$C_L^{\\kappa\\kappa}$',fontsize=20)\n",
    "plt.xlabel('$L$',fontsize=20)\n",
    "plt.savefig(plotpath+'cl_cross_pB_tests_2%s.pdf'%LSST_bin, bbox_inches='tight')\n",
    "plt.show()"
   ]
  },
  {
   "cell_type": "code",
   "execution_count": null,
   "metadata": {},
   "outputs": [],
   "source": [
    "# test case: reproduce Antony's results\n",
    "first_kernel  = kernels.CMB_lens(data.chi_cmb,data)\n",
    "simple_kernel = kernels.CMB_lens(None,data)\n",
    "second_kernel = kernels.CMB_lens(data.chi_cmb,data)\n",
    "\n",
    "\n",
    "PB_auto = PostBorn_Bispec(data, zmin, data.z_cmb, first_kernel, second_kernel, simple_kernel, k_min=kmin,k_max=100, lmax=30000, acc=2)"
   ]
  },
  {
   "cell_type": "code",
   "execution_count": null,
   "metadata": {},
   "outputs": [],
   "source": [
    "resauto1= get_regularized_sum_of_terms(L,L1,phi,PB_auto.Mstarsp,method='trapz')\n"
   ]
  },
  {
   "cell_type": "code",
   "execution_count": null,
   "metadata": {},
   "outputs": [],
   "source": [
    "resauto2= get_second_sum_of_terms_exact(L,L1,PB_auto.Mstarsp)"
   ]
  },
  {
   "cell_type": "code",
   "execution_count": null,
   "metadata": {},
   "outputs": [],
   "source": [
    "Cl31 =  get_31_term_only(L,L1,PB_auto.Mstarsp)"
   ]
  },
  {
   "cell_type": "code",
   "execution_count": null,
   "metadata": {},
   "outputs": [],
   "source": [
    "plt.figure()\n",
    "plt.loglog(ls,PB_auto.CL_born,label='sum')\n",
    "plt.loglog(L, -resauto1,label='integral 1')\n",
    "plt.loglog(L, -Cl31,label='single term')\n",
    "plt.loglog(L, resauto2,ls='--',label='integral 2',color='coral')\n",
    "plt.loglog(L, resauto1+resauto2,ls='--',label='diff',color='crimson')\n",
    "plt.loglog(L, -(resauto1+resauto2),ls='-',color='crimson')\n",
    "plt.xlim(10,10000)\n",
    "plt.ylim(1e-13,1e-6)\n",
    "plt.legend(loc=(1.05,0.35))\n",
    "plt.ylabel('$C_L^{\\kappa\\kappa}$',fontsize=20)\n",
    "plt.xlabel('$L$',fontsize=20)\n",
    "plt.savefig(plotpath+'cl_auto_pB_tests%s.pdf'%LSST_bin, bbox_inches='tight')\n",
    "plt.show()"
   ]
  },
  {
   "cell_type": "code",
   "execution_count": null,
   "metadata": {},
   "outputs": [],
   "source": []
  }
 ],
 "metadata": {
  "kernelspec": {
   "display_name": "Python 2",
   "language": "python",
   "name": "python2"
  },
  "language_info": {
   "codemirror_mode": {
    "name": "ipython",
    "version": 2
   },
   "file_extension": ".py",
   "mimetype": "text/x-python",
   "name": "python",
   "nbconvert_exporter": "python",
   "pygments_lexer": "ipython2",
   "version": "2.7.14"
  }
 },
 "nbformat": 4,
 "nbformat_minor": 2
}
