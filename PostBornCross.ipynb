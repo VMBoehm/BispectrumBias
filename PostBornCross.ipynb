{
 "cells": [
  {
   "cell_type": "code",
   "execution_count": null,
   "metadata": {},
   "outputs": [],
   "source": [
    "from __future__ import division\n",
    "%matplotlib inline\n",
    "import matplotlib.pyplot as plt\n",
    "from postBornCrossSpectra import PostBorn_Bispec\n",
    "import numpy as np\n",
    "import Cosmology as C\n",
    "import pickle\n",
    "from scipy.integrate import simps\n",
    "from scipy.interpolate import RectBivariateSpline\n",
    "from classy import Class\n",
    "\n",
    "import copy\n",
    "import kernels\n",
    "plt.style.use(['seaborn-colorblind','paper'])\n",
    "plt.style.use('classic')"
   ]
  },
  {
   "cell_type": "code",
   "execution_count": null,
   "metadata": {},
   "outputs": [],
   "source": [
    "plotpath = './CrossPostBorn/results/plots/vanessa/'"
   ]
  },
  {
   "cell_type": "code",
   "execution_count": null,
   "metadata": {},
   "outputs": [],
   "source": [
    "zmin = 1e-5\n",
    "zmax = 1090.\n",
    "\n",
    "kmin = 1e-4\n",
    "kmax = 50\n",
    "\n",
    "cosmo = C.Planck2015\n",
    "\n",
    "a     = np.linspace(1./(1.+zmin),1./(1.+zmax),500)  \n",
    "z     = 1./a-1.\n",
    "\n",
    "data  = C.CosmoData(cosmo[1],z)\n",
    "\n",
    "LSST_bin  = 'all'\n",
    "\n",
    "L     = np.logspace(1,4,100)\n"
   ]
  },
  {
   "cell_type": "code",
   "execution_count": null,
   "metadata": {},
   "outputs": [],
   "source": [
    "#compute 31 term seperately\n",
    "def get_31_term(L,L1,M):\n",
    "    res=[]\n",
    "    for L_ in L:\n",
    "        res+=[simps(M(L_,L1,grid=False)/L1,L1)]\n",
    "\n",
    "    res= np.asarray(res)\n",
    "    res*=-1/(2*np.pi)*L**2\n",
    "    return res"
   ]
  },
  {
   "cell_type": "code",
   "execution_count": null,
   "metadata": {},
   "outputs": [],
   "source": [
    "#compute correction following Krause&Hirata\n",
    "def get_regularized_sum_of_terms(L,L1,phi,M):\n",
    "    nu = np.cos(phi)\n",
    "    res=[]\n",
    "    for LL in L:\n",
    "        resL1=[]\n",
    "        for LL1 in L1:\n",
    "            L_= LL*np.sqrt(1.+(LL1/LL)**2-2.*LL1/LL*nu)\n",
    "            integrand = LL**2*LL1**3*(LL*nu-LL1)**2*(LL-LL1*nu)**2*(M(LL,LL1,grid=False)/LL**4/LL1**4-M(L_,LL1,grid=False)/L_**4/LL1**4)\n",
    "            resL1+=[simps(integrand,phi)]\n",
    "        res+=[simps(resL1,L1)]\n",
    "    res=4.*np.asarray(res)/(2*np.pi)**2\n",
    "    return res\n",
    "\n",
    "def get_second_sum_of_terms(L,L1,M):\n",
    "    res=[]\n",
    "    for LL in L:\n",
    "        integrand = L1*(27./4.*LL*L1+LL**2*L1**6)*(M(LL,L1,grid=False)/LL**4/L1**4)\n",
    "        res+=[simps(integrand,L1)]   \n",
    "    return 4.*np.asarray(res)/4./np.pi"
   ]
  },
  {
   "cell_type": "code",
   "execution_count": null,
   "metadata": {},
   "outputs": [],
   "source": [
    "#compute correction following Krause&Hirata\n",
    "def get_regularized_sum_of_terms(L,L1,phi,M):\n",
    "    nu = np.cos(phi)\n",
    "    res=[]\n",
    "    for LL in L:\n",
    "        resL1=[]\n",
    "        for LL1 in L1:\n",
    "            L_= LL*np.sqrt(1.+(LL1/LL)**2+2.*LL1/LL*nu)\n",
    "            integrand =LL**2*LL1**3*(LL1*nu+LL)**2*(LL1+LL*nu)**2*(M(L_,LL1,grid=False)/L_**4/LL1**4-M(LL,LL1,grid=False)/LL**4/LL1**4)\n",
    "            resL1+=[simps(integrand,phi)]\n",
    "        res+=[simps(resL1,L1)]\n",
    "    res=4.*np.asarray(res)/(2*np.pi)**2\n",
    "    return res\n",
    "\n",
    "def get_second_sum_of_terms(L,L1,M):\n",
    "    nu = np.cos(phi)\n",
    "    res=[]\n",
    "    for LL in L:\n",
    "        resL1=[]\n",
    "        for LL1 in L1:\n",
    "            integrand = LL1*(LL**2*LL1**2*(LL1*nu+LL)**2*(LL1+LL*nu)**2-LL**4*(LL*LL1*nu)**2)*(M(LL,LL1,grid=False)/LL**4/LL1**4)\n",
    "            resL1+=[simps(integrand,phi)]\n",
    "        res+=[simps(resL1,L1)]\n",
    "    res=4.*np.asarray(res)/(2*np.pi)**2\n",
    "    return res"
   ]
  },
  {
   "cell_type": "code",
   "execution_count": null,
   "metadata": {},
   "outputs": [],
   "source": [
    "#test functions for angular integration\n",
    "def test_ang_integration(L,L1,phi):\n",
    "    nu = np.cos(phi)\n",
    "    res1=[]\n",
    "    for LL in L:\n",
    "        resL1=[]\n",
    "        for LL1 in L1:\n",
    "            integrand = (LL*nu-LL1)**2*(LL-LL1*nu)**2/LL**4/LL1**4\n",
    "            resL1+=[simps(integrand,phi)]\n",
    "        res1+=[simps(resL1,L1)]\n",
    "    \n",
    "    res2=[]\n",
    "    for LL in L:\n",
    "        # first term dominates, second term gives sub-percent corrections\n",
    "        integrand = (np.pi*(LL**4+L1**4+4*LL**2*L1**2)+(2*np.pi+3./4.*np.pi)*(LL**2*L1**2))/LL**4/L1**4\n",
    "        res2+=[simps(integrand,L1)]\n",
    "    return np.asarray(res1),np.asarray(res2)"
   ]
  },
  {
   "cell_type": "code",
   "execution_count": null,
   "metadata": {},
   "outputs": [],
   "source": [
    "phi=np.linspace(0,2.*np.pi,800)\n",
    "L1=np.logspace(-1,5,400)\n",
    "\n",
    "#sub-percent difference in angular integrations, so looks like L-scaling of M matrix is screwed up?\n",
    "res1, res2 = test_ang_integration(L,L1,phi)\n",
    "plt.semilogx(L,(res1-res2)/res1*100)\n",
    "plt.plot(L,(res1-res2)/res2*100)"
   ]
  },
  {
   "cell_type": "code",
   "execution_count": null,
   "metadata": {},
   "outputs": [],
   "source": [
    "# first test for CMB lensing auto spectrum, change second kernel to initialize for cross\n",
    "first_kernel  = kernels.CMB_lens(data.chi_cmb,data)\n",
    "simple_kernel = kernels.CMB_lens(None,data)\n",
    "second_kernel = kernels.CMB_lens(data.chi_cmb,data)#kernels.gal_clus(kernels.dNdz_LSST,kernels.simple_bias,data,LSST_bin)\n",
    "\n",
    "PB1 = PostBorn_Bispec(data, zmin, data.z_cmb, first_kernel, second_kernel, simple_kernel, k_min=kmin,k_max=100, lmax=30000, acc=2)"
   ]
  },
  {
   "cell_type": "code",
   "execution_count": null,
   "metadata": {},
   "outputs": [],
   "source": [
    "phi=np.linspace(0,2.*np.pi,800)\n",
    "L1=np.logspace(-1,5,400)\n",
    "plt.figure()\n",
    "plt.loglog(PB1.ls,PB1.CL_born,label='(11) term')\n",
    "reskk1 = get_regularized_sum_of_terms(L,L1,phi,PB1.Mstarsp)\n",
    "reskk2 = get_second_sum_of_terms(L,L1,PB1.Mstarsp)\n",
    "plt.loglog(L, -reskk1,label='integral 1')\n",
    "plt.loglog(L, reskk2,ls='--',label='integral 2')\n",
    "plt.loglog(L, reskk1+reskk2,ls='--',label='difference')\n",
    "plt.loglog(L, -(reskk1+reskk2),ls='--',label='difference')\n",
    "# #(31)-term, multiply by two to get (31)+(13)\n",
    "# L1=np.logspace(-3,5,400)\n",
    "# reskk = get_31_term(L,L1,PB1.Mstarsp)\n",
    "# plt.loglog(L,-reskk,label='(31) term 2',ls='--')\n",
    "# L1=np.logspace(-3,5,400)\n",
    "# reskk = get_31_term(L1,L,PB1.Mstarsp)\n",
    "# plt.loglog(L1,-reskk,label='(31) term 3',ls='--')\n",
    "# L1=np.logspace(-6,5,400)\n",
    "# reskk = get_22_term2(L1,L1,phi,PB1.Mstarsp)\n",
    "# plt.loglog(L1,reskk,label='(22) term 2',ls='--')\n",
    "plt.xlim(10,10000)\n",
    "plt.ylim(1e-13,1e-6)\n",
    "plt.legend(loc='best')\n",
    "plt.ylabel('$C_L^{\\kappa\\kappa}$',fontsize=20)\n",
    "plt.xlabel('$L$',fontsize=20)\n",
    "plt.savefig(plotpath+'cl_kk_pB.pdf', bbox_inches='tight')\n",
    "plt.show()"
   ]
  },
  {
   "cell_type": "code",
   "execution_count": null,
   "metadata": {},
   "outputs": [],
   "source": [
    "# first test for CMB lensing auto spectrum, change second kernel to initialize for cross\n",
    "first_kernel  = kernels.CMB_lens(data.chi_cmb,data)\n",
    "simple_kernel = kernels.CMB_lens(None,data)\n",
    "second_kernel = kernels.gal_clus(kernels.dNdz_LSST,kernels.simple_bias,data,LSST_bin)\n",
    "\n",
    "PB2 = PostBorn_Bispec(data, zmin, data.z_cmb, first_kernel, second_kernel, simple_kernel, k_min=1e-4,k_max=200, lmax=60000, acc=1)\n",
    "\n",
    "#(31)-term, multiply by two to get (31)+(13)\n"
   ]
  },
  {
   "cell_type": "code",
   "execution_count": null,
   "metadata": {},
   "outputs": [],
   "source": [
    "plt.figure()\n",
    "for L_ in [100,1000,10000]:\n",
    "    dlnMdlnL1=L1*PB2.Mstarsp(L_,L1,dx=0,dy=1)/PB2.Mstarsp(L_,L1,dx=0,dy=0)\n",
    "    plt.semilogx(L1,dlnMdlnL1[0],label='L=%d'%L_)\n",
    "    \n",
    "plt.legend()\n",
    "plt.show()\n"
   ]
  },
  {
   "cell_type": "code",
   "execution_count": null,
   "metadata": {},
   "outputs": [],
   "source": [
    "plt.figure()\n",
    "for cc in [data.chi_cmb/10.,data.chi_cmb]:\n",
    "    dlnM1dlnL1=L1*PB2.inner_int(cc,L1,dx=0,dy=1)/PB2.inner_int(cc,L1,dx=0,dy=0)\n",
    "    plt.semilogx(L1,dlnM1dlnL1[0],label='chi=%d'%cc)\n",
    "    \n",
    "plt.legend(loc='best')\n",
    "plt.show()\n",
    "\n",
    "plt.figure()\n",
    "for cc in [data.chi_cmb/10.,data.chi_cmb]:\n",
    "    dlnM1dlnL1=PB2.inner_int(cc,L1,dx=0,dy=0)\n",
    "    plt.semilogx(L1,dlnM1dlnL1[0],label='chi=%d'%cc)\n",
    "    \n",
    "plt.legend(loc='best')\n",
    "plt.show()"
   ]
  },
  {
   "cell_type": "code",
   "execution_count": null,
   "metadata": {},
   "outputs": [],
   "source": [
    "\n",
    "plt.figure()\n",
    "plt.loglog(PB2.ls,PB2.CL_born,label='(11) term')\n",
    "L1=np.logspace(-5,np.log10(60000),1000)\n",
    "reskg = get_31_term(L,L1,PB2.Mstarsp)\n",
    "plt.loglog(L,-reskg,label='(31) term')\n",
    "L1=np.logspace(-1,np.log10(60000),1000)\n",
    "reskg = get_31_term(L,L1,PB2.Mstarsp)\n",
    "plt.loglog(L,-reskg,label='(31) term 2',ls='--')\n",
    "plt.xlim(10,50000)\n",
    "plt.legend()\n",
    "plt.ylabel('$C_L^{\\kappa g}$',fontsize=20)\n",
    "plt.xlabel('$L$',fontsize=20)\n",
    "plt.ylim(1e-12,1e-6)\n",
    "plt.savefig(plotpath+'cl_kg_pB_L1min%d.pdf'%(min(L1)), bbox_inches='tight')\n",
    "\n",
    "plt.show()"
   ]
  },
  {
   "cell_type": "code",
   "execution_count": null,
   "metadata": {},
   "outputs": [],
   "source": [
    "PB2.Mstarsp(L,L1)"
   ]
  },
  {
   "cell_type": "code",
   "execution_count": null,
   "metadata": {},
   "outputs": [],
   "source": [
    "# first test for CMB lensing auto spectrum, change second kernel to initialize for cross\n",
    "first_kernel  = kernels.gal_lens((0,1),data, p_chi=kernels.p_delta(data,1.))\n",
    "simple_kernel = kernels.CMB_lens(None,data)\n",
    "second_kernel = kernels.gal_lens((0,1),data, p_chi=kernels.p_delta(data,1.))\n",
    "\n",
    "PB3 = PostBorn_Bispec(data, zmin, data.z_cmb, first_kernel, second_kernel, simple_kernel, k_min=kmin,k_max=kmax, lmax=None, acc=1)\n",
    "\n",
    "#(31)-term, multiply by two to get (31)+(13)\n",
    "resgamgam = get_31_term(L,L1,PB3.Mstarsp)"
   ]
  },
  {
   "cell_type": "code",
   "execution_count": null,
   "metadata": {},
   "outputs": [],
   "source": [
    "\n",
    "plt.figure()\n",
    "plt.loglog(PB3.ls,PB3.ls**2*PB3.CL_born/(2*np.pi),label='(11) term')\n",
    "L1=np.logspace(-5,4)\n",
    "resgamgam = get_31_term(L,L1,PB3.Mstarsp)\n",
    "plt.loglog(L,-L**2*resgamgam/(2*np.pi),label='(31) term')\n",
    "L1=np.logspace(-1,4)\n",
    "resgamgam = get_31_term(L,L1,PB3.Mstarsp)\n",
    "plt.loglog(L,-L**2*resgamgam/(2*np.pi),label='(31) term 2', ls='--')\n",
    "plt.xlim(10,10000)\n",
    "plt.legend(loc='upper left')\n",
    "plt.ylabel('$C_L^{\\gamma \\gamma}$',fontsize=20)\n",
    "plt.xlabel('$L$',fontsize=20)\n",
    "plt.grid()\n",
    "plt.ylim(1e-10,1e-2)\n",
    "plt.savefig(plotpath+'cl_gamgam_pB_L1min%d.pdf'%(min(L1)), bbox_inches='tight')\n",
    "plt.show()"
   ]
  },
  {
   "cell_type": "code",
   "execution_count": null,
   "metadata": {},
   "outputs": [],
   "source": []
  },
  {
   "cell_type": "code",
   "execution_count": null,
   "metadata": {},
   "outputs": [],
   "source": [
    "L1 = np.logspace(-3,np.log10(20000),400)\n",
    "phi = np.linspace(0,2.*np.pi,400)\n",
    "L = L1\n",
    "term2 = get_22_term(L,L1,phi,PB2.Mstarsp)\n",
    "resgamgam = get_31_term(L,L1,PB3.Mstarsp)\n",
    "plt.figure()\n",
    "plt.loglog(PB3.ls,PB3.ls**2*PB3.CL_born/(2*np.pi),label='(11) term')\n",
    "plt.loglog(L,-L**2*resgamgam/(2*np.pi),label='(31) term')\n",
    "plt.loglog(L,L**2*term2/(2*np.pi),label='(22) term')\n",
    "plt.xlim(10,10000)\n",
    "plt.legend(loc='upper left')\n",
    "plt.ylabel('$C_L^{\\gamma \\gamma}$',fontsize=20)\n",
    "plt.xlabel('$L$',fontsize=20)\n",
    "plt.grid()\n",
    "plt.ylim(1e-10,1e-2)\n",
    "plt.savefig(plotpath+'cl_gamgam_pB_L1min%d.pdf'%(min(L1)), bbox_inches='tight')\n",
    "plt.show()"
   ]
  },
  {
   "cell_type": "code",
   "execution_count": null,
   "metadata": {},
   "outputs": [],
   "source": []
  }
 ],
 "metadata": {
  "kernelspec": {
   "display_name": "Python 2",
   "language": "python",
   "name": "python2"
  },
  "language_info": {
   "codemirror_mode": {
    "name": "ipython",
    "version": 2
   },
   "file_extension": ".py",
   "mimetype": "text/x-python",
   "name": "python",
   "nbconvert_exporter": "python",
   "pygments_lexer": "ipython2",
   "version": "2.7.14"
  }
 },
 "nbformat": 4,
 "nbformat_minor": 2
}
