{
 "cells": [
  {
   "cell_type": "code",
   "execution_count": 1,
   "metadata": {},
   "outputs": [],
   "source": [
    "from __future__ import division\n",
    "%matplotlib inline\n",
    "import matplotlib.pyplot as plt\n",
    "from postBornCrossSpectra import PostBorn_Bispec\n",
    "import numpy as np\n",
    "import Cosmology as C\n",
    "import pickle\n",
    "from scipy.integrate import simps\n",
    "from scipy.interpolate import RectBivariateSpline\n",
    "from classy import Class\n",
    "\n",
    "import copy\n",
    "import kernels\n",
    "plt.style.use(['seaborn-colorblind','paper'])\n",
    "plt.style.use('classic')"
   ]
  },
  {
   "cell_type": "code",
   "execution_count": 2,
   "metadata": {},
   "outputs": [],
   "source": [
    "plotpath = './CrossPostBorn/results/plots/vanessa/'"
   ]
  },
  {
   "cell_type": "code",
   "execution_count": 3,
   "metadata": {},
   "outputs": [
    {
     "name": "stdout",
     "output_type": "stream",
     "text": [
      "computing distances, derived parameters...\n",
      "{'Neff': 3.046}\n",
      "{'h': 0.68}\n",
      "{'m_ncdm_tot': 0.0}\n",
      "{'omega_m': 0.6608555034063286}\n"
     ]
    }
   ],
   "source": [
    "zmin = 1e-5\n",
    "zmax = 1090.\n",
    "\n",
    "kmin = 1e-4\n",
    "kmax = 50\n",
    "\n",
    "cosmo = C.Planck2015\n",
    "\n",
    "a     = np.linspace(1./(1.+zmin),1./(1.+zmax),500)  \n",
    "z     = 1./a-1.\n",
    "\n",
    "data  = C.CosmoData(cosmo[1],z)\n",
    "\n",
    "LSST_bin  = 'all'\n",
    "\n",
    "L     = np.logspace(1,4,100)\n"
   ]
  },
  {
   "cell_type": "code",
   "execution_count": 4,
   "metadata": {},
   "outputs": [],
   "source": [
    "#compute 31 term seperately\n",
    "def get_31_term(L,L1,M):\n",
    "    res=[]\n",
    "    for L_ in L:\n",
    "        res+=[simps(M(L_,L1,grid=False)/L1,L1)]\n",
    "\n",
    "    res= np.asarray(res)\n",
    "    res*=-1/(2*np.pi)*L**2\n",
    "    return res"
   ]
  },
  {
   "cell_type": "code",
   "execution_count": 5,
   "metadata": {},
   "outputs": [],
   "source": [
    "# #compute correction following Krause&Hirata\n",
    "def get_regularized_sum_of_terms_old(L,L1,phi,M,method='trapz'):\n",
    "    nu = np.cos(phi)\n",
    "    res=[]\n",
    "    for LL in L:\n",
    "        resL1=[]\n",
    "        for LL1 in L1:\n",
    "            L_= LL*np.sqrt(1.+(LL1/LL)**2-2.*LL1/LL*nu)\n",
    "            integrand =LL**2*LL1**3*(-LL1*nu+LL)**2*(-LL1+LL*nu)**2*(M(L_,LL1,grid=False)/L_**4/LL1**4-M(LL,LL1,grid=False)/LL**4/LL1**4)\n",
    "            if method =='simps':\n",
    "                resL1+=[simps(integrand,phi)]\n",
    "            elif method =='trapz':\n",
    "                resL1+=[np.trapz(integrand,phi)]\n",
    "            elif method =='sum':\n",
    "                resL1+=[np.sum(integrand*np.diff(phi)[0])]\n",
    "        res+=[simps(resL1,L1)]\n",
    "    res=4.*np.asarray(res)/(2*np.pi)**2\n",
    "    return res"
   ]
  },
  {
   "cell_type": "code",
   "execution_count": 6,
   "metadata": {},
   "outputs": [],
   "source": [
    "#compute correction following Krause&Hirata\n",
    "def get_regularized_sum_of_terms(L,L1,phi,M,method='trapz'):\n",
    "    nu = np.cos(phi)\n",
    "    res=[]\n",
    "    for LL in L:\n",
    "        resL1=[]\n",
    "        for LL1 in L1:\n",
    "            L_= LL*np.sqrt(1.+(LL1/LL)**2+2.*LL1/LL*nu)\n",
    "            integrand =LL**2*LL1**3*(LL1*nu+LL)**2*(LL1+LL*nu)**2*(M(L_,LL1,grid=False)/L_**4/LL1**4-M(LL,LL1,grid=False)/LL**4/LL1**4)\n",
    "            if method =='simps':\n",
    "                resL1+=[simps(integrand,phi)]\n",
    "            elif method =='trapz':\n",
    "                resL1+=[np.trapz(integrand,phi)]\n",
    "            elif method =='sum':\n",
    "                resL1+=[np.sum(integrand*np.diff(phi)[0])]\n",
    "        res+=[simps(resL1,L1)]\n",
    "    res=4.*np.asarray(res)/(2*np.pi)**2\n",
    "    return res\n",
    "\n",
    "def get_second_sum_of_terms(L,L1,M,method='trapz'):\n",
    "    nu = np.cos(phi)\n",
    "    res=[]\n",
    "    for LL in L:\n",
    "        resL1=[]\n",
    "        for LL1 in L1:\n",
    "            integrand = LL1*(LL**2*LL1**2*(LL1*nu+LL)**2*(LL1+LL*nu)**2-LL**4*(LL*LL1*nu)**2)*(M(LL,LL1,grid=False)/LL**4/LL1**4)\n",
    "            if method =='simps':\n",
    "                resL1+=[simps(integrand,phi)]\n",
    "            elif method =='trapz':\n",
    "                resL1+=[np.trapz(integrand,phi)]\n",
    "            elif method =='sum':\n",
    "                resL1+=[np.sum(integrand*np.diff(phi)[0])]\n",
    "        res+=[simps(resL1,L1)]\n",
    "    res=4.*np.asarray(res)/(2*np.pi)**2\n",
    "    return res\n",
    "\n",
    "#angular integration by hand\n",
    "def get_second_sum_of_terms_exact(L,L1,M):\n",
    "    res=[]\n",
    "    for LL in L:\n",
    "        integrand = L1*(27./4.*LL**4*L1**4+LL**2*L1**6)*(M(LL,L1,grid=False)/LL**4/L1**4)\n",
    "        res+=[simps(integrand,L1)]   \n",
    "    return 4.*np.asarray(res)/4./np.pi"
   ]
  },
  {
   "cell_type": "code",
   "execution_count": 7,
   "metadata": {},
   "outputs": [
    {
     "name": "stdout",
     "output_type": "stream",
     "text": [
      "Initializing CLASS with halofit...\n",
      "{'k_step_super': 0.0001, 'tol_perturb_integration': 1e-06, 'perturb_sampling_stepsize': 0.01, 'k_step_super_reduction': 0.1, 'k_max_tau0_over_l_max': 5.0, 'ln10^{10}A_s': 3.062, 'h': 0.68, 'z_max_pk': 1088.8072653000208, 'non linear': 'halofit', 'omega_cdm': 0.119, 'Omega_k': 0.0, 'k_pivot': 0.05, 'k_per_decade_for_pk': 20, 'P_k_max_1/Mpc': 101, 'k_min_tau0': 0.002, 'output': 'mPk', 'omega_b': 0.0223, 'n_s': 0.97, 'k_step_sub': 0.015, 'halofit_k_per_decade': 3000.0}\n",
      "sigma8  0.829731969326\n",
      "('zmax', 1088.8072653000208)\n"
     ]
    }
   ],
   "source": [
    "# first test for CMB lensing auto spectrum, change second kernel to initialize for cross\n",
    "first_kernel  = kernels.CMB_lens(data.chi_cmb,data)\n",
    "simple_kernel = kernels.CMB_lens(None,data)\n",
    "second_kernel = kernels.CMB_lens(data.chi_cmb,data)#kernels.gal_clus(kernels.dNdz_LSST,kernels.simple_bias,data,LSST_bin)\n",
    "\n",
    "PB1 = PostBorn_Bispec(data, zmin, data.z_cmb, first_kernel, second_kernel, simple_kernel, k_min=kmin,k_max=100, lmax=30000, acc=2)"
   ]
  },
  {
   "cell_type": "code",
   "execution_count": 8,
   "metadata": {},
   "outputs": [
    {
     "name": "stderr",
     "output_type": "stream",
     "text": [
      "/home/nessa/miniconda2/lib/python2.7/site-packages/ipykernel_launcher.py:9: RuntimeWarning: divide by zero encountered in true_divide\n",
      "  if __name__ == '__main__':\n",
      "/home/nessa/miniconda2/lib/python2.7/site-packages/ipykernel_launcher.py:9: RuntimeWarning: invalid value encountered in multiply\n",
      "  if __name__ == '__main__':\n"
     ]
    }
   ],
   "source": [
    "phi=np.linspace(0.,2.*np.pi,1000,endpoint=True)\n",
    "L1=np.logspace(-1,5,400)\n",
    "reskk1 = get_regularized_sum_of_terms(L,L1,phi,PB1.Mstarsp,method='trapz')\n",
    "reskk1b= get_regularized_sum_of_terms_old(L,L1,phi,PB1.Mstarsp,method='trapz')\n",
    "reskk2 = get_second_sum_of_terms(L,L1,PB1.Mstarsp,method='trapz')\n",
    "reskk2b= get_second_sum_of_terms_exact(L,L1,PB1.Mstarsp)\n"
   ]
  },
  {
   "cell_type": "code",
   "execution_count": 10,
   "metadata": {},
   "outputs": [
    {
     "name": "stderr",
     "output_type": "stream",
     "text": [
      "No handlers could be found for logger \"matplotlib.legend\"\n",
      "/home/nessa/miniconda2/lib/python2.7/site-packages/matplotlib/scale.py:111: RuntimeWarning: invalid value encountered in less_equal\n",
      "  out[a <= 0] = -1000\n"
     ]
    },
    {
     "data": {
      "image/png": "[encoded data removed]",
      "text/plain": [
       "<matplotlib.figure.Figure at 0x7f2b4ff289d0>"
      ]
     },
     "metadata": {},
     "output_type": "display_data"
    },
    {
     "data": {
      "text/plain": [
       "<matplotlib.figure.Figure at 0x7f2b4ff28950>"
      ]
     },
     "metadata": {},
     "output_type": "display_data"
    }
   ],
   "source": [
    "plt.figure()\n",
    "plt.title('relative difference of two variable transforms')\n",
    "plt.loglog(L, reskk1b/reskk1-1)\n",
    "plt.loglog(L, -reskk1b/reskk1+1)\n",
    "plt.xlabel('$L$',fontsize=20)\n",
    "plt.legend(loc='best')\n",
    "plt.show()\n",
    "plt.savefig(plotpath+'firstIntegral_tests.pdf', bbox_inches='tight')"
   ]
  },
  {
   "cell_type": "code",
   "execution_count": 11,
   "metadata": {},
   "outputs": [
    {
     "name": "stderr",
     "output_type": "stream",
     "text": [
      "/home/nessa/miniconda2/lib/python2.7/site-packages/matplotlib/ticker.py:2206: UserWarning: Data has no positive values, and therefore cannot be log-scaled.\n",
      "  \"Data has no positive values, and therefore cannot be \"\n"
     ]
    },
    {
     "data": {
      "image/png": "[encoded data removed]",
      "text/plain": [
       "<matplotlib.figure.Figure at 0x7f2b4c977390>"
      ]
     },
     "metadata": {},
     "output_type": "display_data"
    },
    {
     "data": {
      "text/plain": [
       "<matplotlib.figure.Figure at 0x7f2b4c977910>"
      ]
     },
     "metadata": {},
     "output_type": "display_data"
    }
   ],
   "source": [
    "lstyles=['-','--','-.']\n",
    "colors=['blue', 'crimson','green']\n",
    "i=0\n",
    "plt.figure()\n",
    "plt.title('relative difference of analytic and numeric integral')\n",
    "for method in ['simps','trapz','sum']:\n",
    "    reskk_ = get_second_sum_of_terms(L,L1,PB1.Mstarsp,method=method)\n",
    "    plt.loglog(L, reskk_/reskk2b-1,label=method,ls=lstyles[i],c=colors[i])\n",
    "    plt.loglog(L, -reskk_/reskk2b+1,label=method,ls=lstyles[i],c=colors[i])\n",
    "    i+=1\n",
    "plt.xlabel('$L$',fontsize=20)\n",
    "plt.legend()\n",
    "plt.show()\n",
    "plt.savefig(plotpath+'integral_tests.pdf', bbox_inches='tight')"
   ]
  },
  {
   "cell_type": "code",
   "execution_count": 12,
   "metadata": {},
   "outputs": [
    {
     "data": {
      "image/png": "[encoded data removed]",
      "text/plain": [
       "<matplotlib.figure.Figure at 0x7f2b4c5e1f90>"
      ]
     },
     "metadata": {},
     "output_type": "display_data"
    }
   ],
   "source": [
    "plt.figure()\n",
    "plt.loglog(PB1.ls,PB1.CL_born,label='(11) term')\n",
    "plt.loglog(L, -reskk1,label='integral 1')\n",
    "plt.loglog(L, reskk2,ls='--',label='integral 2',color='coral')\n",
    "plt.loglog(L, reskk1+reskk2,ls='--',label='diff',color='crimson')\n",
    "plt.loglog(L, -(reskk1+reskk2),ls='-',color='crimson')\n",
    "plt.loglog(L, reskk2b,ls='-.',label='integral 2 exact')\n",
    "plt.loglog(L, reskk1+reskk2b,ls='-',label='diff 2 ',color='cyan')\n",
    "plt.loglog(L, -(reskk1+reskk2b),ls='--',color='cyan')\n",
    "plt.xlim(10,10000)\n",
    "plt.ylim(1e-13,1e-6)\n",
    "plt.legend(loc=(1.05,0.35))\n",
    "plt.ylabel('$C_L^{\\kappa\\kappa}$',fontsize=20)\n",
    "plt.xlabel('$L$',fontsize=20)\n",
    "plt.savefig(plotpath+'cl_kk_pB_tests.pdf', bbox_inches='tight')\n",
    "plt.show()"
   ]
  },
  {
   "cell_type": "code",
   "execution_count": 13,
   "metadata": {},
   "outputs": [
    {
     "data": {
      "image/png": "[encoded data removed]",
      "text/plain": [
       "<matplotlib.figure.Figure at 0x7f2b4fd5e450>"
      ]
     },
     "metadata": {},
     "output_type": "display_data"
    }
   ],
   "source": [
    "plt.figure()\n",
    "plt.loglog(PB1.ls,PB1.CL_born,label='(11) term')\n",
    "plt.loglog(L, -reskk1,label='integral 1')\n",
    "plt.loglog(L, reskk2,ls='--',label='integral 2',color='coral')\n",
    "plt.loglog(L, reskk1+reskk2,ls='--',label='diff',color='crimson')\n",
    "plt.loglog(L, -(reskk1+reskk2),ls='-',color='crimson')\n",
    "plt.loglog(L, reskk2b,ls='-.',label='integral 1 old way')\n",
    "plt.loglog(L, reskk1b+reskk2b,ls='-',label='diff 2 ',color='cyan')\n",
    "plt.loglog(L, -(reskk1b+reskk2b),ls='--',color='cyan')\n",
    "plt.xlim(10,10000)\n",
    "plt.ylim(1e-13,1e-6)\n",
    "plt.legend(loc=(1.05,0.35))\n",
    "plt.ylabel('$C_L^{\\kappa\\kappa}$',fontsize=20)\n",
    "plt.xlabel('$L$',fontsize=20)\n",
    "plt.savefig(plotpath+'cl_kk_pB_tests_2.pdf', bbox_inches='tight')\n",
    "plt.show()"
   ]
  },
  {
   "cell_type": "code",
   "execution_count": null,
   "metadata": {},
   "outputs": [],
   "source": [
    "# first test for CMB lensing auto spectrum, change second kernel to initialize for cross\n",
    "first_kernel  = kernels.CMB_lens(data.chi_cmb,data)\n",
    "simple_kernel = kernels.CMB_lens(None,data)\n",
    "second_kernel = kernels.gal_clus(kernels.dNdz_LSST,kernels.simple_bias,data,LSST_bin)\n",
    "\n",
    "PB2 = PostBorn_Bispec(data, zmin, data.z_cmb, first_kernel, second_kernel, simple_kernel, k_min=1e-4,k_max=200, lmax=60000, acc=1)\n",
    "\n",
    "#(31)-term, multiply by two to get (31)+(13)\n"
   ]
  },
  {
   "cell_type": "code",
   "execution_count": null,
   "metadata": {},
   "outputs": [],
   "source": [
    "plt.figure()\n",
    "for L_ in [100,1000,10000]:\n",
    "    dlnMdlnL1=L1*PB2.Mstarsp(L_,L1,dx=0,dy=1)/PB2.Mstarsp(L_,L1,dx=0,dy=0)\n",
    "    plt.semilogx(L1,dlnMdlnL1[0],label='L=%d'%L_)\n",
    "    \n",
    "plt.legend()\n",
    "plt.show()\n"
   ]
  },
  {
   "cell_type": "code",
   "execution_count": null,
   "metadata": {},
   "outputs": [],
   "source": [
    "plt.figure()\n",
    "for cc in [data.chi_cmb/10.,data.chi_cmb]:\n",
    "    dlnM1dlnL1=L1*PB2.inner_int(cc,L1,dx=0,dy=1)/PB2.inner_int(cc,L1,dx=0,dy=0)\n",
    "    plt.semilogx(L1,dlnM1dlnL1[0],label='chi=%d'%cc)\n",
    "    \n",
    "plt.legend(loc='best')\n",
    "plt.show()\n",
    "\n",
    "plt.figure()\n",
    "for cc in [data.chi_cmb/10.,data.chi_cmb]:\n",
    "    dlnM1dlnL1=PB2.inner_int(cc,L1,dx=0,dy=0)\n",
    "    plt.semilogx(L1,dlnM1dlnL1[0],label='chi=%d'%cc)\n",
    "    \n",
    "plt.legend(loc='best')\n",
    "plt.show()"
   ]
  },
  {
   "cell_type": "code",
   "execution_count": null,
   "metadata": {},
   "outputs": [],
   "source": [
    "\n",
    "plt.figure()\n",
    "plt.loglog(PB2.ls,PB2.CL_born,label='(11) term')\n",
    "L1=np.logspace(-5,np.log10(60000),1000)\n",
    "reskg = get_31_term(L,L1,PB2.Mstarsp)\n",
    "plt.loglog(L,-reskg,label='(31) term')\n",
    "L1=np.logspace(-1,np.log10(60000),1000)\n",
    "reskg = get_31_term(L,L1,PB2.Mstarsp)\n",
    "plt.loglog(L,-reskg,label='(31) term 2',ls='--')\n",
    "plt.xlim(10,50000)\n",
    "plt.legend()\n",
    "plt.ylabel('$C_L^{\\kappa g}$',fontsize=20)\n",
    "plt.xlabel('$L$',fontsize=20)\n",
    "plt.ylim(1e-12,1e-6)\n",
    "plt.savefig(plotpath+'cl_kg_pB_L1min%d.pdf'%(min(L1)), bbox_inches='tight')\n",
    "\n",
    "plt.show()"
   ]
  },
  {
   "cell_type": "code",
   "execution_count": null,
   "metadata": {},
   "outputs": [],
   "source": [
    "PB2.Mstarsp(L,L1)"
   ]
  },
  {
   "cell_type": "code",
   "execution_count": null,
   "metadata": {},
   "outputs": [],
   "source": [
    "# first test for CMB lensing auto spectrum, change second kernel to initialize for cross\n",
    "first_kernel  = kernels.gal_lens((0,1),data, p_chi=kernels.p_delta(data,1.))\n",
    "simple_kernel = kernels.CMB_lens(None,data)\n",
    "second_kernel = kernels.gal_lens((0,1),data, p_chi=kernels.p_delta(data,1.))\n",
    "\n",
    "PB3 = PostBorn_Bispec(data, zmin, data.z_cmb, first_kernel, second_kernel, simple_kernel, k_min=kmin,k_max=kmax, lmax=None, acc=1)\n",
    "\n",
    "#(31)-term, multiply by two to get (31)+(13)\n",
    "resgamgam = get_31_term(L,L1,PB3.Mstarsp)"
   ]
  },
  {
   "cell_type": "code",
   "execution_count": null,
   "metadata": {},
   "outputs": [],
   "source": [
    "\n",
    "plt.figure()\n",
    "plt.loglog(PB3.ls,PB3.ls**2*PB3.CL_born/(2*np.pi),label='(11) term')\n",
    "L1=np.logspace(-5,4)\n",
    "resgamgam = get_31_term(L,L1,PB3.Mstarsp)\n",
    "plt.loglog(L,-L**2*resgamgam/(2*np.pi),label='(31) term')\n",
    "L1=np.logspace(-1,4)\n",
    "resgamgam = get_31_term(L,L1,PB3.Mstarsp)\n",
    "plt.loglog(L,-L**2*resgamgam/(2*np.pi),label='(31) term 2', ls='--')\n",
    "plt.xlim(10,10000)\n",
    "plt.legend(loc='upper left')\n",
    "plt.ylabel('$C_L^{\\gamma \\gamma}$',fontsize=20)\n",
    "plt.xlabel('$L$',fontsize=20)\n",
    "plt.grid()\n",
    "plt.ylim(1e-10,1e-2)\n",
    "plt.savefig(plotpath+'cl_gamgam_pB_L1min%d.pdf'%(min(L1)), bbox_inches='tight')\n",
    "plt.show()"
   ]
  },
  {
   "cell_type": "code",
   "execution_count": null,
   "metadata": {},
   "outputs": [],
   "source": []
  },
  {
   "cell_type": "code",
   "execution_count": null,
   "metadata": {},
   "outputs": [],
   "source": [
    "L1 = np.logspace(-3,np.log10(20000),400)\n",
    "phi = np.linspace(0,2.*np.pi,400)\n",
    "L = L1\n",
    "term2 = get_22_term(L,L1,phi,PB2.Mstarsp)\n",
    "resgamgam = get_31_term(L,L1,PB3.Mstarsp)\n",
    "plt.figure()\n",
    "plt.loglog(PB3.ls,PB3.ls**2*PB3.CL_born/(2*np.pi),label='(11) term')\n",
    "plt.loglog(L,-L**2*resgamgam/(2*np.pi),label='(31) term')\n",
    "plt.loglog(L,L**2*term2/(2*np.pi),label='(22) term')\n",
    "plt.xlim(10,10000)\n",
    "plt.legend(loc='upper left')\n",
    "plt.ylabel('$C_L^{\\gamma \\gamma}$',fontsize=20)\n",
    "plt.xlabel('$L$',fontsize=20)\n",
    "plt.grid()\n",
    "plt.ylim(1e-10,1e-2)\n",
    "plt.savefig(plotpath+'cl_gamgam_pB_L1min%d.pdf'%(min(L1)), bbox_inches='tight')\n",
    "plt.show()"
   ]
  },
  {
   "cell_type": "code",
   "execution_count": null,
   "metadata": {},
   "outputs": [],
   "source": []
  },
  {
   "cell_type": "code",
   "execution_count": null,
   "metadata": {},
   "outputs": [],
   "source": []
  }
 ],
 "metadata": {
  "kernelspec": {
   "display_name": "Python 2",
   "language": "python",
   "name": "python2"
  },
  "language_info": {
   "codemirror_mode": {
    "name": "ipython",
    "version": 2
   },
   "file_extension": ".py",
   "mimetype": "text/x-python",
   "name": "python",
   "nbconvert_exporter": "python",
   "pygments_lexer": "ipython2",
   "version": "2.7.14"
  }
 },
 "nbformat": 4,
 "nbformat_minor": 2
}
