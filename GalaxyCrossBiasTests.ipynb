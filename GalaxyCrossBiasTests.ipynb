{
 "cells": [
  {
   "cell_type": "code",
   "execution_count": null,
   "metadata": {},
   "outputs": [],
   "source": [
    "%matplotlib inline\n",
    "import matplotlib.pyplot as plt\n",
    "import pickle\n",
    "import numpy as np\n",
    "plt.style.use(['seaborn-colorblind','paper'])\n",
    "plt.style.use('classic')"
   ]
  },
  {
   "cell_type": "code",
   "execution_count": null,
   "metadata": {},
   "outputs": [],
   "source": [
    "ellpath=\"/home/nessa/Documents/Projects/LensingBispectrum/CMB-nonlinear/outputs/ells/\"\n",
    "specpath='/home/nessa/Documents/Projects/LensingBispectrum/CMB-nonlinear/outputs/bispectra/'"
   ]
  },
  {
   "cell_type": "code",
   "execution_count": null,
   "metadata": {},
   "outputs": [],
   "source": [
    "L,l,theta = pickle.load(open(ellpath+'ell_ang_equilat_Lmin1_Lmax3000_lmin1_lmax8000_lenL160_lenl180_lenang160_1e-04.pkl','r'))\n",
    "\n",
    "#difference at low L most likely due to difference in Cls\n",
    "path='/home/nessa/Documents/Projects/LensingBispectrum/CMB-nonlinear/outputs/power_spectra/'\n",
    "cl0 = np.load(path+'CL_postBorn_test1_LSSTbin0_equilat_Planck2015_Lmin1-Lmax2999_halofit.npy')\n",
    "cl3 = np.load(path+'CL_postBorn_test2_LSSTbin4_equilat_Planck2015_Lmin1-Lmax2999_halofit.npy')\n",
    "\n",
    "plt.figure()\n",
    "plt.loglog(L, cl0, label='bin 0')\n",
    "plt.loglog(L, cl3, label='bin 4')\n",
    "plt.xlim(10,2000)\n",
    "plt.legend()\n",
    "plt.show()\n"
   ]
  },
  {
   "cell_type": "code",
   "execution_count": null,
   "metadata": {},
   "outputs": [],
   "source": [
    "#equilat\n",
    "L,l,theta = pickle.load(open(ellpath+'ell_ang_equilat_Lmin1_Lmax3000_lmin1_lmax8000_lenL160_lenl180_lenang160_1e-04.pkl','r'))\n",
    "bi_equi0 = np.load(specpath+'bispec_postBorn_test1_LSSTbin0_equilat_Planck2015_Lmin1-Lmax2999-lmax2999_halofit_SC.npy')\n",
    "bi_equi0_pB1 = np.load(specpath+'bispec_postBorn_test1_LSSTbin0_equilat_Planck2015_Lmin1-Lmax2999-lmax2999_halofit_SC_post_born1.npy')\n",
    "bi_equi0_pB2 = np.load(specpath+'bispec_postBorn_test1_LSSTbin0_equilat_Planck2015_Lmin1-Lmax2999-lmax2999_halofit_SC_post_born2.npy')\n",
    "bi_equi0_sum = np.load(specpath+'bispec_postBorn_test1_LSSTbin0_equilat_Planck2015_Lmin1-Lmax2999-lmax2999_halofit_SC_post_born_sum.npy')\n",
    "bi_equi0_sumnew = np.load(specpath+'bispec_test_new_LSSTbin0_equilat_Planck2015_Lmin1-Lmax2999-lmax2999_halofit_SC_post_born.npy')\n",
    "\n",
    "bi_equi0_ = np.load(specpath+'bispec_postBorn_test2_LSSTbin4_equilat_Planck2015_Lmin1-Lmax2999-lmax2999_halofit_SC.npy')\n",
    "bi_equi0_pB1_ = np.load(specpath+'bispec_postBorn_test2_LSSTbin4_equilat_Planck2015_Lmin1-Lmax2999-lmax2999_halofit_SC_post_born1.npy')\n",
    "bi_equi0_pB2_ = np.load(specpath+'bispec_postBorn_test2_LSSTbin4_equilat_Planck2015_Lmin1-Lmax2999-lmax2999_halofit_SC_post_born2.npy')\n",
    "bi_equi0_sum_ = np.load(specpath+'bispec_postBorn_test2_LSSTbin4_equilat_Planck2015_Lmin1-Lmax2999-lmax2999_halofit_SC_post_born_sum.npy')\n",
    "\n",
    "\n",
    "plt.figure(figsize=(5,5))\n",
    "\n",
    "plt.loglog(L, bi_equi0,c='k',label='bin 0 LSS')\n",
    "plt.loglog(L, bi_equi0_pB1,c='r',ls='--',label='bin 0 post Born 1')\n",
    "plt.loglog(L, bi_equi0_pB2,c='r',ls='--',label='bin 0 post Born 2')\n",
    "plt.loglog(L, bi_equi0_sum,c='r',ls='-',label='bin 0 sum')\n",
    "plt.loglog(L, bi_equi0_sum,c='g',ls='-.',label='bin 0 sum new')\n",
    "plt.loglog(L, bi_equi0_,c='b',label='bin 4 LSS')\n",
    "plt.loglog(L, bi_equi0_pB1_,c='b',ls='--',label='bin 4 post Born 1')\n",
    "plt.loglog(L, bi_equi0_pB2_,c='b',ls='--',label='bin 4 post Born 2')\n",
    "plt.loglog(L, bi_equi0_sum_,c='b',ls='-.',label='bin 4 sum')\n",
    "plt.xlim(100,3000)\n",
    "plt.legend(loc=(1.02,0.5),ncol=2,fontsize=11)\n",
    "plt.xlabel('L')\n",
    "plt.ylabel('$B(L,L,L)$')\n",
    "plotpath='/home/nessa/Documents/Projects/LensingBispectrum/CMB-nonlinear/Tests/CrossBias/'\n",
    "plt.savefig(plotpath+'bispec_equilat_pB_test.png',bbox_inches='tight')\n",
    "plt.show()\n"
   ]
  },
  {
   "cell_type": "code",
   "execution_count": null,
   "metadata": {},
   "outputs": [],
   "source": [
    "plt.loglog(L, L*bi_equi0_sum/np.sqrt(cl0**3),label='bin 0')\n",
    "plt.loglog(L, L*bi_equi0_sum_/np.sqrt(cl3**3),label='bin 1')\n",
    "plt.xlim(100,3000)"
   ]
  },
  {
   "cell_type": "code",
   "execution_count": null,
   "metadata": {},
   "outputs": [],
   "source": [
    "noisepath='/home/nessa/Documents/Projects/LensingBispectrum/CMB-nonlinear/outputs/noise_curves/'\n",
    "ll,_,_,_,noise_gg0,noise_kg0,noise_kk0 = pickle.load(open(noisepath+'Gaussian_variances_CMB-S4_LSSTbin0_full_Planck2015_dndz_LSST_i27_SN5_3y.pkl','r'))\n",
    "ll,_,_,_,noise_gg1,noise_kg1,noise_kk1 = pickle.load(open(noisepath+'Gaussian_variances_CMB-S4_LSSTbin1_full_Planck2015_dndz_LSST_i27_SN5_3y.pkl','r'))\n",
    "ll,_,_,_,noise_gg2,noise_kg2,noise_kk2 = pickle.load(open(noisepath+'Gaussian_variances_CMB-S4_LSSTbin2_full_Planck2015_dndz_LSST_i27_SN5_3y.pkl','r'))\n",
    "ll,_,_,_,noise_gg3,noise_kg3,noise_kk3 = pickle.load(open(noisepath+'Gaussian_variances_CMB-S4_LSSTbin3_full_Planck2015_dndz_LSST_i27_SN5_3y.pkl','r'))\n",
    "ll,_,_,_,noise_gg4,noise_kg4,noise_kk4 = pickle.load(open(noisepath+'Gaussian_variances_CMB-S4_LSSTbin4_full_Planck2015_dndz_LSST_i27_SN5_3y.pkl','r'))"
   ]
  },
  {
   "cell_type": "code",
   "execution_count": null,
   "metadata": {},
   "outputs": [],
   "source": [
    "L,l,theta = pickle.load(open(ellpath+'ell_ang_full_Lmin1_Lmax3000_lmin1_lmax8000_lenL120_lenl140_lenang120_1e-04.pkl','r'))\n",
    "\n",
    "#difference at low L most likely due to difference in Cls\n",
    "path='/home/nessa/Documents/Projects/LensingBispectrum/CMB-nonlinear/outputs/power_spectra/'\n",
    "cl0 = np.load(path+'CL_cross_bias_gal_LSSTbin0_full_Planck2015_Lmin1-Lmax2999_halofit.npy')\n",
    "cl1 = np.load(path+'CL_cross_bias_gal_LSSTbin1_full_Planck2015_Lmin1-Lmax2999_halofit.npy')\n",
    "cl2 = np.load(path+'CL_cross_bias_gal_LSSTbin2_full_Planck2015_Lmin1-Lmax2999_halofit.npy')\n",
    "cl3 = np.load(path+'CL_cross_bias_gal_LSSTbin3_full_Planck2015_Lmin1-Lmax2999_halofit.npy')\n",
    "cl4 = np.load(path+'CL_cross_bias_gal_LSSTbin4_full_Planck2015_Lmin1-Lmax2999_halofit.npy')\n",
    "\n",
    "plt.figure()\n",
    "plt.loglog(L, cl0, label='bin 0')\n",
    "plt.loglog(L, cl1, label='bin 1')\n",
    "plt.loglog(L, cl2, label='bin 2')\n",
    "plt.loglog(L, cl3, label='bin 3')\n",
    "plt.loglog(L, cl4, label='bin 4')\n",
    "plt.xlim(10,2000)\n",
    "plt.legend()\n",
    "plotpath='/home/nessa/Documents/Projects/LensingBispectrum/CMB-nonlinear/Tests/CrossBias/'\n",
    "plt.savefig(plotpath+'CL_crosscheck.png',bbox_inches='tight')\n",
    "plt.show()"
   ]
  },
  {
   "cell_type": "code",
   "execution_count": null,
   "metadata": {},
   "outputs": [],
   "source": [
    "L,l,theta = pickle.load(open(ellpath+'ell_ang_full_Lmin1_Lmax3000_lmin1_lmax8000_lenL120_lenl140_lenang120_1e-04.pkl','r'))\n",
    "\n",
    "#difference at low L most likely due to difference in Cls\n",
    "path='/home/nessa/Documents/Projects/LensingBispectrum/CMB-nonlinear/outputs/power_spectra/'\n",
    "cl0 = np.load(path+'CL_gg_LSSTbin0_full_Planck2015_Lmin1-Lmax2999_halofit.npy')\n",
    "cl1 = np.load(path+'CL_gg_LSSTbin1_full_Planck2015_Lmin1-Lmax2999_halofit.npy')\n",
    "cl2 = np.load(path+'CL_gg_LSSTbin2_full_Planck2015_Lmin1-Lmax2999_halofit.npy')\n",
    "cl3 = np.load(path+'CL_gg_LSSTbin3_full_Planck2015_Lmin1-Lmax2999_halofit.npy')\n",
    "cl4 = np.load(path+'CL_gg_LSSTbin4_full_Planck2015_Lmin1-Lmax2999_halofit.npy')\n",
    "\n",
    "clkk = np.load(path+'CL_kk_full_Planck2015_Lmin1-Lmax2999_halofit.npy')\n",
    "noise_kk0_=np.interp(L,ll,noise_kk0)\n",
    "noise_gg0_=np.interp(L,ll,noise_gg0)\n",
    "noise_gg1_=np.interp(L,ll,noise_gg1)\n",
    "noise_gg2_=np.interp(L,ll,noise_gg2)\n",
    "noise_gg3_=np.interp(L,ll,noise_gg3)\n",
    "noise_gg4_=np.interp(L,ll,noise_gg4)\n",
    "\n",
    "plt.figure()\n",
    "plt.loglog(L, cl0, label='bin 0')\n",
    "plt.fill_between(L, cl0-noise_gg0_, cl0+noise_gg0_, alpha=0.2)\n",
    "plt.loglog(L, cl1, label='bin 1')\n",
    "plt.fill_between(L, cl1-noise_gg1_, cl1+noise_gg1_, color='g',alpha=0.2)\n",
    "plt.loglog(L, cl2, label='bin 2')\n",
    "plt.fill_between(L, cl2-noise_gg2_, cl2+noise_gg2_, color='r',alpha=0.2)\n",
    "plt.loglog(L, cl3, label='bin 3')\n",
    "plt.fill_between(L, cl3-noise_gg3_, cl3+noise_gg3_, color='cyan',alpha=0.2)\n",
    "plt.loglog(L, cl4, label='bin 4')\n",
    "plt.fill_between(L, cl4-noise_gg4_, cl4+noise_gg4_, color='m',alpha=0.2)\n",
    "plt.loglog(L, clkk, 'k',label='cmb lens')\n",
    "plt.fill_between(L, clkk-noise_kk0_, clkk+noise_kk0_, alpha=0.2)\n",
    "plt.xlim(50,2000)\n",
    "plt.legend(ncol=2,loc='best')\n",
    "plotpath='/home/nessa/Documents/Projects/LensingBispectrum/CMB-nonlinear/Tests/CrossBias/'\n",
    "plt.savefig(plotpath+'CL_ggs.png',bbox_inches='tight')\n",
    "plt.show()"
   ]
  },
  {
   "cell_type": "code",
   "execution_count": null,
   "metadata": {},
   "outputs": [],
   "source": [
    "L,l,theta = pickle.load(open(ellpath+'ell_ang_full_Lmin1_Lmax3000_lmin1_lmax8000_lenL120_lenl140_lenang120_1e-04.pkl','r'))\n",
    "Lp,l,theta = pickle.load(open(ellpath+'ell_ang_full_Lmin1_Lmax3000_lmin1_lmax8000_lenL120_lenl140_lenang120_1e-04.pkl','r'))\n",
    "\n",
    "\n",
    "#difference at low L most likely due to difference in Cls\n",
    "path='/home/nessa/Documents/Projects/LensingBispectrum/CMB-nonlinear/outputs/power_spectra/'\n",
    "cl0 = np.load(path+'CL_kg_LSSTbin0_full_Planck2015_Lmin1-Lmax2999_halofit.npy')\n",
    "cl1 = np.load(path+'CL_kg_LSSTbin1_full_Planck2015_Lmin1-Lmax2999_halofit.npy')\n",
    "cl2 = np.load(path+'CL_kg_LSSTbin2_full_Planck2015_Lmin1-Lmax2999_halofit.npy')\n",
    "cl3 = np.load(path+'CL_kg_LSSTbin3_full_Planck2015_Lmin1-Lmax2999_halofit.npy')\n",
    "cl4 = np.load(path+'CL_kg_LSSTbin4_full_Planck2015_Lmin1-Lmax2999_halofit.npy')\n",
    "clnew = np.load(path+'CL_kkg_new_LSSTbin0_full_Planck2015_Lmin1-Lmax2999_halofit.npy')\n",
    "noise_kg0_=np.interp(L,ll,noise_kg0)\n",
    "noise_kg1_=np.interp(L,ll,noise_kg1)\n",
    "noise_kg2_=np.interp(L,ll,noise_kg2)\n",
    "noise_kg3_=np.interp(L,ll,noise_kg3)\n",
    "noise_kg4_=np.interp(L,ll,noise_kg4)\n",
    "\n",
    "plt.figure()\n",
    "plt.loglog(L, cl0, label='bin 0')\n",
    "plt.loglog(Lp, clnew, ls='--',c='orange',label='bin 0 new')\n",
    "plt.fill_between(L, cl0-noise_kg0_, cl0+noise_kg0_, alpha=0.2)\n",
    "plt.loglog(L, cl1, label='bin 1')\n",
    "plt.fill_between(L, cl1-noise_kg1_, cl1+noise_kg1_, color='g',alpha=0.2)\n",
    "plt.loglog(L, cl2, label='bin 2')\n",
    "plt.fill_between(L, cl2-noise_kg2_, cl2+noise_kg2_, color='r',alpha=0.2)\n",
    "plt.loglog(L, cl3, label='bin 3')\n",
    "plt.fill_between(L, cl3-noise_kg3_, cl3+noise_kg3_, color='cyan',alpha=0.2)\n",
    "plt.loglog(L, cl4, label='bin 4')\n",
    "plt.fill_between(L, cl4-noise_kg4_, cl4+noise_kg4_, color='m',alpha=0.2)\n",
    "plt.xlim(50,2000)\n",
    "plt.legend(ncol=2,loc='best')\n",
    "plotpath='/home/nessa/Documents/Projects/LensingBispectrum/CMB-nonlinear/Tests/CrossBias/'\n",
    "plt.savefig(plotpath+'CL_kgs.png',bbox_inches='tight')\n",
    "plt.show()"
   ]
  },
  {
   "cell_type": "code",
   "execution_count": 32,
   "metadata": {},
   "outputs": [
    {
     "data": {
      "image/png": "[encoded data removed]",
      "text/plain": [
       "<matplotlib.figure.Figure at 0x7fe14deb7d10>"
      ]
     },
     "metadata": {},
     "output_type": "display_data"
    },
    {
     "data": {
      "image/png": "[encoded data removed]",
      "text/plain": [
       "<matplotlib.figure.Figure at 0x7fe14d7bed50>"
      ]
     },
     "metadata": {},
     "output_type": "display_data"
    }
   ],
   "source": [
    "#folded\n",
    "L,l,theta = pickle.load(open(ellpath+'ell_ang_folded_Lmin1_Lmax3000_lmin1_lmax8000_lenL200_lenl220_lenang200_1e-04.pkl','r'))\n",
    "bi_equi0 = np.load(specpath+'bispec_kkg_new_LSSTbin0_folded_Planck2015_Lmin1-Lmax2999-lmax1499_halofit_SC.npy')\n",
    "bi_equi0_pB = np.load(specpath+'bispec_kkg_new_LSSTbin0_folded_Planck2015_Lmin1-Lmax2999-lmax1499_halofit_SC_post_born.npy')\n",
    "bi_equi0_sum = np.load(specpath+'bispec_kkg_new_LSSTbin0_folded_Planck2015_Lmin1-Lmax2999-lmax1499_halofit_SC_post_born_sum.npy')\n",
    "bi_equi0_pBw = np.load(specpath+'bispec_kkg_wrong_LSSTbin0_folded_Planck2015_Lmin1-Lmax2999-lmax1499_halofit_SC_post_born.npy')\n",
    "bi_equi0_sumw = np.load(specpath+'bispec_kkg_wrong_LSSTbin0_folded_Planck2015_Lmin1-Lmax2999-lmax1499_halofit_SC_post_born_sum.npy')\n",
    "\n",
    "\n",
    "plt.figure(figsize=(5,5))\n",
    "\n",
    "plt.loglog(L, bi_equi0,c='k',label='bin 0 LSS')\n",
    "#plt.loglog(L, bi_equi0_pB1,c='r',ls='--',label='bin 0 post Born 1')\n",
    "plt.loglog(L, -bi_equi0_pB,c='r',ls='--',label='bin 0 post Born')\n",
    "plt.loglog(L, bi_equi0_sum,c='r',ls='-',label='bin 0 sum')\n",
    "plt.loglog(L, -bi_equi0_pBw,c='g',ls='-.',label='bin 0 post Born w')\n",
    "plt.loglog(L, bi_equi0_sumw,c='g',ls='-.',label='bin 0 sum w')\n",
    "plt.xlim(100,3000)\n",
    "plt.legend(loc=(1.02,0.5),ncol=2,fontsize=11)\n",
    "plt.xlabel('L')\n",
    "plt.ylabel('$B(L,L,L)$')\n",
    "plotpath='/home/nessa/Documents/Projects/LensingBispectrum/CMB-nonlinear/Tests/CrossBias/'\n",
    "plt.savefig(plotpath+'bispec_folded_pB_test.png',bbox_inches='tight')\n",
    "plt.show()\n",
    "\n",
    "plt.figure(figsize=(5,5))\n",
    "\n",
    "plt.semilogx(L, bi_equi0_sum/bi_equi0_sumw-1,c='r',ls='-',label='error')\n",
    "plt.xlim(100,3000)\n",
    "plt.legend(loc=(1.02,0.5),ncol=2,fontsize=11)\n",
    "plt.xlabel('L')\n",
    "plt.ylabel('$B(L,L,L)$')\n",
    "plotpath='/home/nessa/Documents/Projects/LensingBispectrum/CMB-nonlinear/Tests/CrossBias/'\n",
    "plt.savefig(plotpath+'bispec_folded_pB_error_test.png',bbox_inches='tight')\n",
    "plt.show()"
   ]
  },
  {
   "cell_type": "code",
   "execution_count": null,
   "metadata": {},
   "outputs": [],
   "source": []
  },
  {
   "cell_type": "code",
   "execution_count": null,
   "metadata": {},
   "outputs": [],
   "source": []
  }
 ],
 "metadata": {
  "kernelspec": {
   "display_name": "Python 2",
   "language": "python",
   "name": "python2"
  },
  "language_info": {
   "codemirror_mode": {
    "name": "ipython",
    "version": 2
   },
   "file_extension": ".py",
   "mimetype": "text/x-python",
   "name": "python",
   "nbconvert_exporter": "python",
   "pygments_lexer": "ipython2",
   "version": "2.7.14"
  }
 },
 "nbformat": 4,
 "nbformat_minor": 2
}
