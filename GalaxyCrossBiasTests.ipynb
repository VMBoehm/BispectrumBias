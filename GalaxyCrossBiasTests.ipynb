{
 "cells": [
  {
   "cell_type": "code",
   "execution_count": null,
   "metadata": {},
   "outputs": [],
   "source": [
    "%matplotlib inline\n",
    "import matplotlib.pyplot as plt\n",
    "import pickle\n",
    "import numpy as np\n",
    "plt.style.use(['seaborn-colorblind','paper'])\n",
    "plt.style.use('classic')"
   ]
  },
  {
   "cell_type": "code",
   "execution_count": null,
   "metadata": {},
   "outputs": [],
   "source": [
    "ellpath=\"/home/nessa/Documents/Projects/LensingBispectrum/CMB-nonlinear/outputs/ells/\"\n",
    "specpath='/home/nessa/Documents/Projects/LensingBispectrum/CMB-nonlinear/outputs/bispectra/'"
   ]
  },
  {
   "cell_type": "code",
   "execution_count": null,
   "metadata": {},
   "outputs": [],
   "source": [
    "#equilat\n",
    "L,l,theta = pickle.load(open(ellpath+'ell_ang_equilat_Lmin10_Lmax10000_lmin10_lmax8000_lenL200_lenl220_lenang200_0e+00.pkl','r'))\n",
    "bi_equi0 = np.load(specpath+'bispec_cross_bias_test_bin0_equilat_Planck2015_Lmin10-Lmax10000-lmax10000_halofit_SC.npy')\n",
    "bi_equi0_pB = np.load(specpath+'bispec_cross_bias_test_bin0_equilat_Planck2015_Lmin10-Lmax10000-lmax10000_halofit_SC_post_born.npy')\n",
    "bi_equi0_sum = np.load(specpath+'bispec_cross_bias_test_bin0_equilat_Planck2015_Lmin10-Lmax10000-lmax10000_halofit_SC_post_born_sum.npy')\n",
    "\n",
    "bi_equi3 = np.load(specpath+'bispec_cross_bias_test_bin3_equilat_Planck2015_Lmin10-Lmax10000-lmax10000_halofit_SC.npy')\n",
    "bi_equi3_pB = np.load(specpath+'bispec_cross_bias_test_bin3_equilat_Planck2015_Lmin10-Lmax10000-lmax10000_halofit_SC_post_born.npy')\n",
    "bi_equi3_sum = np.load(specpath+'bispec_cross_bias_test_bin3_equilat_Planck2015_Lmin10-Lmax10000-lmax10000_halofit_SC_post_born_sum.npy')\n",
    "\n",
    "plt.figure(figsize=(5,5))\n",
    "\n",
    "plt.loglog(L, bi_equi0,label='bin 0 LSS')\n",
    "plt.loglog(L, bi_equi0_pB,ls='--',label='bin 0 post Born')\n",
    "plt.loglog(L, bi_equi0_sum,ls='-.',label='bin 0 sum')\n",
    "plt.loglog(L, bi_equi3,label='bin 3 LSS')\n",
    "plt.loglog(L, bi_equi3_pB,ls='--',label='bin 3 post Born')\n",
    "plt.loglog(L, bi_equi3_sum,ls='-.',label='bin 3 sum')\n",
    "plt.xlim(100,10000)\n",
    "plt.legend(loc='upper right',ncol=2,fontsize=11)\n",
    "plt.xlabel('L')\n",
    "plt.ylabel('$B(L,L,L)$')\n",
    "#plotpath='/home/nessa/Documents/Projects/LensingBispectrum/CMB-nonlinear/Tests/CrossBias#/'\n",
    "#plt.savefig(plotpath+'bispec_equilat.png',bbox_inches='tight')\n",
    "plt.show()\n"
   ]
  },
  {
   "cell_type": "code",
   "execution_count": null,
   "metadata": {},
   "outputs": [],
   "source": [
    "\n",
    "#difference at low L most likely due to difference in Cls\n",
    "path='/home/nessa/Documents/Projects/LensingBispectrum/CMB-nonlinear/outputs/power_spectra/'\n",
    "cl0 = np.load(path+'CL_cross_bias_test_bin0_equilat_Planck2015_Lmin10-Lmax10000_halofit.npy')\n",
    "cl3 = np.load(path+'CL_cross_bias_test_bin3_equilat_Planck2015_Lmin10-Lmax10000_halofit.npy')\n",
    "\n",
    "plt.figure()\n",
    "plt.loglog(L, cl1, label='bin 0')\n",
    "plt.loglog(L, cl3, label='bin 3')\n",
    "plt.xlim(10,2000)\n",
    "plt.legend()\n",
    "plt.show()\n"
   ]
  },
  {
   "cell_type": "code",
   "execution_count": null,
   "metadata": {},
   "outputs": [],
   "source": []
  },
  {
   "cell_type": "code",
   "execution_count": null,
   "metadata": {},
   "outputs": [],
   "source": []
  }
 ],
 "metadata": {
  "kernelspec": {
   "display_name": "Python 2",
   "language": "python",
   "name": "python2"
  },
  "language_info": {
   "codemirror_mode": {
    "name": "ipython",
    "version": 2
   },
   "file_extension": ".py",
   "mimetype": "text/x-python",
   "name": "python",
   "nbconvert_exporter": "python",
   "pygments_lexer": "ipython2",
   "version": "2.7.14"
  }
 },
 "nbformat": 4,
 "nbformat_minor": 2
}
