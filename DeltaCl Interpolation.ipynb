{
 "cells": [
  {
   "cell_type": "code",
   "execution_count": null,
   "metadata": {},
   "outputs": [],
   "source": [
    "from __future__ import division\n",
    "%matplotlib inline\n",
    "import matplotlib.pyplot as plt\n",
    "from postBornCrossSpectra import PostBorn_Bispec\n",
    "import numpy as np\n",
    "import Cosmology as C\n",
    "import pickle\n",
    "from scipy.integrate import simps\n",
    "from scipy.interpolate import RectBivariateSpline\n",
    "from classy import Class\n",
    "\n",
    "import copy\n",
    "import kernels\n",
    "plt.style.use(['seaborn-colorblind','paper'])\n",
    "plt.style.use('classic')"
   ]
  },
  {
   "cell_type": "code",
   "execution_count": null,
   "metadata": {},
   "outputs": [],
   "source": [
    "path = '/home/nessa/Documents/Projects/LensingBispectrum/CMB-nonlinear/CrossPostBorn/data/class_postlimberdensity/inifiles/'"
   ]
  },
  {
   "cell_type": "code",
   "execution_count": null,
   "metadata": {},
   "outputs": [],
   "source": [
    "zmin=1.0\n",
    "zmax=1.2\n",
    "filename = 'class_z%03dz%03d_cl.dat'%(zmin*100,zmax*100)\n",
    "step = 0.02"
   ]
  },
  {
   "cell_type": "code",
   "execution_count": null,
   "metadata": {},
   "outputs": [],
   "source": [
    "corrs = np.loadtxt(path+filename)\n",
    "print(corrs.shape)"
   ]
  },
  {
   "cell_type": "code",
   "execution_count": null,
   "metadata": {},
   "outputs": [],
   "source": [
    "zs = np.arange(zmin,zmax+step,step)"
   ]
  },
  {
   "cell_type": "code",
   "execution_count": null,
   "metadata": {},
   "outputs": [],
   "source": [
    "L = corrs[:,0]\n",
    "print(L)"
   ]
  },
  {
   "cell_type": "code",
   "execution_count": null,
   "metadata": {},
   "outputs": [],
   "source": [
    "print(len(corrs[0,:]))"
   ]
  },
  {
   "cell_type": "code",
   "execution_count": null,
   "metadata": {},
   "outputs": [],
   "source": [
    "ii=1\n",
    "plt.loglog(corrs[:,0],corrs[:,ii])\n",
    "plt.plot(abs(corrs[:,0]),(corrs[:,ii+1]))\n",
    "plt.plot(abs(corrs[:,0]),(corrs[:,ii+2]))\n",
    "plt.plot((corrs[:,0]),(corrs[:,ii+3]))\n",
    "plt.semilogy(abs(corrs[:,0]),abs(corrs[:,ii+4]))\n",
    "plt.semilogy(abs(corrs[:,0]),abs(corrs[:,ii+5]))\n"
   ]
  },
  {
   "cell_type": "code",
   "execution_count": null,
   "metadata": {},
   "outputs": [],
   "source": [
    "from scipy.interpolate import interp1d\n",
    "func = interp1d(L[0:250],corrs[0:250,2],bounds_error=False,fill_value=0.)\n",
    "func2= interp1d(L[0:100],corrs[0:100,3],bounds_error=False,fill_value=0.)"
   ]
  },
  {
   "cell_type": "code",
   "execution_count": null,
   "metadata": {},
   "outputs": [],
   "source": [
    "l=np.linspace(0,300,800)\n",
    "plt.plot(l,func(l))\n",
    "plt.plot(l,func2(l))\n",
    "plt.plot(L[0:300],corrs[0:300,2],ls='--',c='y')\n",
    "plt.plot(L[0:300],corrs[0:300,3],ls='--',c='m')"
   ]
  },
  {
   "cell_type": "code",
   "execution_count": null,
   "metadata": {},
   "outputs": [],
   "source": [
    "jj = 10"
   ]
  },
  {
   "cell_type": "code",
   "execution_count": null,
   "metadata": {},
   "outputs": [],
   "source": [
    "L[jj]"
   ]
  },
  {
   "cell_type": "code",
   "execution_count": null,
   "metadata": {},
   "outputs": [],
   "source": [
    "indices = np.zeros((66,2))\n",
    "count = 0\n",
    "for ii in np.arange(11):\n",
    "    for nn in np.arange(ii,11):\n",
    "        indices[count]=[ii,nn]\n",
    "        count+=1\n",
    "print(indices)"
   ]
  },
  {
   "cell_type": "code",
   "execution_count": null,
   "metadata": {},
   "outputs": [],
   "source": [
    "zs    = np.arange(0.,5+0.01,step=0.02)\n",
    "zs[0] = 0.0\n",
    "\n",
    "\n",
    "zmins = np.arange(0.0,4.9,0.1)\n",
    "zmins[0] = 0.0\n",
    "zmaxs = np.arange(0.2,5+0.1,0.1)\n",
    "print(zmins)\n",
    "print(zmaxs)"
   ]
  },
  {
   "cell_type": "code",
   "execution_count": null,
   "metadata": {},
   "outputs": [],
   "source": [
    "interp_matrix = np.zeros((len(zs),len(zs)))\n"
   ]
  },
  {
   "cell_type": "code",
   "execution_count": null,
   "metadata": {},
   "outputs": [],
   "source": [
    "step    = 0.02\n",
    "\n",
    "def get_matrix_at_L(Lind):\n",
    "    filenum = 0\n",
    "    \n",
    "    zmin    = zmins[filenum]\n",
    "    zmax    = zmaxs[filenum]\n",
    "    filename = 'class_z%03dz%03d_cl.dat'%(zmin*100,zmax*100)\n",
    "    corrs    = np.loadtxt(path+filename)\n",
    "    corrs    = corrs[:,1::]\n",
    "    print(corrs.shape)\n",
    "    for ii in range(0,len(zs)):\n",
    "        #print('ii',ii)\n",
    "        for jj in range(ii,ii+1): #track correlation only for delta z = 0.5\n",
    "            if jj < len(zs):\n",
    "                z1 = zs[ii]\n",
    "                z2 = zs[jj]\n",
    "                #print(z1,z2)\n",
    "                if z2<zmax+0.001:\n",
    "                    ##print('%.2f, %.2f, %.2f, %.2f'%(z1,z2,zmin,zmax))\n",
    "                    filename = 'class_z%03dz%03d_cl.dat'%(zmin*100,zmax*100)\n",
    "                    corrs    = np.loadtxt(path+filename)\n",
    "                    corrs    = corrs[:,1::]\n",
    "                    ind1 = int((z1-zmin)/step)\n",
    "                    ind2 = int((z2-zmin)/step)\n",
    "                    index = np.all(np.equal(indices,[ind1,ind2]),axis=1)\n",
    "                    val = corrs[Lind,index]\n",
    "                    #print(ind1,ind2,np.where(index))\n",
    "                interp_matrix[ii,jj] = val\n",
    "\n",
    "                interp_matrix[jj,ii] = interp_matrix[ii,jj] #hopefully creates only a pointer :)\n",
    "    return interp_matrix\n",
    "\n",
    "\n",
    "#interp_matrix = get_matrix_at_L(100)\n",
    "#print interp_matrix"
   ]
  },
  {
   "cell_type": "code",
   "execution_count": null,
   "metadata": {},
   "outputs": [],
   "source": [
    "data = C.CosmoData(C.Planck2015[1],np.linspace(0.,5.,200))\n",
    "zs[0]=0.01\n",
    "chi  = data.chi(zs)"
   ]
  },
  {
   "cell_type": "code",
   "execution_count": null,
   "metadata": {},
   "outputs": [],
   "source": [
    "from scipy.interpolate import RectBivariateSpline as RBS\n",
    "from scipy.interpolate import interp2d\n",
    "\n",
    "zs1, zs2 = np.meshgrid(zs,zs)\n",
    "\n",
    "chi1, chi2 = np.meshgrid(chi,chi)\n",
    "\n",
    "func = RBS(chi,chi,interp_matrix,kx=1,ky=1)#, bounds_error=False, fill_value=0.) #RBS and interp2d are the same, just differnt wrappers\n",
    "\n",
    "zs_t = np.arange(0,5+0.01,step=0.01)\n",
    "\n",
    "chi_ = data.chi(zs_t)\n",
    "\n",
    "spline = func(chi,chi)"
   ]
  },
  {
   "cell_type": "code",
   "execution_count": null,
   "metadata": {},
   "outputs": [],
   "source": [
    "plt.figure()\n",
    "plt.imshow((interp_matrix)[0:15,0:15],vmin=-20,vmax=1)\n",
    "#plt.imshow(np.log(-interp_matrix),vmin=-20,vmax=1)\n",
    "plt.colorbar()\n",
    "plt.show()\n",
    "print(interp_matrix[0:15,0:15])"
   ]
  },
  {
   "cell_type": "code",
   "execution_count": null,
   "metadata": {},
   "outputs": [],
   "source": [
    "plt.figure()\n",
    "plt.imshow(np.log(abs(spline)),vmin=-20,vmax=1)\n",
    "plt.imshow(np.log(-spline),vmin=-20,vmax=1)\n",
    "plt.colorbar()\n",
    "plt.show()\n"
   ]
  },
  {
   "cell_type": "code",
   "execution_count": null,
   "metadata": {},
   "outputs": [],
   "source": [
    "plt.plot(interp_matrix[0,0:20],marker='o')\n",
    "\n",
    "plt.plot(interp_matrix[100,100:120],marker='o')\n",
    "\n",
    "#plt.plot(abs(spline[0,0:20]),marker='^')\n",
    "# plt.plot(spline[1,1:42],marker='^')\n",
    "# plt.plot(spline[100,100:240],marker='^')\n",
    "\n",
    "print(spline[0,0:20])"
   ]
  },
  {
   "cell_type": "code",
   "execution_count": null,
   "metadata": {},
   "outputs": [],
   "source": [
    "plt.plot(interp_matrix[1,1:21],marker='o')"
   ]
  },
  {
   "cell_type": "code",
   "execution_count": null,
   "metadata": {},
   "outputs": [],
   "source": [
    "plt.plot(interp_matrix[200,200:220],marker='o')"
   ]
  },
  {
   "cell_type": "code",
   "execution_count": null,
   "metadata": {},
   "outputs": [],
   "source": [
    "## Appending the first file with zeros to make all files the same size\n",
    "\n",
    "# path\n",
    "# fname = 'class_z000z020_cl.dat'\n",
    "# cl = np.loadtxt(path + fname)\n",
    "# fname = 'class_z010z030_cl.dat'\n",
    "# clall = np.loadtxt(path + fname)\n",
    "# clnew = np.zeros_like(clall)\n",
    "\n",
    "\n",
    "# for i in range(cl.shape[1]):\n",
    "#     clnew[:cl.shape[0], i] = cl[:, i]\n",
    "    \n",
    "# path\n",
    "# fname = 'class_z000z020_cl.dat'\n",
    "# # np.savetxt(path + fname, clnew)\n",
    "# clcheck = np.loadtxt(path + fname)\n",
    "# clcheck.shape"
   ]
  },
  {
   "cell_type": "code",
   "execution_count": null,
   "metadata": {},
   "outputs": [],
   "source": [
    "from BispectraMain import dNdz_LSST, simple_bias, gal_clus \n",
    "\n",
    "def simple_kernel(x,xmax):\n",
    "    return (xmax-x)/x/xmax"
   ]
  },
  {
   "cell_type": "code",
   "execution_count": null,
   "metadata": {},
   "outputs": [],
   "source": [
    "LSST_bin = 'all'"
   ]
  },
  {
   "cell_type": "code",
   "execution_count": null,
   "metadata": {},
   "outputs": [],
   "source": [
    "W_g = gal_clus(b=simple_bias,bin_num=LSST_bin,cosmo=data, dNdz=dNdz_LSST)"
   ]
  },
  {
   "cell_type": "code",
   "execution_count": null,
   "metadata": {},
   "outputs": [],
   "source": [
    "W_l = simple_kernel"
   ]
  },
  {
   "cell_type": "code",
   "execution_count": null,
   "metadata": {},
   "outputs": [],
   "source": [
    "def Cl_psidelta(chi,z,L,cls,cosmo=data):\n",
    "    return -cosmo.lens_prefac*(chi/L)**2*(1.+z)*cls/(L*(L+1.)/2./np.pi)\n",
    "\n",
    "# lens_prefac is 1.5*self.H_0**2.*self.Omega_m0/(const.LIGHT_SPEED**2)"
   ]
  },
  {
   "cell_type": "code",
   "execution_count": null,
   "metadata": {},
   "outputs": [],
   "source": [
    "L_index = np.arange(0,100)\n",
    "print(L_index)"
   ]
  },
  {
   "cell_type": "code",
   "execution_count": null,
   "metadata": {},
   "outputs": [],
   "source": [
    "cls = []\n",
    "for L_ind in [0,10,50,100,500,1000]:\n",
    "    print(L_ind)\n",
    "    matrix          = get_matrix_at_L(L_ind)\n",
    "    \n",
    "    weighted_matrix = W_l(chi1,data.chi_cmb)*W_g(chi2,zs2)*Cl_psidelta(chi1,zs1,L[L_ind],matrix,cosmo=data)\n",
    "    \n",
    "    res=[]\n",
    "    for ii in range(len(chi)):\n",
    "        res+=[np.trapz(weighted_matrix[ii],chi)]\n",
    "    \n",
    "    cls+=[np.trapz(res,chi)]\n",
    "    \n",
    "cls = np.asarray(cls)"
   ]
  },
  {
   "cell_type": "code",
   "execution_count": null,
   "metadata": {},
   "outputs": [],
   "source": [
    "L_sample = [L[ii] for ii in [0,10,50,100,500,1000]]\n",
    "L_sample = np.asarray(L_sample)\n",
    "print(cls.shape)"
   ]
  },
  {
   "cell_type": "code",
   "execution_count": null,
   "metadata": {},
   "outputs": [],
   "source": [
    "LL, ll, theta = pickle.load(open('/home/nessa/Documents/Projects/LensingBispectrum/CMB-nonlinear/outputs/ells/ell_ang_full_Lmin1_Lmax3000_lmin1_lmax8000_lenL120_lenl140_lenang120_1e-04.pkl','r'))\n",
    "CLkg = np.load('/home/nessa/Documents/Projects/LensingBispectrum/CMB-nonlinear/outputs/power_spectra/CL_kg_LSSTbinall_full_Planck2015_Lmin1-Lmax2999_.npy')\n",
    "CLgg = np.load('/home/nessa/Documents/Projects/LensingBispectrum/CMB-nonlinear/outputs/power_spectra/CL_gg_LSSTbinall_full_Planck2015_Lmin1-Lmax2999_.npy')\n",
    "CLkk = np.load('/home/nessa/Documents/Projects/LensingBispectrum/CMB-nonlinear/outputs/power_spectra/CL_kk_LSSTbinall_full_Planck2015_Lmin1-Lmax2999_.npy')"
   ]
  },
  {
   "cell_type": "code",
   "execution_count": null,
   "metadata": {},
   "outputs": [],
   "source": []
  },
  {
   "cell_type": "code",
   "execution_count": null,
   "metadata": {},
   "outputs": [],
   "source": [
    "plt.figure()\n",
    "plt.loglog(L_sample, -L_sample**2*cls, marker ='o', ls='')\n",
    "plt.semilogx(LL,CLkg)"
   ]
  },
  {
   "cell_type": "code",
   "execution_count": null,
   "metadata": {},
   "outputs": [],
   "source": [
    "plt.semilogx(L_sample, -L_sample**2*cls/np.interp(L_sample,LL,CLkg), marker ='o', ls='')"
   ]
  },
  {
   "cell_type": "code",
   "execution_count": null,
   "metadata": {},
   "outputs": [],
   "source": []
  },
  {
   "cell_type": "code",
   "execution_count": null,
   "metadata": {},
   "outputs": [],
   "source": []
  }
 ],
 "metadata": {
  "kernelspec": {
   "display_name": "Python 2",
   "language": "python",
   "name": "python2"
  },
  "language_info": {
   "codemirror_mode": {
    "name": "ipython",
    "version": 2
   },
   "file_extension": ".py",
   "mimetype": "text/x-python",
   "name": "python",
   "nbconvert_exporter": "python",
   "pygments_lexer": "ipython2",
   "version": "2.7.14"
  }
 },
 "nbformat": 4,
 "nbformat_minor": 2
}
