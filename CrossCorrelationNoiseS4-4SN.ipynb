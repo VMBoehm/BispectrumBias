{
 "cells": [
  {
   "cell_type": "code",
   "execution_count": 27,
   "metadata": {},
   "outputs": [],
   "source": [
    "%matplotlib inline\n",
    "import matplotlib.pyplot as plt\n",
    "import pickle\n",
    "import numpy as np\n",
    "plt.style.use(['seaborn-colorblind','paper'])\n",
    "plt.style.use('classic')\n",
    "import Cosmology as Cosmo\n",
    "from scipy.integrate import simps\n",
    "from scipy.interpolate import interp1d"
   ]
  },
  {
   "cell_type": "code",
   "execution_count": 28,
   "metadata": {},
   "outputs": [],
   "source": [
    "def dNdz_LSST(bin_num,dn_filename = 'dndz_LSST_i27_SN5_3y'):\n",
    "    if bin_num is \"all\":\n",
    "        zbin, nbin = pickle.load(open(dn_filename+'tot_extrapolated.pkl','r'))\n",
    "        norm                = simps(nbin,zbin)\n",
    "        mbin                = 'all'\n",
    "    else:\n",
    "        bins,big_grid,res   = pickle.load(open(dn_filename+'_extrapolated.pkl','r'))\n",
    "        mbin                = bins[bin_num]\n",
    "        zbin                = big_grid\n",
    "        nbin                = res[bin_num]\n",
    "        norm                = simps(nbin,zbin)\n",
    "        dndz                = interp1d(zbin, nbin/norm, kind='linear',bounds_error=False,fill_value=0.)\n",
    "    print 'using z-bin', mbin\n",
    "    return norm"
   ]
  },
  {
   "cell_type": "code",
   "execution_count": 37,
   "metadata": {},
   "outputs": [
    {
     "name": "stdout",
     "output_type": "stream",
     "text": [
      "Dividing EB by factor 2.5!\n"
     ]
    }
   ],
   "source": [
    "\"\"\"------------settings----------------\"\"\"\n",
    "bin_num     = 'all'\n",
    "\n",
    "fsky        = 0.5\n",
    "\n",
    "\n",
    "\n",
    "params      = Cosmo.Planck2015\n",
    "tag         = params[0]['name']\n",
    "nl          = True\n",
    "\n",
    "N0_path     ='/home/nessa/Documents/Projects/LensingBispectrum/CMB-nonlinear/outputs/N0files/'\n",
    "spec_path   ='/home/nessa/Documents/Projects/LensingBispectrum/CMB-nonlinear/outputs/power_spectra/'\n",
    "ellpath     ='/home/nessa/Documents/Projects/LensingBispectrum/CMB-nonlinear/outputs/ells/'\n",
    "ellfile     ='ell_ang_full_Lmin1_Lmax3000_lmin1_lmax8000_lenL120_lenl140_lenang120_1e-04.pkl'\n",
    "path        ='/home/nessa/Documents/Projects/LensingBispectrum/CMB-nonlinear/outputs/noise_curves/'\n",
    "\n",
    "#bispectrum code\n",
    "config_kk = 'kk'\n",
    "config_kg = 'kg'\n",
    "config_gg = 'gg'\n",
    "Lmin = 1\n",
    "Lmax = 3000\n",
    "\n",
    "thetaFWHMarcmin = 3. #beam FWHM\n",
    "noiseUkArcmin   = 0.5 #eval(sys.argv[1]) #Noise level in uKarcmin\n",
    "l_max_T         = 3000\n",
    "l_max_P         = 5000\n",
    "l_min           = 50\n",
    "L_max           = 6000 #for l integration\n",
    "L_min           = 1\n",
    "TCMB            = 2.7255e6\n",
    "div             = True #divide EB by factor of 2.5\n",
    "channel         = 'mv'\n",
    "exp             = 'Nk'\n",
    "\n",
    "if l_max_T!=l_max_P:\n",
    "    lmax='mixedlmax_%d_%d'%(l_max_T,l_max_P)\n",
    "else:\n",
    "    lmax=str(l_max_T)\n",
    "\n",
    "if nl:\n",
    "  nl_='_nl'\n",
    "else:\n",
    "  nl_=''\n",
    "\n",
    "if div:\n",
    "    print 'Dividing EB by factor 2.5!'\n",
    "    no_div='div25'\n",
    "else:\n",
    "    no_div='nodiv'"
   ]
  },
  {
   "cell_type": "code",
   "execution_count": 38,
   "metadata": {},
   "outputs": [
    {
     "name": "stdout",
     "output_type": "stream",
     "text": [
      "/home/nessa/Documents/Projects/LensingBispectrum/CMB-nonlinear/outputs/N0files/Planck2015_N0_mixedlmax_3000_5000_50_530_div25_nl.pkl\n"
     ]
    }
   ],
   "source": [
    "print N0_path+'%s_N0_%s_%d_%d%d_%s%s.pkl'%(tag,lmax,l_min,10*noiseUkArcmin,10*thetaFWHMarcmin,no_div,nl_)\n",
    "filename=N0_path+'%s_N0_%s_%d_%d%d_%s%s.pkl'%(tag,lmax,l_min,10*noiseUkArcmin,10*thetaFWHMarcmin,no_div,nl_)\n",
    "Ls,AL = pickle.load(open(filename,'r'))"
   ]
  },
  {
   "cell_type": "code",
   "execution_count": 39,
   "metadata": {},
   "outputs": [],
   "source": [
    "#percent accuracy, should be sufficient for this\n",
    "config_kk+=\"_full_\"+tag\n",
    "tag = \"_\"+\"LSSTbin\"+str(bin_num)+'_full_'+tag\n",
    "config_kg+=tag\n",
    "config_gg+=tag\n",
    "ll, l, theta = pickle.load(open(ellpath+ellfile,'r'))\n",
    "clgg = np.load(spec_path+\"CL_%s_Lmin%d-Lmax%d_%s.npy\"%(config_gg,Lmin,Lmax-1,'halofit'))\n",
    "clkg = np.load(spec_path+\"CL_%s_Lmin%d-Lmax%d_%s.npy\"%(config_kg,Lmin,Lmax-1,'halofit'))\n",
    "clkk = np.load(spec_path+\"CL_%s_Lmin%d-Lmax%d_%s.npy\"%(config_kk,Lmin,Lmax-1,'halofit'))\n"
   ]
  },
  {
   "cell_type": "code",
   "execution_count": 40,
   "metadata": {},
   "outputs": [
    {
     "name": "stdout",
     "output_type": "stream",
     "text": [
      "using z-bin all\n",
      "(65.672302580174119, 776122026.94831777)\n",
      "/home/nessa/Documents/Projects/LensingBispectrum/CMB-nonlinear/outputs/noise_curves/Gaussian_variances_4SN_mv_Nk_mixedlmax_3000_5000_LSSTbinall_full_Planck2015_dndz_LSST_i27_SN5_3y.pkl\n",
      "(1.0, 2996.0)\n"
     ]
    }
   ],
   "source": [
    "L = np.arange(max(min(Ls),min(L),min(ll)),min(max(Ls),max(L),max(ll)))\n",
    "clkk = np.interp(L,ll,clkk)\n",
    "clgg = np.interp(L,ll,clgg)\n",
    "clkg = np.interp(L,ll,clkg)\n",
    "n0  = np.interp(L,Ls,1./4.*(Ls*(Ls+1))**2*AL[channel])\n",
    "norm=dNdz_LSST(bin_num)\n",
    "n_bar = norm*(180*60/np.pi)**2\n",
    "print (norm,n_bar)\n",
    "noise_kk      = clkk+n0\n",
    "noise_gg      = clgg+1./n_bar\n",
    "\n",
    "pickle.dump([L,noise_gg,noise_kk],open(path+'Gaussian_variances_4SN_%s_%s_%s%s_%s.pkl'%(channel,exp,lmax,tag,'dndz_LSST_i27_SN5_3y'),'w'))\n",
    "print(path+'Gaussian_variances_4SN_%s_%s_%s%s_%s.pkl'%(channel,exp,lmax,tag,'dndz_LSST_i27_SN5_3y'))\n",
    "print(min(L),max(L))"
   ]
  },
  {
   "cell_type": "code",
   "execution_count": null,
   "metadata": {},
   "outputs": [],
   "source": []
  },
  {
   "cell_type": "code",
   "execution_count": null,
   "metadata": {},
   "outputs": [],
   "source": []
  }
 ],
 "metadata": {
  "kernelspec": {
   "display_name": "Python 2",
   "language": "python",
   "name": "python2"
  },
  "language_info": {
   "codemirror_mode": {
    "name": "ipython",
    "version": 2
   },
   "file_extension": ".py",
   "mimetype": "text/x-python",
   "name": "python",
   "nbconvert_exporter": "python",
   "pygments_lexer": "ipython2",
   "version": "2.7.14"
  }
 },
 "nbformat": 4,
 "nbformat_minor": 2
}
