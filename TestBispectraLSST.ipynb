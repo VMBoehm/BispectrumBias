{
 "cells": [
  {
   "cell_type": "code",
   "execution_count": null,
   "metadata": {},
   "outputs": [],
   "source": [
    "%matplotlib inline\n",
    "import matplotlib.pyplot as plt\n",
    "import pickle\n",
    "import numpy as np\n",
    "plt.style.use('classic')\n",
    "plt.style.use(['seaborn-colorblind','paper'])\n"
   ]
  },
  {
   "cell_type": "code",
   "execution_count": null,
   "metadata": {},
   "outputs": [],
   "source": [
    "ellpath=\"/home/nessa/Documents/Projects/LensingBispectrum/CMB-nonlinear/outputs/ells/\"\n",
    "specpath='/home/nessa/Documents/Projects/LensingBispectrum/CMB-nonlinear/outputs/power_spectra/'"
   ]
  },
  {
   "cell_type": "code",
   "execution_count": null,
   "metadata": {},
   "outputs": [],
   "source": [
    "L,l,theta   = pickle.load(open(ellpath+'ell_ang_equilat_Lmin10_Lmax3000_lmin10_lmax8000_lenL200_lenl220_lenang200_1e-03.pkl','r'))\n",
    "\n",
    "CL_4 = np.load(specpath+'CL_LSSTtest_LSSTbin4_equilat_Planck2015_TTlowPlensing_Lmin10-Lmax2999_halofit.npy')\n",
    "CL_3 = np.load(specpath+'CL_LSSTtest_LSSTbin3_equilat_Planck2015_TTlowPlensing_Lmin10-Lmax2999_halofit.npy')\n",
    "CL_2 = np.load(specpath+'CL_LSSTtest_LSSTbin2_equilat_Planck2015_TTlowPlensing_Lmin10-Lmax2999_halofit.npy')\n",
    "CL_1 = np.load(specpath+'CL_LSSTtest_LSSTbin1_equilat_Planck2015_TTlowPlensing_Lmin10-Lmax2999_halofit.npy')\n",
    "CL_0 = np.load(specpath+'CL_LSSTtest_LSSTbin0_equilat_Planck2015_TTlowPlensing_Lmin10-Lmax2999_halofit.npy')\n",
    "CL_kk = np.load(specpath+'CL_kappatest_equilat_Planck2015_TTlowPlensing_Lmin10-Lmax2999_halofit.npy')\n",
    "plt.figure()\n",
    "plt.title('Fig. 6 in astro-ph/1710.09465' )\n",
    "plt.loglog(L,CL_0,label='bin 0')\n",
    "plt.loglog(L,CL_1,label='bin 1')\n",
    "plt.loglog(L,CL_2,label='bin 2')\n",
    "plt.loglog(L,CL_3,label='bin 3')\n",
    "plt.loglog(L,CL_4,label='bin 4')\n",
    "plt.loglog(L,CL_kk,label='convergence')\n",
    "plt.xlim(10,2000)\n",
    "plt.ylabel('$C_L^{gg}$')\n",
    "plt.xlabel('L')\n",
    "plt.legend(loc='best')\n",
    "plt.grid()\n",
    "plotpath='/home/nessa/Documents/Projects/LensingBispectrum/CMB-nonlinear/Tests/GalaxyClustering/'\n",
    "plt.savefig(plotpath+'CLggs.png',bbox_inches='tight')\n",
    "plt.show()\n"
   ]
  },
  {
   "cell_type": "code",
   "execution_count": null,
   "metadata": {},
   "outputs": [],
   "source": [
    "L,l,theta   = pickle.load(open(ellpath+'ell_ang_equilat_Lmin10_Lmax3000_lmin10_lmax8000_lenL200_lenl220_lenang200_1e-03.pkl','r'))\n",
    "\n",
    "CL_kg0 = np.load(specpath+'CL_LSSTcrosstest_LSSTbin0_equilat_Planck2015_TTlowPlensing_Lmin10-Lmax2999_halofit.npy')\n",
    "CL_kg1 = np.load(specpath+'CL_LSSTcrosstest_LSSTbin1_equilat_Planck2015_TTlowPlensing_Lmin10-Lmax2999_halofit.npy')\n",
    "CL_kg2 = np.load(specpath+'CL_LSSTcrosstest_LSSTbin2_equilat_Planck2015_TTlowPlensing_Lmin10-Lmax2999_halofit.npy')\n",
    "CL_kg3 = np.load(specpath+'CL_LSSTcrosstest_LSSTbin3_equilat_Planck2015_TTlowPlensing_Lmin10-Lmax2999_halofit.npy')\n",
    "CL_kg4 = np.load(specpath+'CL_LSSTcrosstest_LSSTbin3_equilat_Planck2015_TTlowPlensing_Lmin10-Lmax2999_halofit.npy')\n",
    "\n",
    "plt.figure()\n",
    "plt.title('Fig. 6 in astro-ph/1710.09465' )\n",
    "plt.loglog(L,CL_kg0,label='bin 0')\n",
    "plt.loglog(L,CL_kg1,label='bin 1')\n",
    "plt.loglog(L,CL_kg2,label='bin 2')\n",
    "plt.loglog(L,CL_kg3,label='bin 3')\n",
    "plt.loglog(L,CL_kg3,label='bin 4')\n",
    "plt.xlim(10,2000)\n",
    "plt.ylabel('$C_L^{\\kappa g}$')\n",
    "plt.xlabel('L')\n",
    "plt.legend(loc='best')\n",
    "plt.grid()\n",
    "plotpath='/home/nessa/Documents/Projects/LensingBispectrum/CMB-nonlinear/Tests/GalaxyClustering/'\n",
    "plt.savefig(plotpath+'CLkgs.png',bbox_inches='tight')\n",
    "plt.show()"
   ]
  }
 ],
 "metadata": {
  "kernelspec": {
   "display_name": "Python 2",
   "language": "python",
   "name": "python2"
  },
  "language_info": {
   "codemirror_mode": {
    "name": "ipython",
    "version": 2
   },
   "file_extension": ".py",
   "mimetype": "text/x-python",
   "name": "python",
   "nbconvert_exporter": "python",
   "pygments_lexer": "ipython2",
   "version": "2.7.14"
  }
 },
 "nbformat": 4,
 "nbformat_minor": 2
}
