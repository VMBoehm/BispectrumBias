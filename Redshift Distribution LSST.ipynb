{
 "cells": [
  {
   "cell_type": "code",
   "execution_count": null,
   "metadata": {},
   "outputs": [],
   "source": [
    "%matplotlib inline  \n",
    "import csv\n",
    "import pickle\n",
    "import numpy as np\n",
    "import matplotlib.pyplot as pl\n",
    "from scipy.integrate import simps\n",
    "from scipy.interpolate import interp1d\n",
    "from collections import namedtuple\n",
    "import itertools\n",
    "import datetime as dt\n",
    "import scipy.stats as stats\n",
    "from scipy.interpolate import interp1d\n",
    "import scipy.signal as signal"
   ]
  },
  {
   "cell_type": "code",
   "execution_count": null,
   "metadata": {},
   "outputs": [],
   "source": [
    "filename='dndz_LSST_i27_SN5_3y'\n",
    "f = open(filename+\".csv_manually_extrapolated\")\n",
    "csv_f = csv.reader(f)\n"
   ]
  },
  {
   "cell_type": "code",
   "execution_count": null,
   "metadata": {},
   "outputs": [],
   "source": [
    "z =[]\n",
    "dn=[]\n",
    "for row in csv_f:\n",
    "    z+=[float(row[0])]\n",
    "    dn+=[float(row[1])]\n",
    "z = np.asarray(z)\n",
    "dn= np.asarray(dn)\n",
    "dn[0]=0"
   ]
  },
  {
   "cell_type": "code",
   "execution_count": null,
   "metadata": {},
   "outputs": [],
   "source": [
    "pl.figure()\n",
    "pl.plot(z,dn,'ro')\n",
    "pl.show()"
   ]
  },
  {
   "cell_type": "raw",
   "metadata": {},
   "source": []
  },
  {
   "cell_type": "code",
   "execution_count": null,
   "metadata": {},
   "outputs": [],
   "source": [
    "interp_dn=interp1d(z, dn, kind='linear')\n",
    "norm=simps(interp_dn(z),z)\n",
    "norm"
   ]
  },
  {
   "cell_type": "code",
   "execution_count": null,
   "metadata": {},
   "outputs": [],
   "source": [
    "#save csv file as pkl\n",
    "pickle.dump([z,dn],open(filename+'tot_extrapolated.pkl','w'))"
   ]
  },
  {
   "cell_type": "code",
   "execution_count": null,
   "metadata": {},
   "outputs": [],
   "source": [
    "#z_min,width,sigma smoothing\n",
    "bin0=[0,0.5,0.03]\n",
    "bin1=[0.5,0.5,0.03]\n",
    "bin2=[1.,1.,0.04]\n",
    "bin3=[2.,1.,0.05]\n",
    "bin4=[3.,1.,0.05]\n",
    "\n",
    "#Gaussian with z=dependent variance: sigma(z)=(1+z)*sigma\n",
    "def gauss(x,errscale):\n",
    "    var =(errscale*(1.+x))**2\n",
    "    res = np.exp(-x**2/2./var)\n",
    "    norm= simps(res,x)\n",
    "    return res/norm\n",
    "\n",
    "delta = 1e-4\n",
    "big_grid = np.arange(-6,6,delta)"
   ]
  },
  {
   "cell_type": "code",
   "execution_count": null,
   "metadata": {},
   "outputs": [],
   "source": [
    "c=['b','g','c','m','g']\n",
    "ii=0\n",
    "\n",
    "fig = pl.figure(figsize = (6,4))\n",
    "ax = fig.add_subplot(111)\n",
    "ax.plot(z,dn,color='k')\n",
    "\n",
    "res=[]\n",
    "bins=[bin0,bin1,bin2,bin3,bin4]\n",
    "\n",
    "for mbin in bins:\n",
    "    z_      = np.linspace(mbin[0],mbin[0]+mbin[1],100)\n",
    "    dndz    = interp_dn(z_)\n",
    "    dndz    = interp1d(z_, dndz, kind='linear',bounds_error=False,fill_value=0.)\n",
    "    norm    = simps(dndz(big_grid),big_grid)\n",
    "    print norm\n",
    "    errscale= mbin[2]\n",
    "    \n",
    "    pmf1 = dndz(big_grid)*delta\n",
    "    pmf2 = gauss(big_grid,errscale)*delta\n",
    "    \n",
    "    conv_pmf = signal.fftconvolve(pmf1,pmf2,'same')/delta\n",
    "    print norm/simps(conv_pmf,big_grid)\n",
    "    bin_ = interp1d(big_grid,conv_pmf,kind='linear',bounds_error=False,fill_value=0.)\n",
    "    \n",
    "    ax.fill_between(z_,0,bin_(z_),color=c[ii],alpha=0.3,interpolate=True)\n",
    "    ii+=1\n",
    "    res+=[conv_pmf]\n",
    "ax.set_xlim(0,5)\n",
    "ax.set_xlabel('z',fontsize=14)\n",
    "ax.set_ylabel('dN/dz',fontsize=14)\n",
    "\n",
    "pl.savefig('/home/nessa/Documents/Projects/LensingBispectrum/CMB-nonlinear/biasResults/Cross/plots/'+'LSSTRedBins.pdf',bbox_inches='tight')\n",
    "\n",
    "\n",
    "pickle.dump([bins,big_grid,res],open(filename+'_extrapolated.pkl','w'))"
   ]
  },
  {
   "cell_type": "code",
   "execution_count": null,
   "metadata": {},
   "outputs": [],
   "source": [
    "for mbin in [bin0,bin1,bin2]:\n",
    "    simple = stats.uniform(loc=mbin[0],scale=bin0[1])\n",
    "\n",
    "    pmf1 = simple.pdf(big_grid)*delta\n",
    "    pmf2 = gauss(big_grid,errscale)*delta\n",
    "    conv_pmf = signal.fftconvolve(pmf1,pmf2,'same') # Convolved probability mass function\n",
    "\n",
    "    conv_pmf = conv_pmf/sum(conv_pmf)\n",
    "\n",
    "    pl.plot(big_grid,pmf1/delta, label='Tophat')\n",
    "    #pl.plot(big_grid,pmf2/delta, label='Gaussian error')\n",
    "    pl.plot(big_grid,conv_pmf/delta, label='Sum')\n",
    "    pl.xlim(-1,max(big_grid))\n",
    "    #pl.legend(loc='best'), pl.suptitle('PMFs')\n",
    "    pl.ylim(-0.5,3)\n",
    "    \n",
    "    print simps(conv_pmf/delta,big_grid)\n",
    "    print simps(pmf1/delta,big_grid)\n",
    "    print simps(pmf2/delta,big_grid)\n",
    "    "
   ]
  },
  {
   "cell_type": "code",
   "execution_count": null,
   "metadata": {},
   "outputs": [],
   "source": [
    "#pl.plot(big_grid,pmf1/delta, label='Tophat')\n",
    "#pl.plot(big_grid,pmf2/delta, label='Gaussian error')\n",
    "\n"
   ]
  },
  {
   "cell_type": "code",
   "execution_count": null,
   "metadata": {},
   "outputs": [],
   "source": []
  }
 ],
 "metadata": {
  "kernelspec": {
   "display_name": "Python 2",
   "language": "python",
   "name": "python2"
  },
  "language_info": {
   "codemirror_mode": {
    "name": "ipython",
    "version": 2
   },
   "file_extension": ".py",
   "mimetype": "text/x-python",
   "name": "python",
   "nbconvert_exporter": "python",
   "pygments_lexer": "ipython2",
   "version": "2.7.14"
  }
 },
 "nbformat": 4,
 "nbformat_minor": 1
}
