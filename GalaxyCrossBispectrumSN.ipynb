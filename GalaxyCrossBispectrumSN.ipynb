{
 "cells": [
  {
   "cell_type": "code",
   "execution_count": 1,
   "metadata": {},
   "outputs": [],
   "source": [
    "%matplotlib inline\n",
    "import matplotlib.pyplot as plt\n",
    "import pickle\n",
    "import numpy as np\n",
    "from scipy.interpolate import splev, interp1d\n",
    "from scipy.integrate import simps\n",
    "plt.style.use(['seaborn-colorblind','paper'])\n",
    "plt.style.use('classic')"
   ]
  },
  {
   "cell_type": "code",
   "execution_count": 2,
   "metadata": {},
   "outputs": [],
   "source": [
    "ellpath=\"/home/nessa/Documents/Projects/LensingBispectrum/CMB-nonlinear/outputs/ells/\"\n",
    "specpath='/home/nessa/Documents/Projects/LensingBispectrum/CMB-nonlinear/outputs'\n",
    "\n",
    "Nbin='all'"
   ]
  },
  {
   "cell_type": "code",
   "execution_count": 46,
   "metadata": {},
   "outputs": [],
   "source": [
    "L,l,theta = pickle.load(open(ellpath+'ell_ang_full_Lmin1_Lmax8000_lmin1_lmax8000_lenL160_lenl160_lenang160_1e-04.pkl','r'))\n",
    "loadfile = 'bispec_kkg_SN_LSSTbinall_full_Planck2015_Lmin1-Lmax8000-lmax8000_halofit_SC_post_born_sum'\n",
    "#theta,L,l,bi_spec = pickle.load(open(specpath+'/interp/bispec_interp_kkg_new_LSSTbin%s_full_Planck2015_Lmin1-Lmax2999-lmax8000_halofit_SC_post_born_sum.pkl'%str(Nbin),'r'))\n",
    "bi_phi=np.load(specpath+'/bispectra/'+loadfile+'.npy')\n",
    "phi= theta#np.linspace(0,2.*np.pi,200)[2:-2]"
   ]
  },
  {
   "cell_type": "code",
   "execution_count": 47,
   "metadata": {},
   "outputs": [
    {
     "data": {
      "text/plain": [
       "1"
      ]
     },
     "execution_count": 47,
     "metadata": {},
     "output_type": "execute_result"
    }
   ],
   "source": [
    "bi_phi.shape[0]/len(L)/len(l)/len(theta)"
   ]
  },
  {
   "cell_type": "code",
   "execution_count": 51,
   "metadata": {},
   "outputs": [
    {
     "name": "stdout",
     "output_type": "stream",
     "text": [
      "[  1.00000000e+00   2.00000000e+00   3.00000000e+00 ...,   2.99600000e+03\n",
      "   2.99700000e+03   2.99800000e+03]\n"
     ]
    }
   ],
   "source": [
    "noisepath='/home/nessa/Documents/Projects/LensingBispectrum/CMB-nonlinear/outputs/noise_curves/'\n",
    "ll,noise_gg,noise_kk = pickle.load(open(noisepath+'Gaussian_variances_4SN_mv_PL4_mixedlmax_3000_4000_LSSTbin%s_full_Planck2015_dndz_LSST_i27_SN5_3y.pkl'%str(Nbin),'r'))\n",
    "ngg = interp1d(ll,noise_gg, bounds_error=False,fill_value=np.inf)\n",
    "nkk = interp1d(ll,noise_kk, bounds_error=False,fill_value=np.inf)\n",
    "print(ll)"
   ]
  },
  {
   "cell_type": "code",
   "execution_count": 50,
   "metadata": {},
   "outputs": [
    {
     "name": "stdout",
     "output_type": "stream",
     "text": [
      "53.1052631579\n",
      "79.1578947368\n",
      "103.179519226\n",
      "120.659355009\n",
      "141.100482542\n",
      "165.004579812\n",
      "192.958315013\n",
      "225.6477449\n",
      "263.875152387\n",
      "308.578736642\n",
      "360.855638911\n",
      "421.988869198\n",
      "493.478794635\n",
      "577.079962363\n",
      "674.844160643\n",
      "789.170775033\n",
      "922.865675497\n",
      "1079.21007969\n",
      "1262.04108249\n",
      "1475.84582823\n",
      "1725.87163677\n",
      "2018.25478626\n",
      "2360.17111324\n",
      "2760.01212617\n",
      "3227.59095468\n",
      "3774.3831891\n",
      "4413.80852104\n",
      "5161.56009719\n",
      "6035.98966967\n",
      "7058.55799532\n"
     ]
    },
    {
     "data": {
      "text/plain": [
       "(100, 2000)"
      ]
     },
     "execution_count": 50,
     "metadata": {},
     "output_type": "execute_result"
    },
    {
     "data": {
      "image/png": "[encoded data removed]",
      "text/plain": [
       "<matplotlib.figure.Figure at 0x7fd8cfc72150>"
      ]
     },
     "metadata": {},
     "output_type": "display_data"
    }
   ],
   "source": [
    "bin_size=len(l)*len(theta)\n",
    "\n",
    "res2=np.zeros(len(L))\n",
    "Lmax=L[10:-1:5]\n",
    "result=[]\n",
    "for LL in Lmax:\n",
    "    print(LL)\n",
    "    ii=0\n",
    "    for L_ in L[L<=LL]:\n",
    "        jj=0\n",
    "        res1 = np.zeros(len(l))\n",
    "        bi_ = bi_phi[ii*bin_size:(ii+1)*bin_size]\n",
    "        for l_ in l:\n",
    "            bi = bi_[jj*len(theta):(jj+1)*len(theta)]\n",
    "            ll = l_**2+L_**2-2.*L_*l_*np.cos(phi)\n",
    "            N = nkk(L_)*nkk(np.sqrt(ll))*ngg(L_)*2\n",
    "            res1[jj] = simps(bi**2/N,phi)\n",
    "            jj+=1\n",
    "        res2[ii] = simps(res1*l,l)\n",
    "        ii+=1\n",
    "    result+=[simps(res2*L,L)]\n",
    "\n",
    "plt.figure()\n",
    "plt.semilogx(Lmax,np.sqrt(np.asarray(result)*0.4/(2*np.pi**2)))\n",
    "plt.xlim(100,2000)"
   ]
  },
  {
   "cell_type": "code",
   "execution_count": 42,
   "metadata": {},
   "outputs": [],
   "source": [
    "L,l,theta = pickle.load(open(ellpath+'ell_ang_full_Lmin1_Lmax8000_lmin1_lmax8000_lenL160_lenl160_lenang160_1e-04.pkl','r'))\n",
    "loadfile = 'bispec_kkk_SN_full_Planck2015_Lmin1-Lmax8000-lmax8000_halofit_SC_post_born_sum'\n",
    "#theta,L,l,bi_spec = pickle.load(open(specpath+'/interp/bispec_interp_kkg_new_LSSTbin%s_full_Planck2015_Lmin1-Lmax2999-lmax8000_halofit_SC_post_born_sum.pkl'%str(Nbin),'r'))\n",
    "bi_phi=np.load(specpath+'/bispectra/'+loadfile+'.npy')\n",
    "phi= theta#np.linspace(0,2.*np.pi,200)[2:-2]"
   ]
  },
  {
   "cell_type": "code",
   "execution_count": 45,
   "metadata": {},
   "outputs": [
    {
     "name": "stdout",
     "output_type": "stream",
     "text": [
      "53.1052631579\n",
      "79.1578947368\n",
      "103.179519226\n",
      "120.659355009\n",
      "141.100482542\n",
      "165.004579812\n",
      "192.958315013\n",
      "225.6477449\n",
      "263.875152387\n",
      "308.578736642\n",
      "360.855638911\n",
      "421.988869198\n",
      "493.478794635\n",
      "577.079962363\n",
      "674.844160643\n",
      "789.170775033\n",
      "922.865675497\n",
      "1079.21007969\n",
      "1262.04108249\n",
      "1475.84582823\n",
      "1725.87163677\n",
      "2018.25478626\n",
      "2360.17111324\n",
      "2760.01212617\n",
      "3227.59095468\n",
      "3774.3831891\n",
      "4413.80852104\n",
      "5161.56009719\n",
      "6035.98966967\n",
      "7058.55799532\n"
     ]
    },
    {
     "data": {
      "text/plain": [
       "(100, 2000)"
      ]
     },
     "execution_count": 45,
     "metadata": {},
     "output_type": "execute_result"
    },
    {
     "data": {
      "image/png": "[encoded data removed]",
      "text/plain": [
       "<matplotlib.figure.Figure at 0x7fd8d0051a50>"
      ]
     },
     "metadata": {},
     "output_type": "display_data"
    }
   ],
   "source": [
    "bin_size=len(l)*len(theta)\n",
    "\n",
    "res2=np.zeros(len(L))\n",
    "Lmax=L[10:-1:5]\n",
    "result=[]\n",
    "for LL in Lmax:\n",
    "    print(LL)\n",
    "    ii=0\n",
    "    for L_ in L[L<=LL]:\n",
    "        jj=0\n",
    "        res1 = np.zeros(len(l))\n",
    "        bi_ = bi_phi[ii*bin_size:(ii+1)*bin_size]\n",
    "        for l_ in l:\n",
    "            bi = bi_[jj*len(theta):(jj+1)*len(theta)]\n",
    "            ll = l_**2+L_**2-2.*L_*l_*np.cos(phi)\n",
    "            N = nkk(L_)*nkk(np.sqrt(ll))*nkk(L_)*6\n",
    "            res1[jj] = simps(bi**2/N,phi)\n",
    "            jj+=1\n",
    "        res2[ii] = simps(res1*l,l)\n",
    "        ii+=1\n",
    "    result+=[simps(res2*L,L)]\n",
    "\n",
    "plt.figure()\n",
    "plt.semilogx(Lmax,np.sqrt(np.asarray(result)*0.4/(2*np.pi**2)))\n",
    "plt.xlim(100,2000)"
   ]
  },
  {
   "cell_type": "code",
   "execution_count": 37,
   "metadata": {},
   "outputs": [
    {
     "data": {
      "text/plain": [
       "(100, 2000)"
      ]
     },
     "execution_count": 37,
     "metadata": {},
     "output_type": "execute_result"
    },
    {
     "data": {
      "image/png": "[encoded data removed]",
      "text/plain": [
       "<matplotlib.figure.Figure at 0x7fd8d03010d0>"
      ]
     },
     "metadata": {},
     "output_type": "display_data"
    }
   ],
   "source": []
  },
  {
   "cell_type": "code",
   "execution_count": null,
   "metadata": {},
   "outputs": [],
   "source": []
  }
 ],
 "metadata": {
  "kernelspec": {
   "display_name": "Python 2",
   "language": "python",
   "name": "python2"
  },
  "language_info": {
   "codemirror_mode": {
    "name": "ipython",
    "version": 2
   },
   "file_extension": ".py",
   "mimetype": "text/x-python",
   "name": "python",
   "nbconvert_exporter": "python",
   "pygments_lexer": "ipython2",
   "version": "2.7.14"
  }
 },
 "nbformat": 4,
 "nbformat_minor": 2
}
