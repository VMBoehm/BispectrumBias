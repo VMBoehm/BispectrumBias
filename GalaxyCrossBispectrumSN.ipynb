{
 "cells": [
  {
   "cell_type": "code",
   "execution_count": 163,
   "metadata": {},
   "outputs": [],
   "source": [
    "%matplotlib inline\n",
    "import matplotlib.pyplot as plt\n",
    "import pickle\n",
    "import numpy as np\n",
    "from scipy.interpolate import splev, interp1d\n",
    "from scipy.integrate import simps\n",
    "plt.style.use(['seaborn-colorblind','paper'])\n",
    "plt.style.use('classic')"
   ]
  },
  {
   "cell_type": "code",
   "execution_count": 202,
   "metadata": {},
   "outputs": [],
   "source": [
    "ellpath=\"/home/nessa/Documents/Projects/LensingBispectrum/CMB-nonlinear/outputs/ells/\"\n",
    "specpath='/home/nessa/Documents/Projects/LensingBispectrum/CMB-nonlinear/outputs'\n",
    "\n",
    "Nbin='all'"
   ]
  },
  {
   "cell_type": "code",
   "execution_count": 203,
   "metadata": {},
   "outputs": [],
   "source": [
    "L,l,theta = pickle.load(open(ellpath+'ell_ang_full_Lmin1_Lmax3000_lmin1_lmax8000_lenL120_lenl140_lenang120_1e-04.pkl','r'))\n",
    "loadfile = 'bispec_kkg_new_LSSTbinall_full_Planck2015_Lmin1-Lmax2999-lmax8000_halofit_SC_post_born_sum'\n",
    "#theta,L,l,bi_spec = pickle.load(open(specpath+'/interp/bispec_interp_kkg_new_LSSTbin%s_full_Planck2015_Lmin1-Lmax2999-lmax8000_halofit_SC_post_born_sum.pkl'%str(Nbin),'r'))\n",
    "bi_phi=np.load(specpath+'/bispectra/'+loadfile+'.npy')\n",
    "phi= theta#np.linspace(0,2.*np.pi,200)[2:-2]"
   ]
  },
  {
   "cell_type": "code",
   "execution_count": 204,
   "metadata": {},
   "outputs": [
    {
     "name": "stdout",
     "output_type": "stream",
     "text": [
      "120\n"
     ]
    }
   ],
   "source": [
    "bi_phi.shape[0]/len(L)/len(l)/len(theta)\n",
    "print(len(theta))"
   ]
  },
  {
   "cell_type": "code",
   "execution_count": 205,
   "metadata": {},
   "outputs": [
    {
     "name": "stdout",
     "output_type": "stream",
     "text": [
      "[   1    2    3 ..., 2997 2998 2999]\n"
     ]
    }
   ],
   "source": [
    "noisepath='/home/nessa/Documents/Projects/LensingBispectrum/CMB-nonlinear/outputs/noise_curves/'\n",
    "ll,noise_gg,noise_kk = pickle.load(open(noisepath+'Gaussian_variances_4SN_tt_CMB-S4_4000_LSSTbin%s_full_Planck2015_dndz_LSST_i27_SN5_3y.pkl'%str(Nbin),'r'))\n",
    "ngg = interp1d(ll**2,noise_gg, bounds_error=False,fill_value='extrapolate')\n",
    "nkk = interp1d(ll,noise_kk, bounds_error=False,fill_value='extrapolate')\n",
    "print(ll)"
   ]
  },
  {
   "cell_type": "code",
   "execution_count": 207,
   "metadata": {},
   "outputs": [
    {
     "name": "stdout",
     "output_type": "stream",
     "text": [
      "161.38621364\n"
     ]
    }
   ],
   "source": [
    "bin_size=len(l)*len(theta)\n",
    "ii=0\n",
    "res2=np.zeros(len(L))\n",
    "for L_ in L:\n",
    "    jj=0\n",
    "    res1 = np.zeros(len(l))\n",
    "    bi_ = bi_phi[ii*bin_size:(ii+1)*bin_size]\n",
    "    for l_ in l[0:120]:\n",
    "        bi = bi_[jj*len(theta):(jj+1)*len(theta)]\n",
    "        ll = l_**2+L_**2-2.*L_*l_*np.cos(phi)\n",
    "        N = nkk(L_)*nkk(np.sqrt(ll))*ngg(L_**2)\n",
    "        res1[jj] = simps(bi**2/N,phi)\n",
    "        jj+=1\n",
    "    res2[ii] = simps(res1*l,l)\n",
    "    ii+=1\n",
    "result = simps(res2*L,L)/24/np.pi**3*0.5*2*np.pi\n",
    "\n",
    "\n",
    "print(np.sqrt(result))"
   ]
  },
  {
   "cell_type": "code",
   "execution_count": 137,
   "metadata": {},
   "outputs": [
    {
     "data": {
      "text/plain": [
       "5.1368139595284639e-06"
      ]
     },
     "execution_count": 137,
     "metadata": {},
     "output_type": "execute_result"
    }
   ],
   "source": [
    "splev(1e-4,bi_spec[0][0],ext=0)**2"
   ]
  },
  {
   "cell_type": "code",
   "execution_count": null,
   "metadata": {},
   "outputs": [],
   "source": []
  }
 ],
 "metadata": {
  "kernelspec": {
   "display_name": "Python 2",
   "language": "python",
   "name": "python2"
  },
  "language_info": {
   "codemirror_mode": {
    "name": "ipython",
    "version": 2
   },
   "file_extension": ".py",
   "mimetype": "text/x-python",
   "name": "python",
   "nbconvert_exporter": "python",
   "pygments_lexer": "ipython2",
   "version": "2.7.14"
  }
 },
 "nbformat": 4,
 "nbformat_minor": 2
}
