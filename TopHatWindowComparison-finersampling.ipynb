{
 "cells": [
  {
   "cell_type": "code",
   "execution_count": null,
   "metadata": {},
   "outputs": [],
   "source": [
    "from __future__ import division\n",
    "%matplotlib inline\n",
    "import matplotlib.pyplot as plt\n",
    "from postBornCrossSpectra import PostBorn_Bispec\n",
    "import numpy as np\n",
    "import Cosmology as C\n",
    "import pickle\n",
    "from scipy.integrate import simps\n",
    "from scipy.interpolate import RectBivariateSpline\n",
    "from classy import Class\n",
    "\n",
    "import copy\n",
    "import kernels\n",
    "plt.style.use(['seaborn-colorblind','paper'])\n",
    "plt.style.use('classic')"
   ]
  },
  {
   "cell_type": "code",
   "execution_count": null,
   "metadata": {},
   "outputs": [],
   "source": [
    "path = '/home/nessa/Documents/Projects/LensingBispectrum/CMB-nonlinear/CrossPostBorn/data/class_postlimberdensity/diagnostic/'"
   ]
  },
  {
   "cell_type": "code",
   "execution_count": null,
   "metadata": {},
   "outputs": [],
   "source": [
    "filename = 'diagnostic_diracz1nz40_cl.dat'\n",
    "corrs    = np.loadtxt(path+filename)\n",
    "L        = corrs[:,0]\n",
    "corrs_delta = corrs[:,8:828]\n",
    "\n"
   ]
  },
  {
   "cell_type": "code",
   "execution_count": null,
   "metadata": {},
   "outputs": [],
   "source": [
    "filename = 'diagnostic_tophatz1_cl.dat'\n",
    "corrs    = np.loadtxt(path+filename)\n",
    "L        = corrs[:,0]\n",
    "corrs_tophat = corrs[:,8]\n",
    "\n"
   ]
  },
  {
   "cell_type": "code",
   "execution_count": null,
   "metadata": {},
   "outputs": [],
   "source": [
    "zs = [ 0.9       , 0.90512821, 0.91025641, 0.91538462, 0.92051282, 0.92564103, 0.93076923, 0.93589744, 0.94102564, 0.94615385,0.95128205, 0.95641026, 0.96153846, 0.96666667, 0.97179487,       0.97692308, 0.98205128, 0.98717949, 0.99230769, 0.9974359 ,       1.0025641 , 1.00769231, 1.01282051, 1.01794872, 1.02307692,      1.02820513, 1.03333333, 1.03846154, 1.04358974, 1.04871795,       1.05384615, 1.05897436, 1.06410256, 1.06923077, 1.07435897,       1.07948718, 1.08461538, 1.08974359, 1.09487179, 1.1]\n",
    "zs1, zs2 = np.meshgrid(zs,zs)\n",
    "print(len(zs))"
   ]
  },
  {
   "cell_type": "code",
   "execution_count": null,
   "metadata": {},
   "outputs": [],
   "source": [
    "def set_tophat(xmin,xmax):\n",
    "    \n",
    "    norm = 1./(xmax-xmin)\n",
    "    \n",
    "    def tophat(x):\n",
    "        result = np.zeros(x.shape)\n",
    "        \n",
    "        result[(x>xmin)*(x<xmax)]=norm\n",
    "        \n",
    "        return result\n",
    "    return tophat"
   ]
  },
  {
   "cell_type": "code",
   "execution_count": null,
   "metadata": {},
   "outputs": [],
   "source": []
  },
  {
   "cell_type": "code",
   "execution_count": null,
   "metadata": {},
   "outputs": [],
   "source": []
  },
  {
   "cell_type": "code",
   "execution_count": null,
   "metadata": {},
   "outputs": [],
   "source": [
    "indices = np.zeros((corrs_delta.shape[1],2))\n",
    "count = 0\n",
    "for ii in np.arange(40):\n",
    "    for nn in np.arange(ii,40):\n",
    "        indices[count]=[ii,nn]\n",
    "        count+=1\n",
    "print(count)\n",
    "print(corrs_delta.shape)\n",
    "print(len(indices))"
   ]
  },
  {
   "cell_type": "code",
   "execution_count": null,
   "metadata": {},
   "outputs": [],
   "source": [
    "def get_matrix_at_L(Lind):\n",
    "    interp_matrix = np.zeros((len(zs),len(zs)))\n",
    "    \n",
    "    for ii in range(0,len(zs)):\n",
    "        \n",
    "        for jj in range(ii,len(zs)): #track correlation only for delta z = 0.5\n",
    "\n",
    "                index = np.all(np.equal(indices,[ii,jj]),axis=1)\n",
    "                #print(ii,jj,np.where(index))\n",
    "                val = corrs_delta[Lind,index]\n",
    "                  \n",
    "                interp_matrix[ii,jj] = val\n",
    "\n",
    "                interp_matrix[jj,ii] = interp_matrix[ii,jj] #hopefully creates only a pointer :)\n",
    "    return interp_matrix\n",
    "\n",
    "\n",
    "interp_matrix100  = get_matrix_at_L(100-2)\n",
    "interp_matrix1000 = get_matrix_at_L(1000-2)\n",
    "interp_matrix10   = get_matrix_at_L(10-2)\n",
    "interp_matrix2   = get_matrix_at_L(0)\n"
   ]
  },
  {
   "cell_type": "code",
   "execution_count": null,
   "metadata": {},
   "outputs": [],
   "source": []
  },
  {
   "cell_type": "code",
   "execution_count": null,
   "metadata": {},
   "outputs": [],
   "source": [
    "data  = C.CosmoData(C.Planck2015[1],np.linspace(0.,5.,400))\n",
    "chi   = data.chi(zs)"
   ]
  },
  {
   "cell_type": "code",
   "execution_count": null,
   "metadata": {},
   "outputs": [],
   "source": [
    "max_int = len(zs)\n",
    "\n",
    "plt.figure()\n",
    "plt.imshow(np.log(interp_matrix2)[0:max_int,0:max_int],interpolation='none')#,vmin=-20,vmax=1)\n",
    "plt.imshow(np.log(-interp_matrix2)[0:max_int,0:max_int],interpolation='none')\n",
    "plt.colorbar()\n",
    "plt.show()\n",
    "\n",
    "\n",
    "plt.figure()\n",
    "plt.imshow(np.log(interp_matrix10)[0:max_int,0:max_int],vmin=-8,vmax=-1.0,interpolation='none')#,vmin=-20,vmax=1)\n",
    "plt.imshow(np.log(-interp_matrix10)[0:max_int,0:max_int],vmin=-8,vmax=-1.0,interpolation='none')\n",
    "plt.colorbar()\n",
    "plt.show()\n",
    "\n",
    "plt.figure()\n",
    "plt.imshow(np.log(interp_matrix100)[0:max_int,0:max_int],vmin=-8,vmax=-1.0,interpolation='none')\n",
    "plt.imshow(np.log(-interp_matrix100)[0:max_int,0:max_int],vmin=-8,vmax=-1.,interpolation='none')\n",
    "plt.colorbar()\n",
    "plt.show()\n",
    "\n",
    "\n",
    "plt.figure()\n",
    "plt.imshow(np.log(interp_matrix1000)[0:max_int,0:max_int],vmin=-8,vmax=-1.8,interpolation='none')#,vmin=-20,vmax=1)\n",
    "plt.imshow(np.log(-interp_matrix1000)[0:max_int,0:max_int],vmin=-8,vmax=-1.8,interpolation='none')\n",
    "plt.colorbar()\n",
    "plt.show()"
   ]
  },
  {
   "cell_type": "code",
   "execution_count": null,
   "metadata": {},
   "outputs": [],
   "source": [
    "plt.figure()\n",
    "plt.imshow(np.log(interp_matrix10)[-max_int:-1,-max_int:-1],vmin=-8,vmax=-3,interpolation='none')#,vmin=-20,vmax=1)\n",
    "plt.imshow(np.log(-interp_matrix10)[-max_int:-1,-max_int:-1],vmin=-8,vmax=-3,interpolation='none')\n",
    "plt.colorbar()\n",
    "plt.show()\n",
    "\n",
    "plt.figure()\n",
    "plt.imshow(np.log(interp_matrix100)[-max_int:-1,-max_int:-1],vmin=-8,vmax=-3,interpolation='none')\n",
    "plt.imshow(np.log(-interp_matrix100)[-max_int:-1,-max_int:-1],vmin=-8,vmax=-3,interpolation='none')\n",
    "plt.colorbar()\n",
    "plt.show()\n",
    "\n",
    "\n",
    "plt.figure()\n",
    "plt.imshow(np.log(interp_matrix1000)[-max_int:-1,-max_int:-1],vmin=-8,vmax=-3,interpolation='none')\n",
    "plt.imshow(np.log(-interp_matrix1000)[-max_int:-1,-max_int:-1],vmin=-8,vmax=-3,interpolation='none')\n",
    "plt.colorbar()\n",
    "plt.show()"
   ]
  },
  {
   "cell_type": "code",
   "execution_count": null,
   "metadata": {},
   "outputs": [],
   "source": [
    "window = set_tophat(min(zs),max(zs))\n",
    "chi1, chi2 = np.meshgrid(chi,chi)\n",
    "\n",
    "result =[]\n",
    "for L_ind in np.arange(0,2999):\n",
    "    print(L_ind)\n",
    "    LL = L[L_ind]\n",
    "    matrix          = get_matrix_at_L(L_ind)\n",
    "    weighted_matrix = window(zs1)*data.dchidz(zs1)**(-1)*window(zs2)*data.dchidz(zs2)**(-1)*matrix#Cl_psidelta(chi1,zs1,L[L_ind],matrix,cosmo=data)\n",
    "    \n",
    "    res = []\n",
    "    for ii in range(len(zs)):\n",
    "        res+=[np.trapz(weighted_matrix[ii],chi)]\n",
    "\n",
    "    \n",
    "    result+=[np.trapz(res,chi)]\n"
   ]
  },
  {
   "cell_type": "code",
   "execution_count": null,
   "metadata": {},
   "outputs": [],
   "source": [
    "print(data.dchidz(zs2)**(-1)*data.dchidz(zs1)**(-1))"
   ]
  },
  {
   "cell_type": "code",
   "execution_count": null,
   "metadata": {},
   "outputs": [],
   "source": [
    "print(result)"
   ]
  },
  {
   "cell_type": "code",
   "execution_count": null,
   "metadata": {},
   "outputs": [],
   "source": [
    "plotpath = '/home/nessa/Documents/Projects/LensingBispectrum/CMB-nonlinear/CrossPostBorn/results/plots/vanessa/'"
   ]
  },
  {
   "cell_type": "code",
   "execution_count": null,
   "metadata": {},
   "outputs": [],
   "source": [
    "plt.figure()\n",
    "plt.loglog(L,corrs_tophat,label='CLASS')\n",
    "plt.loglog(L,np.asarray(result),label='our test')\n",
    "plt.xlim(min(L),1000)\n",
    "plt.legend(loc='lower left')\n",
    "plt.savefig(plotpath+'tophat_comparison_baseline.png')\n",
    "plt.show()"
   ]
  },
  {
   "cell_type": "code",
   "execution_count": null,
   "metadata": {},
   "outputs": [],
   "source": [
    "plt.figure()\n",
    "plt.semilogx(L,np.asarray(result)/corrs_tophat-1,label='CLASS/our test -1 ')\n",
    "plt.xlim(min(L),1000)\n",
    "plt.legend(loc='lower right')\n",
    "plt.ylim(-0.0,0.5)\n",
    "plt.savefig(plotpath+'tophat_comparison_baseline_relative.png')"
   ]
  },
  {
   "cell_type": "code",
   "execution_count": null,
   "metadata": {},
   "outputs": [],
   "source": []
  }
 ],
 "metadata": {
  "kernelspec": {
   "display_name": "Python 2",
   "language": "python",
   "name": "python2"
  },
  "language_info": {
   "codemirror_mode": {
    "name": "ipython",
    "version": 2
   },
   "file_extension": ".py",
   "mimetype": "text/x-python",
   "name": "python",
   "nbconvert_exporter": "python",
   "pygments_lexer": "ipython2",
   "version": "2.7.14"
  }
 },
 "nbformat": 4,
 "nbformat_minor": 2
}
