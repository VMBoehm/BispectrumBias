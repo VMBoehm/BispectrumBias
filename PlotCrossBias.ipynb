{
 "cells": [
  {
   "cell_type": "code",
   "execution_count": null,
   "metadata": {},
   "outputs": [],
   "source": [
    "from __future__ import division\n",
    "import numpy as np\n",
    "import pickle\n",
    "import Cosmology as Cosmo\n",
    "import matplotlib.pyplot as plt"
   ]
  },
  {
   "cell_type": "code",
   "execution_count": null,
   "metadata": {},
   "outputs": [],
   "source": [
    "params  = Cosmo.Planck2015\n",
    "tag     = params[0]['name']\n",
    "field   = 'tt'\n",
    "nl      = True\n",
    "div     = False"
   ]
  },
  {
   "cell_type": "code",
   "execution_count": null,
   "metadata": {},
   "outputs": [],
   "source": [
    "thetaFWHMarcmin = 1. #beam FWHM\n",
    "noiseUkArcmin   = 1. #eval(sys.argv[1]) #Noise level in uKarcmin\n",
    "l_max_T         = 4000\n",
    "l_max_P         = 4000\n",
    "l_min           = 50\n",
    "L_max           = 6000 #for l integration\n",
    "L_min           = 1\n",
    "TCMB            = 2.7255e6\n",
    "div             = False #divide EB by factor of 2.5\n",
    "exp             = 'CMB-S4'\n",
    "\n",
    "len_ang         = 400\n",
    "len_l           = 4608\n",
    "\n",
    "\n",
    "if l_max_T!=l_max_P:\n",
    "    lmax='mixedlmax_%d_%d'%(l_max_T,l_max_P)\n",
    "else:\n",
    "    lmax=str(l_max_T)\n",
    "\n",
    "if nl:\n",
    "  nl_='_nl'\n",
    "else:\n",
    "  nl_=''\n",
    "\n",
    "if div:\n",
    "    print 'Dividing EB by factor 2.5!'\n",
    "    no_div='div25'\n",
    "else:\n",
    "    no_div='nodiv'\n",
    "\n",
    "biaspath = '/home/nessa/Documents/Projects/LensingBispectrum/CMB-nonlinear/biasResults/Cross/kkg/lmin%d_lmax%d_noise%d_theta%d/'%(l_min,l_max_T,noiseUkArcmin,thetaFWHMarcmin*10)\n",
    "ALpath   = './outputs/N0files/'\n",
    "outputpath = '/home/nessa/Documents/Projects/LensingBispectrum/CMB-nonlinear/outputs/CrossBias/kkg/'\n",
    "plotpath = '/home/nessa/Documents/Projects/LensingBispectrum/CMB-nonlinear/biasResults/Cross/plots/'"
   ]
  },
  {
   "cell_type": "code",
   "execution_count": null,
   "metadata": {},
   "outputs": [],
   "source": [
    "ellpath=\"/home/nessa/Documents/Projects/LensingBispectrum/CMB-nonlinear/outputs/ells/\"\n",
    "L,l,theta = pickle.load(open(ellpath+'ell_ang_full_Lmin1_Lmax3000_lmin1_lmax8000_lenL120_lenl140_lenang120_1e-04.pkl','r'))\n",
    "path='/home/nessa/Documents/Projects/LensingBispectrum/CMB-nonlinear/outputs/power_spectra/'\n",
    "noisepath='/home/nessa/Documents/Projects/LensingBispectrum/CMB-nonlinear/outputs/noise_curves/'\n",
    "zmin=[0,0.5,1,2,3,0]\n",
    "zmax=[0.5,1,2,3,4,'$z_{cmb}$']\n",
    "ngal =[14.3,23.9,21.6,3.7,1.5,65.7]"
   ]
  },
  {
   "cell_type": "code",
   "execution_count": null,
   "metadata": {},
   "outputs": [],
   "source": [
    "from scipy.interpolate import interp1d\n",
    "bias=[]\n",
    "cls=[]\n",
    "noise=[]\n",
    "bins= [0,1,2,3,4,'all']\n",
    "LL = np.arange(100,2999)\n",
    "for LSST_bin in bins:\n",
    "    Ls, bias_ = pickle.load(open(biaspath+'Totbias_%d_%d_%s.pkl'%(len_ang,len_l,str(LSST_bin))))\n",
    "    bias_    = interp1d(Ls,bias_,kind='cubic')\n",
    "    filename = ALpath+'%s_N0_%s_%d_%d%d_%s%s.pkl'%(tag,lmax,l_min,10*noiseUkArcmin,10*thetaFWHMarcmin,no_div,nl_)\n",
    "    LA,NL_KK = pickle.load(open(filename,'r'))\n",
    "    AL       = np.interp(LL,LA,NL_KK['tt'])\n",
    "    bias     +=[1/2.*LL**2*AL*bias_(LL)]\n",
    "    cl       =np.load(path+'CL_kg_LSSTbin%s_full_Planck2015_Lmin1-Lmax2999_halofit.npy'%str(LSST_bin))\n",
    "    ll,_,_,_,noise_gg,noise_kg,noise_kk = pickle.load(open(noisepath+'Gaussian_variances_%s_%s_LSSTbin%s_full_%s_%s.pkl'%(exp,lmax,str(LSST_bin),tag,'dndz_LSST_i27_SN5_3y'),'r'))\n",
    "    cls      +=[np.interp(LL,L,cl)]\n",
    "    noise    +=[np.interp(LL,ll,noise_kg)]\n",
    "pickle.dump([bins,LL,bias,noise,cls],open(outputpath+'N32bias_%s_%d_%d_%d_%d.pkl'%(tag,thetaFWHMarcmin,noiseUkArcmin,l_min,l_max_T),'w'))"
   ]
  },
  {
   "cell_type": "code",
   "execution_count": null,
   "metadata": {},
   "outputs": [],
   "source": [
    "#plt.style.use('classic')\n",
    "lmin=500\n",
    "lmax=3000\n",
    "colors=['r','b','g','c','orange','black']\n",
    "plt.figure()\n",
    "for ii in [0,1,2,3,4,5]:\n",
    " \n",
    "    plt.loglog(LL,cls[ii],c=colors[ii])\n",
    "    plt.fill_between(LL,cls[ii]-noise[ii],cls[ii]+noise[ii],color=colors[ii],alpha=0.1)\n",
    "    plt.xlim(100,3000)\n",
    "    print 'bin', bins[ii]\n",
    "    print 'tot S/N', np.sqrt(np.sum((cls[ii]/noise[ii])**2))\n",
    "    print 'tot bias/noise', np.sqrt(np.sum((bias[ii]/noise[ii])**2))"
   ]
  },
  {
   "cell_type": "code",
   "execution_count": null,
   "metadata": {},
   "outputs": [],
   "source": [
    "#plt.style.use(['seaborn-colorblind','paper'])\n",
    "plt.figure(figsize=(7.5,5))\n",
    "ii=5\n",
    "plt.plot(LL,bias[ii]/cls[ii]*100,lw=2.5,ls='--',c='black',label='z=%.1f-%s'%(zmin[ii],str(zmax[ii])))\n",
    "for ii in np.arange(len(bins)-1):\n",
    "    plt.plot(LL,bias[ii]/cls[ii]*100,lw=2,label='z=%.1f-%s'%(zmin[ii],str(zmax[ii])))\n",
    "plt.xlabel('L',fontsize=14)\n",
    "plt.title('$\\ell_{max}$=%d'%l_max_T,fontsize=14)\n",
    "plt.ylabel('Bias/Signal in %',fontsize=14)\n",
    "plt.legend(fontsize=12)\n",
    "plt.xlim(100,3000)\n",
    "plt.xticks([100,500,1000,1500,2000,2500,3000])\n",
    "plt.savefig(plotpath+'Bias_over_Signal_LSST_lmax%d.pdf'%l_max_T,bbox_inches='tight')\n",
    "plt.show()"
   ]
  },
  {
   "cell_type": "code",
   "execution_count": null,
   "metadata": {},
   "outputs": [],
   "source": [
    "# binning\n",
    "deltaL= 100\n",
    "binned_bias=[]\n",
    "binned_noise=[]\n",
    "for ii in np.arange(len(bins)):\n",
    "    inc = 0\n",
    "    res =[]\n",
    "    res2=[]\n",
    "    L_=[]\n",
    "    while inc<max(LL):\n",
    "        res+=[np.mean(bias[ii][inc:inc+deltaL])]\n",
    "        res2+=[np.mean(noise[ii][inc:inc+deltaL])]\n",
    "        inc+=deltaL\n",
    "        L_+=[np.mean(LL[inc:inc+deltaL])]\n",
    "    binned_bias+=[np.asarray(res)]\n",
    "    binned_noise+=[np.asarray(res2)]\n"
   ]
  },
  {
   "cell_type": "code",
   "execution_count": null,
   "metadata": {},
   "outputs": [],
   "source": [
    "plt.figure()\n",
    "ii=5\n",
    "plt.plot(L_,binned_bias[ii]/binned_noise[ii],lw=2.5,ls ='',marker='o',c='black',label='z=%.1f-%s, n=%.1f arcmin$^{-2}$'%(zmin[ii],str(zmax[ii]),ngal[ii]))\n",
    "for ii in np.arange(len(bins)-1):\n",
    "    plt.plot(L_,binned_bias[ii]/binned_noise[ii],ls ='',marker='o',label='z=%.1f-%.1f, n=%.1f arcmin$^{-2}$'%(zmin[bins[ii]],zmax[bins[ii]],ngal[bins[ii]]))\n",
    "plt.title('$\\ell_{max}$=%d'%l_max_T,fontsize=14)\n",
    "plt.legend(fontsize=12,loc=(1.02,0.33))\n",
    "plt.ylabel('Bias/Noise',fontsize=14)\n",
    "plt.xlabel('L',fontsize=14)\n",
    "plt.xlim(100,3000)\n",
    "plt.xticks([100,500,1000,1500,2000,2500,3000])\n",
    "plt.savefig(plotpath+'Bias_over_Noise_LSST_lmax%d.pdf'%l_max_T,bbox_inches='tight')"
   ]
  }
 ],
 "metadata": {
  "kernelspec": {
   "display_name": "Python 2",
   "language": "python",
   "name": "python2"
  },
  "language_info": {
   "codemirror_mode": {
    "name": "ipython",
    "version": 2
   },
   "file_extension": ".py",
   "mimetype": "text/x-python",
   "name": "python",
   "nbconvert_exporter": "python",
   "pygments_lexer": "ipython2",
   "version": "2.7.14"
  }
 },
 "nbformat": 4,
 "nbformat_minor": 2
}
